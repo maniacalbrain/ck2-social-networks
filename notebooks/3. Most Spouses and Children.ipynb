{
 "cells": [
  {
   "cell_type": "code",
   "execution_count": 1,
   "metadata": {
    "collapsed": true
   },
   "outputs": [],
   "source": [
    "from pymongo import MongoClient\n",
    "import pandas as pd\n",
    "import datetime"
   ]
  },
  {
   "cell_type": "code",
   "execution_count": 2,
   "metadata": {
    "collapsed": true
   },
   "outputs": [],
   "source": [
    "client = MongoClient()\n",
    "characters = client.ck2.characters"
   ]
  },
  {
   "cell_type": "markdown",
   "metadata": {},
   "source": [
    "# Most Spouses"
   ]
  },
  {
   "cell_type": "markdown",
   "metadata": {},
   "source": [
    "Not the most interesting statistic as Islamic characters can have multiple wives. 18 is still a large number! To find the non-Islamic character with the most spouses would require a match excluding any character with an Islamic religion and is from a dynasty that does not have an Islamic religion UNLESS they also have a non Islamic character religion culture. If not set the character defaults to dynasty religion. If set the character defaults to their character religion. Same with culture.  "
   ]
  },
  {
   "cell_type": "code",
   "execution_count": 3,
   "metadata": {
    "collapsed": true
   },
   "outputs": [],
   "source": [
    "pipeline = [\n",
    "    {\n",
    "        \"$match\" : {\"spouse\" : {\"$exists\" : True}}        \n",
    "    },\n",
    "    {\n",
    "        \"$lookup\":{\n",
    "            \"from\" : \"dynasties\",\n",
    "            \"localField\" : \"dnt\",\n",
    "            \"foreignField\" : \"_id\",\n",
    "            \"as\" : \"dynasty\"\n",
    "        }\n",
    "    },\n",
    "    {\n",
    "        \"$unwind\" : \"$dynasty\"\n",
    "    },\n",
    "    {\n",
    "        \"$project\" : {\"_id\" : 1, \"name\" : {\"$concat\" : [\"$bn\", \" \", \"$dynasty.name\"]}, \"num_spouses\" : {\"$size\" : \"$spouse\"}}\n",
    "    },\n",
    "    {\n",
    "        \"$sort\" : {\"num_spouses\" : -1}\n",
    "    },\n",
    "    {\n",
    "        \"$limit\" : 25\n",
    "    }\n",
    "]"
   ]
  },
  {
   "cell_type": "code",
   "execution_count": 4,
   "metadata": {},
   "outputs": [
    {
     "name": "stdout",
     "output_type": "stream",
     "text": [
      "{'_id': 900724, 'name': 'Faruk Kubasarid', 'num_spouses': 18}\n",
      "{'_id': 746634, 'name': 'Aram Tabghach', 'num_spouses': 17}\n",
      "{'_id': 626573, 'name': 'Umar Muhallabid', 'num_spouses': 15}\n",
      "{'_id': 639370, 'name': 'Vidurathpal Ayudha', 'num_spouses': 14}\n",
      "{'_id': 564515, 'name': 'Shamir Aslamid', 'num_spouses': 14}\n",
      "{'_id': 674893, 'name': 'Akin Tabghach', 'num_spouses': 14}\n",
      "{'_id': 868963, 'name': 'Musa Amrubid', 'num_spouses': 14}\n",
      "{'_id': 848082, 'name': 'Photios Kritopolos', 'num_spouses': 13}\n",
      "{'_id': 528483, 'name': 'Abu-Bakr Abbasid', 'num_spouses': 13}\n",
      "{'_id': 810106, 'name': 'Salivaahan Ayudha', 'num_spouses': 13}\n",
      "{'_id': 914243, 'name': 'Anatolios Demetrianos', 'num_spouses': 13}\n",
      "{'_id': 916342, 'name': 'Uways Abbasid', 'num_spouses': 13}\n",
      "{'_id': 737411, 'name': 'Mubarak Kubasarid', 'num_spouses': 13}\n",
      "{'_id': 753169, 'name': 'Hussayn Abd al-Qays', 'num_spouses': 13}\n",
      "{'_id': 515555, 'name': 'Halil Umayyad', 'num_spouses': 13}\n",
      "{'_id': 651237, 'name': 'Vakpati Bhatti', 'num_spouses': 12}\n",
      "{'_id': 857732, 'name': 'Nasr Isaid', 'num_spouses': 12}\n",
      "{'_id': 655186, 'name': 'Madanapala Ayudha', 'num_spouses': 12}\n",
      "{'_id': 568522, 'name': 'Nazar Azimid', 'num_spouses': 12}\n",
      "{'_id': 515842, 'name': 'Ali Nadirid', 'num_spouses': 12}\n",
      "{'_id': 878688, 'name': 'Akin Abbasid', 'num_spouses': 12}\n",
      "{'_id': 830526, 'name': 'Hirapal Chhinda', 'num_spouses': 12}\n",
      "{'_id': 775861, 'name': 'Hussayn Isaid', 'num_spouses': 12}\n",
      "{'_id': 510477, 'name': 'Nazar Azimid', 'num_spouses': 12}\n",
      "{'_id': 881261, 'name': 'Bhojavarman Ayudha', 'num_spouses': 12}\n"
     ]
    }
   ],
   "source": [
    "for karl in characters.aggregate(pipeline):\n",
    "    print(karl)"
   ]
  },
  {
   "cell_type": "markdown",
   "metadata": {},
   "source": [
    "# Most Children - Men"
   ]
  },
  {
   "cell_type": "markdown",
   "metadata": {},
   "source": [
    "### Legitimate"
   ]
  },
  {
   "cell_type": "markdown",
   "metadata": {},
   "source": [
    "The following cell matches on all characters who have a fat value but do not have an rfat value. This means that they are recognised by their father and there stated father is their real father. It is still possible that they are illegitimate if born out of wedlock but recognised by their father. Such a character would have the \"Bastard\" trait. I did not extract the traits for characters but this could be added to get a better figure. \n",
    "\n",
    "Gamall Kill, the Count of Ulster, had 21 children, all with a fat value and no rfat. Many of them did have the \"Bastard\" trait though. The below are the male characters with the most recognised children."
   ]
  },
  {
   "cell_type": "code",
   "execution_count": 5,
   "metadata": {
    "collapsed": true
   },
   "outputs": [],
   "source": [
    "pipeline = [\n",
    "    {\n",
    "        \"$match\" : {\"fat\" : {\"$exists\" : True}, \"rfat\" : {\"$exists\" : False}}\n",
    "    },\n",
    "    {\n",
    "        \"$lookup\":{\n",
    "            \"from\" : \"characters\",\n",
    "            \"localField\" : \"fat\",\n",
    "            \"foreignField\" : \"_id\",\n",
    "            \"as\" : \"father\"\n",
    "        }\n",
    "    },\n",
    "    {\n",
    "        \"$unwind\" : \"$father\"\n",
    "    },\n",
    "    {\n",
    "        \"$lookup\":{\n",
    "            \"from\" : \"dynasties\",\n",
    "            \"localField\" : \"father.dnt\",\n",
    "            \"foreignField\" : \"_id\",\n",
    "            \"as\" : \"dynasty\"\n",
    "        }\n",
    "    },\n",
    "    {\n",
    "        \"$unwind\" : \"$dynasty\"\n",
    "    },\n",
    "    \n",
    "    {\n",
    "        \"$group\" : {\"_id\" : \"$father._id\", \n",
    "                    \"firstname\" : {\"$first\" : \"$father.bn\"},  \n",
    "                    \"surname\" : {\"$first\" : \"$dynasty.name\"},\n",
    "                    \"children\" : {\"$sum\" : 1},\n",
    "                    \"d_d\" : {\"$first\" : \"$father.d_d\"}\n",
    "                   \n",
    "                   }\n",
    "    },\n",
    "    {\n",
    "        \"$project\" : {\"_id\" : 1, \"name\" : {\"$concat\" : [\"$firstname\", \" \", \"$surname\"]}, \"children\" : \"$children\", \"d_d\" : \"$d_d\" }\n",
    "    },\n",
    "    {\n",
    "        \"$sort\" : {\"children\" : -1}\n",
    "    },\n",
    "    {\n",
    "        \"$limit\" : 10\n",
    "    }\n",
    "]"
   ]
  },
  {
   "cell_type": "code",
   "execution_count": 6,
   "metadata": {},
   "outputs": [
    {
     "name": "stdout",
     "output_type": "stream",
     "text": [
      "{'_id': 713161, 'name': 'Gamall Kiil', 'children': 21, 'd_d': datetime.datetime(1120, 4, 2, 0, 0)}\n",
      "{'_id': 731076, 'name': 'Guiges de Trith', 'children': 20, 'd_d': datetime.datetime(1151, 6, 25, 0, 0)}\n",
      "{'_id': 945988, 'name': 'Raolf de Fontiès', 'children': 19, 'd_d': datetime.datetime(1377, 8, 9, 0, 0)}\n",
      "{'_id': 648513, 'name': 'Baudouin Nibelunging', 'children': 18, 'd_d': datetime.datetime(1049, 8, 6, 0, 0)}\n",
      "{'_id': 910564, 'name': 'Ælfsige Mel', 'children': 18, 'd_d': datetime.datetime(1354, 1, 5, 0, 0)}\n",
      "{'_id': 928025, 'name': 'Sulayman Musaid', 'children': 17, 'd_d': datetime.datetime(1372, 9, 22, 0, 0)}\n",
      "{'_id': 863684, 'name': 'Itakh Yabghu', 'children': 17, 'd_d': datetime.datetime(1306, 6, 25, 0, 0)}\n",
      "{'_id': 671613, 'name': 'Petrus Lambertingi', 'children': 16, 'd_d': datetime.datetime(1063, 2, 6, 0, 0)}\n",
      "{'_id': 633851, 'name': 'Ali Musaid', 'children': 16, 'd_d': datetime.datetime(1018, 2, 16, 0, 0)}\n",
      "{'_id': 746668, 'name': 'Isa Shaiban', 'children': 16, 'd_d': datetime.datetime(1158, 5, 21, 0, 0)}\n"
     ]
    }
   ],
   "source": [
    "for karl in characters.aggregate(pipeline):\n",
    "    print(karl)"
   ]
  },
  {
   "cell_type": "markdown",
   "metadata": {},
   "source": [
    "## Raising someone elses child"
   ]
  },
  {
   "cell_type": "markdown",
   "metadata": {},
   "source": [
    "The below characters are raising someone elses child and don't know it. In the case of Uways Abbasid he is raising 17 kids that aren't his! These children had both a fat value set (their stated father, in this case Uways) and an rfat value (their real father, in this case not Uways!) Uways rules Arabia and on his death in 1367 he is succeeded by his \"grandson\". \n",
    "Note also Bishop Ioann Liutfredingi and Mayor Theudoald Rodoaldingi of Genoa bringing up 6 children each. Their wives appear further down."
   ]
  },
  {
   "cell_type": "code",
   "execution_count": 7,
   "metadata": {
    "collapsed": true
   },
   "outputs": [],
   "source": [
    "pipeline = [\n",
    "    {\n",
    "        \"$match\" : {\"fat\" : {\"$exists\" : True}, \"rfat\" : {\"$exists\" : True} }\n",
    "    },\n",
    "    {\n",
    "        \"$lookup\":{\n",
    "            \"from\" : \"characters\",\n",
    "            \"localField\" : \"fat\",\n",
    "            \"foreignField\" : \"_id\",\n",
    "            \"as\" : \"father\"\n",
    "        }\n",
    "    },\n",
    "    {\n",
    "        \"$unwind\" : \"$father\"\n",
    "    },\n",
    "    {\n",
    "        \"$lookup\":{\n",
    "            \"from\" : \"dynasties\",\n",
    "            \"localField\" : \"father.dnt\",\n",
    "            \"foreignField\" : \"_id\",\n",
    "            \"as\" : \"dynasty\"\n",
    "        }\n",
    "    },\n",
    "    {\n",
    "        \"$unwind\" : \"$dynasty\"\n",
    "    },\n",
    "    \n",
    "    {\n",
    "        \"$group\" : {\"_id\" : \"$father._id\", \n",
    "                    \"firstname\" : {\"$first\" : \"$father.bn\"},  \n",
    "                    \"surname\" : {\"$first\" : \"$dynasty.name\"},\n",
    "                    \"children\" : {\"$sum\" : 1},\n",
    "                    \"d_d\" : {\"$first\" : \"$father.d_d\"}\n",
    "                   \n",
    "                   }\n",
    "    },\n",
    "    {\n",
    "        \"$project\" : {\"_id\" : 1, \"name\" : {\"$concat\" : [\"$firstname\", \" \", \"$surname\"]}, \"children\" : \"$children\", \"d_d\" : \"$d_d\" }\n",
    "    },\n",
    "    {\n",
    "        \"$sort\" : {\"children\" : -1}\n",
    "    },\n",
    "    {\n",
    "        \"$limit\" : 25\n",
    "    }\n",
    "]"
   ]
  },
  {
   "cell_type": "code",
   "execution_count": 8,
   "metadata": {},
   "outputs": [
    {
     "name": "stdout",
     "output_type": "stream",
     "text": [
      "{'_id': 916342, 'name': 'Uways Abbasid', 'children': 17, 'd_d': datetime.datetime(1367, 6, 15, 0, 0)}\n",
      "{'_id': 194105, 'name': 'Ankad Penikis', 'children': 10, 'd_d': datetime.datetime(802, 9, 10, 0, 0)}\n",
      "{'_id': 996133, 'name': 'Narses Kyritzios', 'children': 8, 'd_d': None}\n",
      "{'_id': 911691, 'name': 'Theodoros Haplorabdes', 'children': 7, 'd_d': datetime.datetime(1363, 11, 12, 0, 0)}\n",
      "{'_id': 190449, 'name': 'Remigius Leudoni', 'children': 7, 'd_d': datetime.datetime(787, 12, 22, 0, 0)}\n",
      "{'_id': 735537, 'name': 'Talib Aligoodarzid', 'children': 7, 'd_d': datetime.datetime(1146, 11, 6, 0, 0)}\n",
      "{'_id': 719712, 'name': 'Gedigaudas Penikis', 'children': 7, 'd_d': datetime.datetime(1137, 10, 1, 0, 0)}\n",
      "{'_id': 512214, 'name': 'Styrkar Skjöldung', 'children': 6, 'd_d': datetime.datetime(833, 7, 11, 0, 0)}\n",
      "{'_id': 805038, 'name': 'Yerneslu Yerneslu', 'children': 6, 'd_d': datetime.datetime(1210, 1, 11, 0, 0)}\n",
      "{'_id': 535166, 'name': 'Giselmar Theodericing', 'children': 6, 'd_d': datetime.datetime(868, 7, 3, 0, 0)}\n",
      "{'_id': 843286, 'name': 'Ioann Liutfredingi', 'children': 6, 'd_d': datetime.datetime(1289, 6, 11, 0, 0)}\n",
      "{'_id': 627520, 'name': 'Theudoald Rodoaldingi', 'children': 6, 'd_d': datetime.datetime(992, 8, 13, 0, 0)}\n",
      "{'_id': 737411, 'name': 'Mubarak Kubasarid', 'children': 5, 'd_d': datetime.datetime(1141, 2, 21, 0, 0)}\n",
      "{'_id': 501885, 'name': 'Sirçan Sirçan', 'children': 5, 'd_d': datetime.datetime(796, 3, 14, 0, 0)}\n",
      "{'_id': 785590, 'name': 'Scule Mel', 'children': 5, 'd_d': datetime.datetime(1203, 11, 23, 0, 0)}\n",
      "{'_id': 523506, 'name': 'Uditanarayan Malayaketu', 'children': 5, 'd_d': datetime.datetime(861, 7, 19, 0, 0)}\n",
      "{'_id': 718220, 'name': 'Kilân Alupa', 'children': 5, 'd_d': datetime.datetime(1133, 6, 21, 0, 0)}\n",
      "{'_id': 810456, 'name': 'Meletios Haplorabdes', 'children': 5, 'd_d': datetime.datetime(1253, 4, 25, 0, 0)}\n",
      "{'_id': 513206, 'name': 'Otbert Australdling', 'children': 5, 'd_d': datetime.datetime(820, 6, 23, 0, 0)}\n",
      "{'_id': 557766, 'name': 'Bachman Idiqut', 'children': 5, 'd_d': datetime.datetime(912, 3, 7, 0, 0)}\n",
      "{'_id': 904888, 'name': 'Adfuns Kirdar', 'children': 5, 'd_d': datetime.datetime(1354, 1, 13, 0, 0)}\n",
      "{'_id': 863703, 'name': 'Rangraj Ramachandrid', 'children': 5, 'd_d': datetime.datetime(1291, 8, 5, 0, 0)}\n",
      "{'_id': 770274, 'name': 'Mirza Tabghach', 'children': 5, 'd_d': datetime.datetime(1191, 3, 23, 0, 0)}\n",
      "{'_id': 593629, 'name': 'Adhandev Surasena', 'children': 5, 'd_d': datetime.datetime(951, 2, 2, 0, 0)}\n",
      "{'_id': 638032, 'name': 'Waclaw Sieradzki', 'children': 5, 'd_d': datetime.datetime(1016, 2, 25, 0, 0)}\n"
     ]
    }
   ],
   "source": [
    "for karl in characters.aggregate(pipeline):\n",
    "    print(karl)"
   ]
  },
  {
   "cell_type": "markdown",
   "metadata": {},
   "source": [
    "# Dumping your children on someone else"
   ]
  },
  {
   "cell_type": "markdown",
   "metadata": {},
   "source": [
    "The following uses the same code as above but the localField used is now rfat instead of fat. This lets us group by the real father to see who has had the most affairs and gotten away with it. Abdul-Razzaq Hassan, the Count of Lisboa has 22 children out in the world being bought up as someone elses. Muhammad Alepo and Angilbert Bouvinid also rank in the next calculation."
   ]
  },
  {
   "cell_type": "code",
   "execution_count": 9,
   "metadata": {
    "collapsed": true
   },
   "outputs": [],
   "source": [
    "pipeline = [\n",
    "    {\n",
    "        \"$match\" : {\"fat\" : {\"$exists\" : True}, \"rfat\" : {\"$exists\" : True}}\n",
    "    },\n",
    "    {\n",
    "        \"$lookup\":{\n",
    "            \"from\" : \"characters\",\n",
    "            \"localField\" : \"rfat\",\n",
    "            \"foreignField\" : \"_id\",\n",
    "            \"as\" : \"father\"\n",
    "        }\n",
    "    },\n",
    "    {\n",
    "        \"$unwind\" : \"$father\"\n",
    "    },\n",
    "    {\n",
    "        \"$lookup\":{\n",
    "            \"from\" : \"dynasties\",\n",
    "            \"localField\" : \"father.dnt\",\n",
    "            \"foreignField\" : \"_id\",\n",
    "            \"as\" : \"dynasty\"\n",
    "        }\n",
    "    },\n",
    "    {\n",
    "        \"$unwind\" : \"$dynasty\"\n",
    "    },\n",
    "    \n",
    "    {\n",
    "        \"$group\" : {\"_id\" : \"$father._id\", \n",
    "                    \"firstname\" : {\"$first\" : \"$father.bn\"},  \n",
    "                    \"surname\" : {\"$first\" : \"$dynasty.name\"},\n",
    "                    \"children\" : {\"$sum\" : 1},\n",
    "                    \"d_d\" : {\"$first\" : \"$father.d_d\"}\n",
    "                   \n",
    "                   }\n",
    "    },\n",
    "    {\n",
    "        \"$project\" : {\"_id\" : 1, \"name\" : {\"$concat\" : [\"$firstname\", \" \", \"$surname\"]}, \"children\" : \"$children\", \"d_d\" : \"$d_d\" }\n",
    "    },\n",
    "    {\n",
    "        \"$sort\" : {\"children\" : -1}\n",
    "    },\n",
    "    {\n",
    "        \"$limit\" : 15\n",
    "    }\n",
    "]"
   ]
  },
  {
   "cell_type": "code",
   "execution_count": 10,
   "metadata": {},
   "outputs": [
    {
     "name": "stdout",
     "output_type": "stream",
     "text": [
      "{'_id': 923758, 'name': 'Abdul-Razzaq Hasan', 'children': 22, 'd_d': datetime.datetime(1354, 8, 11, 0, 0)}\n",
      "{'_id': 629398, 'name': 'Muhammad Aleppo', 'children': 21, 'd_d': datetime.datetime(994, 7, 15, 0, 0)}\n",
      "{'_id': 91397, 'name': 'Angilbert Bouvinid', 'children': 20, 'd_d': datetime.datetime(810, 7, 6, 0, 0)}\n",
      "{'_id': 790965, 'name': 'Husam Quen', 'children': 20, 'd_d': datetime.datetime(1214, 7, 22, 0, 0)}\n",
      "{'_id': 191969, 'name': 'Govinda Naru', 'children': 17, 'd_d': datetime.datetime(806, 10, 2, 0, 0)}\n",
      "{'_id': 653178, 'name': 'Ubayd Akin', 'children': 17, 'd_d': datetime.datetime(1053, 1, 23, 0, 0)}\n",
      "{'_id': 773078, 'name': 'Purysho Dobrinyid', 'children': 17, 'd_d': datetime.datetime(1185, 1, 27, 0, 0)}\n",
      "{'_id': 764249, 'name': 'Mathieu de Batarnay', 'children': 17, 'd_d': datetime.datetime(1185, 9, 18, 0, 0)}\n",
      "{'_id': 611903, 'name': 'Kallistos Souanites', 'children': 17, 'd_d': datetime.datetime(988, 1, 20, 0, 0)}\n",
      "{'_id': 905817, 'name': 'Qawurd Meybodid', 'children': 16, 'd_d': datetime.datetime(1326, 5, 18, 0, 0)}\n",
      "{'_id': 703017, 'name': 'Alsi Jaitugidevid', 'children': 16, 'd_d': datetime.datetime(1110, 12, 22, 0, 0)}\n",
      "{'_id': 634728, 'name': 'Hasan Mukhtarid', 'children': 16, 'd_d': datetime.datetime(1020, 7, 25, 0, 0)}\n",
      "{'_id': 887408, 'name': 'Rampala Rampalid', 'children': 15, 'd_d': datetime.datetime(1295, 4, 5, 0, 0)}\n",
      "{'_id': 755342, 'name': 'Prusas Palemonaitis', 'children': 15, 'd_d': datetime.datetime(1148, 2, 15, 0, 0)}\n",
      "{'_id': 571919, 'name': 'Amoghavarsha Wodeyar', 'children': 15, 'd_d': datetime.datetime(936, 2, 20, 0, 0)}\n"
     ]
    }
   ],
   "source": [
    "for karl in characters.aggregate(pipeline):\n",
    "    print(karl)"
   ]
  },
  {
   "cell_type": "markdown",
   "metadata": {},
   "source": [
    "# Seductive, but not Stealthy"
   ]
  },
  {
   "cell_type": "markdown",
   "metadata": {},
   "source": [
    "The above characters got female characters pregnant and had the childre passed off as belonging to the mothers husbands. These characters were caught out or had children with women who were not married at the time. Their children have an rfat value set but not fat value. Amaneus de Carcassonne, Count of Mainz and namesake of a popular boardgame, has 19 children attributed to him this way. Anfòs de Montignac, Ubald de Gavarret and Adhémar de Brosse all rule over Glorious Ulm so there must be something in the air."
   ]
  },
  {
   "cell_type": "code",
   "execution_count": 11,
   "metadata": {
    "collapsed": true
   },
   "outputs": [],
   "source": [
    "pipeline = [\n",
    "    {\n",
    "        \"$match\" : {\"fat\" : {\"$exists\" : False}, \"rfat\" : {\"$exists\" : True}}\n",
    "    },\n",
    "    {\n",
    "        \"$lookup\":{\n",
    "            \"from\" : \"characters\",\n",
    "            \"localField\" : \"rfat\",\n",
    "            \"foreignField\" : \"_id\",\n",
    "            \"as\" : \"father\"\n",
    "        }\n",
    "    },\n",
    "    {\n",
    "        \"$unwind\" : \"$father\"\n",
    "    },\n",
    "    {\n",
    "        \"$lookup\":{\n",
    "            \"from\" : \"dynasties\",\n",
    "            \"localField\" : \"father.dnt\",\n",
    "            \"foreignField\" : \"_id\",\n",
    "            \"as\" : \"dynasty\"\n",
    "        }\n",
    "    },\n",
    "    {\n",
    "        \"$unwind\" : \"$dynasty\"\n",
    "    },\n",
    "    \n",
    "    {\n",
    "        \"$group\" : {\"_id\" : \"$father._id\", \n",
    "                    \"firstname\" : {\"$first\" : \"$father.bn\"},  \n",
    "                    \"surname\" : {\"$first\" : \"$dynasty.name\"},\n",
    "                    \"children\" : {\"$sum\" : 1},\n",
    "                    \"d_d\" : {\"$first\" : \"$father.d_d\"}\n",
    "                   \n",
    "                   }\n",
    "    },\n",
    "    {\n",
    "        \"$project\" : {\"_id\" : 1, \"name\" : {\"$concat\" : [\"$firstname\", \" \", \"$surname\"]}, \"children\" : \"$children\", \"d_d\" : \"$d_d\" }\n",
    "    },\n",
    "    {\n",
    "        \"$sort\" : {\"children\" : -1}\n",
    "    },\n",
    "    {\n",
    "        \"$limit\" : 15\n",
    "    }\n",
    "]"
   ]
  },
  {
   "cell_type": "code",
   "execution_count": 12,
   "metadata": {},
   "outputs": [
    {
     "name": "stdout",
     "output_type": "stream",
     "text": [
      "{'_id': 832744, 'name': 'Amaneus de Carcassonne', 'children': 19, 'd_d': datetime.datetime(1235, 4, 25, 0, 0)}\n",
      "{'_id': 841086, 'name': 'Anfòs de Montignac', 'children': 18, 'd_d': datetime.datetime(1247, 2, 23, 0, 0)}\n",
      "{'_id': 810897, 'name': 'Lop de Rodez', 'children': 17, 'd_d': datetime.datetime(1198, 2, 18, 0, 0)}\n",
      "{'_id': 588226, 'name': 'Simon von Werle', 'children': 16, 'd_d': datetime.datetime(926, 2, 3, 0, 0)}\n",
      "{'_id': 871330, 'name': 'Ubald de Gavarret', 'children': 16, 'd_d': datetime.datetime(1274, 1, 27, 0, 0)}\n",
      "{'_id': 681027, 'name': 'Leofhelm Iceling', 'children': 15, 'd_d': datetime.datetime(1073, 10, 15, 0, 0)}\n",
      "{'_id': 998247, 'name': 'Walram Asperger', 'children': 15, 'd_d': datetime.datetime(1431, 8, 20, 0, 0)}\n",
      "{'_id': 686580, 'name': 'Jayasimha Vemulavada Chalukya', 'children': 14, 'd_d': datetime.datetime(1083, 5, 21, 0, 0)}\n",
      "{'_id': 629398, 'name': 'Muhammad Aleppo', 'children': 14, 'd_d': datetime.datetime(994, 7, 15, 0, 0)}\n",
      "{'_id': 822041, 'name': 'Loui de Limoges', 'children': 14, 'd_d': datetime.datetime(1206, 8, 29, 0, 0)}\n",
      "{'_id': 910564, 'name': 'Ælfsige Mel', 'children': 13, 'd_d': datetime.datetime(1354, 1, 5, 0, 0)}\n",
      "{'_id': 512906, 'name': 'Godarz Murrid', 'children': 13, 'd_d': datetime.datetime(845, 2, 3, 0, 0)}\n",
      "{'_id': 908034, 'name': 'Faruk Valladolid', 'children': 12, 'd_d': datetime.datetime(1368, 7, 23, 0, 0)}\n",
      "{'_id': 994075, 'name': 'Adhémar de Brosse', 'children': 12, 'd_d': datetime.datetime(1426, 12, 20, 0, 0)}\n",
      "{'_id': 91397, 'name': 'Angilbert Bouvinid', 'children': 12, 'd_d': datetime.datetime(810, 7, 6, 0, 0)}\n"
     ]
    }
   ],
   "source": [
    "for karl in characters.aggregate(pipeline):\n",
    "    print(karl)"
   ]
  },
  {
   "cell_type": "markdown",
   "metadata": {},
   "source": [
    "# Total amount of Children"
   ]
  },
  {
   "cell_type": "markdown",
   "metadata": {},
   "source": [
    "Outright total amount of children using the rparents array, so rfat and mot. During his lifetime Muhammad Aleppo fathered 44 children and Angilbert Bouvinid, Count of Bar, fathered 41. Roo far removed from the succession to the English Crown Ælfsige Mel busied himself by fathering 37 children. Methodios Isauros ruled as King of Serbia and found time to father 34 children."
   ]
  },
  {
   "cell_type": "code",
   "execution_count": 13,
   "metadata": {
    "collapsed": true
   },
   "outputs": [],
   "source": [
    "pipeline = [\n",
    "    {\n",
    "        \"$lookup\":{\n",
    "            \"from\" : \"characters\",\n",
    "            \"localField\" : \"rparents\",\n",
    "            \"foreignField\" : \"_id\",\n",
    "            \"as\" : \"parent\"\n",
    "        }\n",
    "    },\n",
    "    {\n",
    "        \"$unwind\" : \"$parent\"\n",
    "    },\n",
    "    {\n",
    "        \"$lookup\":{\n",
    "            \"from\" : \"dynasties\",\n",
    "            \"localField\" : \"parent.dnt\",\n",
    "            \"foreignField\" : \"_id\",\n",
    "            \"as\" : \"dynasty\"\n",
    "        }\n",
    "    },\n",
    "    {\n",
    "        \"$unwind\" : \"$dynasty\"\n",
    "    },\n",
    "    \n",
    "    {\n",
    "        \"$group\" : {\"_id\" : \"$parent._id\", \n",
    "                    \"firstname\" : {\"$first\" : \"$parent.bn\"},  \n",
    "                    \"surname\" : {\"$first\" : \"$dynasty.name\"},\n",
    "                    \"children\" : {\"$sum\" : 1},\n",
    "                    \"d_d\" : {\"$first\" : \"$parent.d_d\"}\n",
    "                   \n",
    "                   }\n",
    "    },\n",
    "    {\n",
    "        \"$project\" : {\"_id\" : 1, \"name\" : {\"$concat\" : [\"$firstname\", \" \", \"$surname\"]}, \"children\" : \"$children\", \"d_d\" : \"$d_d\" }\n",
    "    },\n",
    "    {\n",
    "        \"$sort\" : {\"children\" : -1}\n",
    "    },\n",
    "    {\n",
    "        \"$limit\" : 25\n",
    "    }\n",
    "]"
   ]
  },
  {
   "cell_type": "code",
   "execution_count": 14,
   "metadata": {},
   "outputs": [
    {
     "name": "stdout",
     "output_type": "stream",
     "text": [
      "{'_id': 629398, 'name': 'Muhammad Aleppo', 'children': 44, 'd_d': datetime.datetime(994, 7, 15, 0, 0)}\n",
      "{'_id': 91397, 'name': 'Angilbert Bouvinid', 'children': 41, 'd_d': datetime.datetime(810, 7, 6, 0, 0)}\n",
      "{'_id': 686580, 'name': 'Jayasimha Vemulavada Chalukya', 'children': 39, 'd_d': datetime.datetime(1083, 5, 21, 0, 0)}\n",
      "{'_id': 905817, 'name': 'Qawurd Meybodid', 'children': 38, 'd_d': datetime.datetime(1326, 5, 18, 0, 0)}\n",
      "{'_id': 512906, 'name': 'Godarz Murrid', 'children': 38, 'd_d': datetime.datetime(845, 2, 3, 0, 0)}\n",
      "{'_id': 634728, 'name': 'Hasan Mukhtarid', 'children': 37, 'd_d': datetime.datetime(1020, 7, 25, 0, 0)}\n",
      "{'_id': 588226, 'name': 'Simon von Werle', 'children': 37, 'd_d': datetime.datetime(926, 2, 3, 0, 0)}\n",
      "{'_id': 910564, 'name': 'Ælfsige Mel', 'children': 37, 'd_d': datetime.datetime(1354, 1, 5, 0, 0)}\n",
      "{'_id': 923758, 'name': 'Abdul-Razzaq Hasan', 'children': 37, 'd_d': datetime.datetime(1354, 8, 11, 0, 0)}\n",
      "{'_id': 790965, 'name': 'Husam Quen', 'children': 37, 'd_d': datetime.datetime(1214, 7, 22, 0, 0)}\n",
      "{'_id': 908034, 'name': 'Faruk Valladolid', 'children': 36, 'd_d': datetime.datetime(1368, 7, 23, 0, 0)}\n",
      "{'_id': 841086, 'name': 'Anfòs de Montignac', 'children': 36, 'd_d': datetime.datetime(1247, 2, 23, 0, 0)}\n",
      "{'_id': 731076, 'name': 'Guiges de Trith', 'children': 36, 'd_d': datetime.datetime(1151, 6, 25, 0, 0)}\n",
      "{'_id': 755342, 'name': 'Prusas Palemonaitis', 'children': 35, 'd_d': datetime.datetime(1148, 2, 15, 0, 0)}\n",
      "{'_id': 888398, 'name': 'Methodios Isauros', 'children': 34, 'd_d': datetime.datetime(1322, 9, 16, 0, 0)}\n",
      "{'_id': 873192, 'name': 'Tiruccirrampalapattan Vengi Chalukya', 'children': 34, 'd_d': datetime.datetime(1315, 10, 13, 0, 0)}\n",
      "{'_id': 190512, 'name': 'Teudoin Nibelunging', 'children': 34, 'd_d': datetime.datetime(819, 1, 1, 0, 0)}\n",
      "{'_id': 191969, 'name': 'Govinda Naru', 'children': 34, 'd_d': datetime.datetime(806, 10, 2, 0, 0)}\n",
      "{'_id': 773078, 'name': 'Purysho Dobrinyid', 'children': 34, 'd_d': datetime.datetime(1185, 1, 27, 0, 0)}\n",
      "{'_id': 945988, 'name': 'Raolf de Fontiès', 'children': 33, 'd_d': datetime.datetime(1377, 8, 9, 0, 0)}\n",
      "{'_id': 575272, 'name': 'Christophoros Peloponnesites', 'children': 33, 'd_d': datetime.datetime(930, 11, 13, 0, 0)}\n",
      "{'_id': 832744, 'name': 'Amaneus de Carcassonne', 'children': 33, 'd_d': datetime.datetime(1235, 4, 25, 0, 0)}\n",
      "{'_id': 633851, 'name': 'Ali Musaid', 'children': 33, 'd_d': datetime.datetime(1018, 2, 16, 0, 0)}\n",
      "{'_id': 703017, 'name': 'Alsi Jaitugidevid', 'children': 32, 'd_d': datetime.datetime(1110, 12, 22, 0, 0)}\n",
      "{'_id': 570961, 'name': 'Mallugi Vengi Chalukya', 'children': 32, 'd_d': datetime.datetime(922, 2, 14, 0, 0)}\n"
     ]
    }
   ],
   "source": [
    "for karl in characters.aggregate(pipeline):\n",
    "    print(karl)"
   ]
  },
  {
   "cell_type": "markdown",
   "metadata": {},
   "source": [
    "# Casanova"
   ]
  },
  {
   "cell_type": "markdown",
   "metadata": {},
   "source": [
    "These men just want one thing and it's disgusting! Angilbert Bouvinid fathered children by 35 different mothers and 34 women provided Muhammed Aleppo with his 44 children"
   ]
  },
  {
   "cell_type": "code",
   "execution_count": 15,
   "metadata": {
    "collapsed": true
   },
   "outputs": [],
   "source": [
    "pipeline = [\n",
    "    {\n",
    "        \"$lookup\":{\n",
    "            \"from\" : \"characters\",\n",
    "            \"localField\" : \"rparents\",\n",
    "            \"foreignField\" : \"_id\",\n",
    "            \"as\" : \"parent\"\n",
    "        }\n",
    "    },\n",
    "    {\n",
    "        \"$unwind\" : \"$parent\"\n",
    "    },\n",
    "    {\n",
    "        \"$lookup\":{\n",
    "            \"from\" : \"dynasties\",\n",
    "            \"localField\" : \"parent.dnt\",\n",
    "            \"foreignField\" : \"_id\",\n",
    "            \"as\" : \"dynasty\"\n",
    "        }\n",
    "    },\n",
    "    {\n",
    "        \"$unwind\" : \"$dynasty\"\n",
    "    },\n",
    "    \n",
    "    {\n",
    "        \"$group\" : {\"_id\" : \"$parent._id\", \n",
    "                    \"firstname\" : {\"$first\" : \"$parent.bn\"},  \n",
    "                    \"surname\" : {\"$first\" : \"$dynasty.name\"},\n",
    "                    \"children\" : {\"$sum\" : 1},\n",
    "                    \"women\" : {\"$addToSet\" : \"$mot\"},\n",
    "                    \"d_d\" : {\"$first\" : \"$parent.d_d\"}\n",
    "                   \n",
    "                   }\n",
    "    },\n",
    "    {\n",
    "        \"$project\" : {\"_id\" : 1, \"name\" : {\"$concat\" : [\"$firstname\", \" \", \"$surname\"]}, \"children\" : \"$children\",\n",
    "                      \"women_count\" : {\"$size\" : \"$women\"},\n",
    "                      \"d_d\" : \"$d_d\" }\n",
    "    },\n",
    "    {\n",
    "        \"$sort\" : {\"women_count\" : -1}\n",
    "    },\n",
    "    {\n",
    "        \"$limit\" : 25\n",
    "    }\n",
    "]"
   ]
  },
  {
   "cell_type": "code",
   "execution_count": 16,
   "metadata": {},
   "outputs": [
    {
     "name": "stdout",
     "output_type": "stream",
     "text": [
      "{'_id': 91397, 'name': 'Angilbert Bouvinid', 'children': 41, 'women_count': 35, 'd_d': datetime.datetime(810, 7, 6, 0, 0)}\n",
      "{'_id': 629398, 'name': 'Muhammad Aleppo', 'children': 44, 'women_count': 34, 'd_d': datetime.datetime(994, 7, 15, 0, 0)}\n",
      "{'_id': 908034, 'name': 'Faruk Valladolid', 'children': 36, 'women_count': 31, 'd_d': datetime.datetime(1368, 7, 23, 0, 0)}\n",
      "{'_id': 588226, 'name': 'Simon von Werle', 'children': 37, 'women_count': 30, 'd_d': datetime.datetime(926, 2, 3, 0, 0)}\n",
      "{'_id': 790965, 'name': 'Husam Quen', 'children': 37, 'women_count': 30, 'd_d': datetime.datetime(1214, 7, 22, 0, 0)}\n",
      "{'_id': 923758, 'name': 'Abdul-Razzaq Hasan', 'children': 37, 'women_count': 29, 'd_d': datetime.datetime(1354, 8, 11, 0, 0)}\n",
      "{'_id': 731076, 'name': 'Guiges de Trith', 'children': 36, 'women_count': 29, 'd_d': datetime.datetime(1151, 6, 25, 0, 0)}\n",
      "{'_id': 512906, 'name': 'Godarz Murrid', 'children': 38, 'women_count': 29, 'd_d': datetime.datetime(845, 2, 3, 0, 0)}\n",
      "{'_id': 841086, 'name': 'Anfòs de Montignac', 'children': 36, 'women_count': 28, 'd_d': datetime.datetime(1247, 2, 23, 0, 0)}\n",
      "{'_id': 773078, 'name': 'Purysho Dobrinyid', 'children': 34, 'women_count': 28, 'd_d': datetime.datetime(1185, 1, 27, 0, 0)}\n",
      "{'_id': 905817, 'name': 'Qawurd Meybodid', 'children': 38, 'women_count': 28, 'd_d': datetime.datetime(1326, 5, 18, 0, 0)}\n",
      "{'_id': 910564, 'name': 'Ælfsige Mel', 'children': 37, 'women_count': 27, 'd_d': datetime.datetime(1354, 1, 5, 0, 0)}\n",
      "{'_id': 646214, 'name': 'Najib Kirdar', 'children': 31, 'women_count': 27, 'd_d': datetime.datetime(1023, 9, 3, 0, 0)}\n",
      "{'_id': 686580, 'name': 'Jayasimha Vemulavada Chalukya', 'children': 39, 'women_count': 27, 'd_d': datetime.datetime(1083, 5, 21, 0, 0)}\n",
      "{'_id': 611903, 'name': 'Kallistos Souanites', 'children': 31, 'women_count': 26, 'd_d': datetime.datetime(988, 1, 20, 0, 0)}\n",
      "{'_id': 945988, 'name': 'Raolf de Fontiès', 'children': 33, 'women_count': 26, 'd_d': datetime.datetime(1377, 8, 9, 0, 0)}\n",
      "{'_id': 994075, 'name': 'Adhémar de Brosse', 'children': 28, 'women_count': 26, 'd_d': datetime.datetime(1426, 12, 20, 0, 0)}\n",
      "{'_id': 703017, 'name': 'Alsi Jaitugidevid', 'children': 32, 'women_count': 26, 'd_d': datetime.datetime(1110, 12, 22, 0, 0)}\n",
      "{'_id': 614319, 'name': 'Shamir Abd al-Qays', 'children': 29, 'women_count': 25, 'd_d': datetime.datetime(995, 4, 28, 0, 0)}\n",
      "{'_id': 190512, 'name': 'Teudoin Nibelunging', 'children': 34, 'women_count': 25, 'd_d': datetime.datetime(819, 1, 1, 0, 0)}\n",
      "{'_id': 914645, 'name': 'Govindapala Baland', 'children': 31, 'women_count': 25, 'd_d': datetime.datetime(1369, 2, 26, 0, 0)}\n",
      "{'_id': 570961, 'name': 'Mallugi Vengi Chalukya', 'children': 32, 'women_count': 25, 'd_d': datetime.datetime(922, 2, 14, 0, 0)}\n",
      "{'_id': 575272, 'name': 'Christophoros Peloponnesites', 'children': 33, 'women_count': 25, 'd_d': datetime.datetime(930, 11, 13, 0, 0)}\n",
      "{'_id': 634728, 'name': 'Hasan Mukhtarid', 'children': 37, 'women_count': 25, 'd_d': datetime.datetime(1020, 7, 25, 0, 0)}\n",
      "{'_id': 832744, 'name': 'Amaneus de Carcassonne', 'children': 33, 'women_count': 25, 'd_d': datetime.datetime(1235, 4, 25, 0, 0)}\n"
     ]
    }
   ],
   "source": [
    "for karl in characters.aggregate(pipeline):\n",
    "    print(karl)"
   ]
  },
  {
   "cell_type": "markdown",
   "metadata": {},
   "source": [
    "# Most Children - Women"
   ]
  },
  {
   "cell_type": "markdown",
   "metadata": {},
   "source": [
    "The same figures as above except for women. For a number of reasons women are less likely to have as high a number of children as men do. Piratamâtevi Ay conqured the south Indian region that would be ruled by the Vengi Chalukya towards the end of the game. She was the first in a long line of Ay rulers in the region and as well as conquering and leading she was mother to 10 children."
   ]
  },
  {
   "cell_type": "code",
   "execution_count": 17,
   "metadata": {
    "collapsed": true
   },
   "outputs": [],
   "source": [
    "pipeline = [\n",
    "    {\n",
    "        \"$match\" : {\"mot\" : {\"$exists\" : True}}\n",
    "    },\n",
    "    {\n",
    "        \"$lookup\":{\n",
    "            \"from\" : \"characters\",\n",
    "            \"localField\" : \"mot\",\n",
    "            \"foreignField\" : \"_id\",\n",
    "            \"as\" : \"mother\"\n",
    "        }\n",
    "    },\n",
    "    {\n",
    "        \"$unwind\" : \"$mother\"\n",
    "    },\n",
    "    {\n",
    "        \"$lookup\":{\n",
    "            \"from\" : \"dynasties\",\n",
    "            \"localField\" : \"mother.dnt\",\n",
    "            \"foreignField\" : \"_id\",\n",
    "            \"as\" : \"dynasty\"\n",
    "        }\n",
    "    },\n",
    "    {\n",
    "        \"$unwind\" : \"$dynasty\"\n",
    "    },\n",
    "    \n",
    "    {\n",
    "        \"$group\" : {\"_id\" : \"$mother._id\", \n",
    "                    \"firstname\" : {\"$first\" : \"$mother.bn\"},  \n",
    "                    \"surname\" : {\"$first\" : \"$dynasty.name\"},\n",
    "                    \"children\" : {\"$sum\" : 1},\n",
    "                    \"d_d\" : {\"$first\" : \"$mother.d_d\"}\n",
    "                   \n",
    "                   }\n",
    "    },\n",
    "    {\n",
    "        \"$project\" : {\"_id\" : 1, \"name\" : {\"$concat\" : [\"$firstname\", \" \", \"$surname\"]}, \"children\" : \"$children\", \"d_d\" : \"$d_d\" }\n",
    "    },\n",
    "    {\n",
    "        \"$sort\" : {\"children\" : -1}\n",
    "    },\n",
    "    {\n",
    "        \"$limit\" : 25\n",
    "    }\n",
    "]"
   ]
  },
  {
   "cell_type": "code",
   "execution_count": 18,
   "metadata": {},
   "outputs": [
    {
     "name": "stdout",
     "output_type": "stream",
     "text": [
      "{'_id': 694045, 'name': 'Piratamâtevi Ay', 'children': 10, 'd_d': datetime.datetime(1095, 3, 10, 0, 0)}\n",
      "{'_id': 642429, 'name': 'Pernette de Cleriuex', 'children': 9, 'd_d': datetime.datetime(1025, 5, 26, 0, 0)}\n",
      "{'_id': 563084, 'name': 'Kalicci Udayagiri Mutharaiyar', 'children': 9, 'd_d': datetime.datetime(923, 4, 5, 0, 0)}\n",
      "{'_id': 671282, 'name': 'Éléonore de Laval', 'children': 9, 'd_d': datetime.datetime(1041, 4, 11, 0, 0)}\n",
      "{'_id': 730119, 'name': 'Nankaiyâr Vengi Chalukya', 'children': 9, 'd_d': datetime.datetime(1138, 8, 20, 0, 0)}\n",
      "{'_id': 936063, 'name': 'Gerberge Abbonid', 'children': 8, 'd_d': datetime.datetime(1382, 1, 24, 0, 0)}\n",
      "{'_id': 795713, 'name': 'Umm Garsiyid', 'children': 8, 'd_d': datetime.datetime(1221, 10, 10, 0, 0)}\n",
      "{'_id': 826548, 'name': 'Akal Yasovarman', 'children': 8, 'd_d': datetime.datetime(1233, 5, 17, 0, 0)}\n",
      "{'_id': 836297, 'name': 'Lakshman Ayudha', 'children': 8, 'd_d': datetime.datetime(1257, 4, 2, 0, 0)}\n",
      "{'_id': 547423, 'name': 'Perinne Vuodi', 'children': 8, 'd_d': datetime.datetime(866, 7, 24, 0, 0)}\n",
      "{'_id': 578220, 'name': 'Dobrawa of the Golensizi', 'children': 8, 'd_d': datetime.datetime(915, 7, 31, 0, 0)}\n",
      "{'_id': 880470, 'name': 'Hunila Petringi', 'children': 8, 'd_d': datetime.datetime(1324, 1, 11, 0, 0)}\n",
      "{'_id': 523166, 'name': 'Mahadevi Bhaumakara', 'children': 8, 'd_d': datetime.datetime(839, 1, 6, 0, 0)}\n",
      "{'_id': 521023, 'name': 'Cesaria de Évreux', 'children': 8, 'd_d': datetime.datetime(833, 8, 28, 0, 0)}\n",
      "{'_id': 825393, 'name': 'Accattêvi Vengi Chalukya', 'children': 8, 'd_d': datetime.datetime(1266, 9, 10, 0, 0)}\n",
      "{'_id': 1007228, 'name': 'Anele Penikis', 'children': 8, 'd_d': None}\n",
      "{'_id': 686529, 'name': 'Gaatha Liutfredingi', 'children': 8, 'd_d': datetime.datetime(1058, 10, 26, 0, 0)}\n",
      "{'_id': 1011969, 'name': 'Asta Baghid', 'children': 8, 'd_d': None}\n",
      "{'_id': 692292, 'name': 'Desiderata Alachisling', 'children': 8, 'd_d': datetime.datetime(1100, 3, 21, 0, 0)}\n",
      "{'_id': 899231, 'name': 'Lakshman Ayudha', 'children': 8, 'd_d': datetime.datetime(1355, 12, 12, 0, 0)}\n",
      "{'_id': 508653, 'name': 'Ludmila Mojmírid', 'children': 8, 'd_d': datetime.datetime(837, 12, 6, 0, 0)}\n",
      "{'_id': 972571, 'name': 'Birgitta Tre Rutor', 'children': 8, 'd_d': datetime.datetime(1432, 3, 20, 0, 0)}\n",
      "{'_id': 641749, 'name': 'Gaitelgrima Alachisling', 'children': 8, 'd_d': datetime.datetime(1009, 11, 18, 0, 0)}\n",
      "{'_id': 764388, 'name': 'Adelaide von Kärnten', 'children': 8, 'd_d': datetime.datetime(1173, 12, 17, 0, 0)}\n",
      "{'_id': 791859, 'name': 'Eulalia Metropoulos', 'children': 8, 'd_d': datetime.datetime(1208, 10, 28, 0, 0)}\n"
     ]
    }
   ],
   "source": [
    "for karl in characters.aggregate(pipeline):\n",
    "    print(karl)"
   ]
  },
  {
   "cell_type": "markdown",
   "metadata": {},
   "source": [
    "# Going it Alone"
   ]
  },
  {
   "cell_type": "markdown",
   "metadata": {},
   "source": [
    "These women have had children outside of wedlock or have been caught having an affair. Their children have an rfat value but no fat value. Potyava Tunyid is the daughter of the Count of Vodi in Estonia."
   ]
  },
  {
   "cell_type": "code",
   "execution_count": 19,
   "metadata": {
    "collapsed": true
   },
   "outputs": [],
   "source": [
    "pipeline = [\n",
    "    {\n",
    "        \"$match\" : {\"fat\" : {\"$exists\" : False}, \"rfat\" : {\"$exists\" : True}}\n",
    "    },\n",
    "    {\n",
    "        \"$lookup\":{\n",
    "            \"from\" : \"characters\",\n",
    "            \"localField\" : \"mot\",\n",
    "            \"foreignField\" : \"_id\",\n",
    "            \"as\" : \"mother\"\n",
    "        }\n",
    "    },\n",
    "    {\n",
    "        \"$unwind\" : \"$mother\"\n",
    "    },\n",
    "    {\n",
    "        \"$lookup\":{\n",
    "            \"from\" : \"dynasties\",\n",
    "            \"localField\" : \"mother.dnt\",\n",
    "            \"foreignField\" : \"_id\",\n",
    "            \"as\" : \"dynasty\"\n",
    "        }\n",
    "    },\n",
    "    {\n",
    "        \"$unwind\" : \"$dynasty\"\n",
    "    },\n",
    "    \n",
    "    {\n",
    "        \"$group\" : {\"_id\" : \"$mother._id\", \n",
    "                    \"firstname\" : {\"$first\" : \"$mother.bn\"},  \n",
    "                    \"surname\" : {\"$first\" : \"$dynasty.name\"},\n",
    "                    \"children\" : {\"$sum\" : 1},\n",
    "                    \"d_d\" : {\"$first\" : \"$mother.d_d\"}\n",
    "                   \n",
    "                   }\n",
    "    },\n",
    "    {\n",
    "        \"$project\" : {\"_id\" : 1, \"name\" : {\"$concat\" : [\"$firstname\", \" \", \"$surname\"]}, \"children\" : \"$children\", \"d_d\" : \"$d_d\" }\n",
    "    },\n",
    "    {\n",
    "        \"$sort\" : {\"children\" : -1}\n",
    "    },\n",
    "    {\n",
    "        \"$limit\" : 15\n",
    "    }\n",
    "]"
   ]
  },
  {
   "cell_type": "code",
   "execution_count": 20,
   "metadata": {},
   "outputs": [
    {
     "name": "stdout",
     "output_type": "stream",
     "text": [
      "{'_id': 744231, 'name': 'Potyava Tunyid', 'children': 6, 'd_d': datetime.datetime(1165, 6, 20, 0, 0)}\n",
      "{'_id': 521023, 'name': 'Cesaria de Évreux', 'children': 5, 'd_d': datetime.datetime(833, 8, 28, 0, 0)}\n",
      "{'_id': 952014, 'name': 'Alaïs de Puylaurens', 'children': 5, 'd_d': datetime.datetime(1406, 7, 15, 0, 0)}\n",
      "{'_id': 1011969, 'name': 'Asta Baghid', 'children': 5, 'd_d': None}\n",
      "{'_id': 922588, 'name': 'Anthe Skoutariotes', 'children': 5, 'd_d': datetime.datetime(1365, 7, 17, 0, 0)}\n",
      "{'_id': 558622, 'name': 'Rigunth Hildradson', 'children': 4, 'd_d': datetime.datetime(908, 1, 23, 0, 0)}\n",
      "{'_id': 759302, 'name': 'Gyla af Rumby', 'children': 4, 'd_d': datetime.datetime(1169, 6, 27, 0, 0)}\n",
      "{'_id': 595266, 'name': 'Annaladevi Sin', 'children': 4, 'd_d': datetime.datetime(939, 3, 15, 0, 0)}\n",
      "{'_id': 852939, 'name': 'Ansa Beleoingi', 'children': 4, 'd_d': datetime.datetime(1293, 9, 4, 0, 0)}\n",
      "{'_id': 788322, 'name': 'Pertal Udayagiri Mutharaiyar', 'children': 4, 'd_d': datetime.datetime(1221, 8, 11, 0, 0)}\n",
      "{'_id': 771373, 'name': 'Edla Brahe', 'children': 4, 'd_d': datetime.datetime(1199, 5, 21, 0, 0)}\n",
      "{'_id': 783417, 'name': 'Flora Orc', 'children': 4, 'd_d': datetime.datetime(1205, 6, 6, 0, 0)}\n",
      "{'_id': 722167, 'name': 'Pavlina of Herakleia', 'children': 4, 'd_d': datetime.datetime(1104, 10, 9, 0, 0)}\n",
      "{'_id': 991174, 'name': 'Dhruvadevi Jayapalid', 'children': 4, 'd_d': None}\n",
      "{'_id': 722047, 'name': 'Kera Mubarakid', 'children': 4, 'd_d': datetime.datetime(1117, 1, 12, 0, 0)}\n"
     ]
    }
   ],
   "source": [
    "for karl in characters.aggregate(pipeline):\n",
    "    print(karl)"
   ]
  },
  {
   "cell_type": "markdown",
   "metadata": {},
   "source": [
    "# Keeping Quiet"
   ]
  },
  {
   "cell_type": "markdown",
   "metadata": {},
   "source": [
    "These women have had children and not mentioned to their husbands that they might not be the father. Amalfrida Liutprandingi is married to the Bishop Ioann Liutfredingi of Oderzo and Chlotsuintha Lambertingi is married to Mayor Theudoald Rodoaldingi of Genoa, mentioned earlier. They think they have 6 children each but they actually have none... "
   ]
  },
  {
   "cell_type": "code",
   "execution_count": 21,
   "metadata": {
    "collapsed": true
   },
   "outputs": [],
   "source": [
    "pipeline = [\n",
    "    {\n",
    "        \"$match\" : {\"fat\" : {\"$exists\" : True}, \"rfat\" : {\"$exists\" : True}}\n",
    "    },\n",
    "    {\n",
    "        \"$lookup\":{\n",
    "            \"from\" : \"characters\",\n",
    "            \"localField\" : \"mot\",\n",
    "            \"foreignField\" : \"_id\",\n",
    "            \"as\" : \"mother\"\n",
    "        }\n",
    "    },\n",
    "    {\n",
    "        \"$unwind\" : \"$mother\"\n",
    "    },\n",
    "    {\n",
    "        \"$lookup\":{\n",
    "            \"from\" : \"dynasties\",\n",
    "            \"localField\" : \"mother.dnt\",\n",
    "            \"foreignField\" : \"_id\",\n",
    "            \"as\" : \"dynasty\"\n",
    "        }\n",
    "    },\n",
    "    {\n",
    "        \"$unwind\" : \"$dynasty\"\n",
    "    },\n",
    "    \n",
    "    {\n",
    "        \"$group\" : {\"_id\" : \"$mother._id\", \n",
    "                    \"firstname\" : {\"$first\" : \"$mother.bn\"},  \n",
    "                    \"surname\" : {\"$first\" : \"$dynasty.name\"},\n",
    "                    \"children\" : {\"$sum\" : 1},\n",
    "                    \"d_d\" : {\"$first\" : \"$mother.d_d\"}\n",
    "                   \n",
    "                   }\n",
    "    },\n",
    "    {\n",
    "        \"$project\" : {\"_id\" : 1, \"name\" : {\"$concat\" : [\"$firstname\", \" \", \"$surname\"]}, \"children\" : \"$children\", \"d_d\" : \"$d_d\" }\n",
    "    },\n",
    "    {\n",
    "        \"$sort\" : {\"children\" : -1}\n",
    "    },\n",
    "    {\n",
    "        \"$limit\" : 15\n",
    "    }\n",
    "]"
   ]
  },
  {
   "cell_type": "code",
   "execution_count": 22,
   "metadata": {},
   "outputs": [
    {
     "name": "stdout",
     "output_type": "stream",
     "text": [
      "{'_id': 842635, 'name': 'Amalfrida Liutprandingi', 'children': 6, 'd_d': datetime.datetime(1262, 1, 4, 0, 0)}\n",
      "{'_id': 626817, 'name': 'Chlotsuintha Lambertingi', 'children': 6, 'd_d': datetime.datetime(992, 10, 10, 0, 0)}\n",
      "{'_id': 1014202, 'name': 'Saghar Ramadan', 'children': 5, 'd_d': None}\n",
      "{'_id': 568475, 'name': 'Hanifa Banu Judham', 'children': 5, 'd_d': datetime.datetime(916, 5, 20, 0, 0)}\n",
      "{'_id': 516238, 'name': 'Yrsa Knytling', 'children': 5, 'd_d': datetime.datetime(860, 7, 3, 0, 0)}\n",
      "{'_id': 1001120, 'name': 'Tanaz Ghalibid', 'children': 5, 'd_d': None}\n",
      "{'_id': 691862, 'name': 'Radegund Rakki', 'children': 5, 'd_d': datetime.datetime(1101, 5, 11, 0, 0)}\n",
      "{'_id': 514406, 'name': 'Monegund Hucberting', 'children': 5, 'd_d': datetime.datetime(829, 11, 19, 0, 0)}\n",
      "{'_id': 788943, 'name': 'Cristina Mel', 'children': 5, 'd_d': datetime.datetime(1222, 12, 16, 0, 0)}\n",
      "{'_id': 546448, 'name': 'Gerðr Skjöldung', 'children': 5, 'd_d': datetime.datetime(894, 8, 1, 0, 0)}\n",
      "{'_id': 523166, 'name': 'Mahadevi Bhaumakara', 'children': 5, 'd_d': datetime.datetime(839, 1, 6, 0, 0)}\n",
      "{'_id': 649889, 'name': 'Giedre Gediminaitis', 'children': 5, 'd_d': datetime.datetime(1046, 7, 10, 0, 0)}\n",
      "{'_id': 940224, 'name': 'Prabhavati Jaganpalid', 'children': 4, 'd_d': datetime.datetime(1402, 12, 13, 0, 0)}\n",
      "{'_id': 731423, 'name': 'Ecgwyn Holter', 'children': 4, 'd_d': datetime.datetime(1149, 8, 8, 0, 0)}\n",
      "{'_id': 751219, 'name': 'Qamara Shaiban', 'children': 4, 'd_d': datetime.datetime(1174, 6, 8, 0, 0)}\n"
     ]
    }
   ],
   "source": [
    "for karl in characters.aggregate(pipeline):\n",
    "    print(karl)"
   ]
  },
  {
   "cell_type": "markdown",
   "metadata": {},
   "source": [
    "# Lola Montez"
   ]
  },
  {
   "cell_type": "markdown",
   "metadata": {},
   "source": [
    "Lola Montez mightn't be a great choice but she's Irish and I was trying to think of a female Casanova. These women have children by the most amount of men. Perinne Vuodi, Countess of Lyon had 8 children with 6 different men while Audra Velmaykid, Countess of Chernigov had 6 children by 6 different men."
   ]
  },
  {
   "cell_type": "code",
   "execution_count": 23,
   "metadata": {
    "collapsed": true
   },
   "outputs": [],
   "source": [
    "pipeline = [\n",
    "    {\n",
    "        \"$lookup\":{\n",
    "            \"from\" : \"characters\",\n",
    "            \"localField\" : \"rparents\",\n",
    "            \"foreignField\" : \"_id\",\n",
    "            \"as\" : \"parent\"\n",
    "        }\n",
    "    },\n",
    "    {\n",
    "        \"$unwind\" : \"$parent\"\n",
    "    },\n",
    "    {\n",
    "        \"$lookup\":{\n",
    "            \"from\" : \"dynasties\",\n",
    "            \"localField\" : \"parent.dnt\",\n",
    "            \"foreignField\" : \"_id\",\n",
    "            \"as\" : \"dynasty\"\n",
    "        }\n",
    "    },\n",
    "    {\n",
    "        \"$unwind\" : \"$dynasty\"\n",
    "    },\n",
    "    \n",
    "    {\n",
    "        \"$group\" : {\"_id\" : \"$parent._id\", \n",
    "                    \"firstname\" : {\"$first\" : \"$parent.bn\"},  \n",
    "                    \"surname\" : {\"$first\" : \"$dynasty.name\"},\n",
    "                    \"children\" : {\"$sum\" : 1},\n",
    "                    \"men\" : {\"$addToSet\" : {\"$ifNull\" : [\"$rfat\", \"$fat\"]}},\n",
    "                    \"d_d\" : {\"$first\" : \"$parent.d_d\"}\n",
    "                   \n",
    "                   }\n",
    "    },\n",
    "    {\n",
    "        \"$project\" : {\"_id\" : 1, \"name\" : {\"$concat\" : [\"$firstname\", \" \", \"$surname\"]}, \"children\" : \"$children\",\n",
    "                      \"men_count\" : {\"$size\" : \"$men\"},\n",
    "                      \"d_d\" : \"$d_d\" }\n",
    "    },\n",
    "    {\n",
    "        \"$sort\" : {\"men_count\" : -1}\n",
    "    },\n",
    "    {\n",
    "        \"$limit\" : 25\n",
    "    }\n",
    "]"
   ]
  },
  {
   "cell_type": "code",
   "execution_count": 24,
   "metadata": {},
   "outputs": [
    {
     "name": "stdout",
     "output_type": "stream",
     "text": [
      "{'_id': 547423, 'name': 'Perinne Vuodi', 'children': 8, 'men_count': 6, 'd_d': datetime.datetime(866, 7, 24, 0, 0)}\n",
      "{'_id': 937823, 'name': 'Audra Velmaykid', 'children': 6, 'men_count': 6, 'd_d': datetime.datetime(1385, 3, 20, 0, 0)}\n",
      "{'_id': 510016, 'name': 'Illegardis Emichid', 'children': 6, 'men_count': 5, 'd_d': datetime.datetime(832, 5, 25, 0, 0)}\n",
      "{'_id': 836297, 'name': 'Lakshman Ayudha', 'children': 8, 'men_count': 5, 'd_d': datetime.datetime(1257, 4, 2, 0, 0)}\n",
      "{'_id': 642429, 'name': 'Pernette de Cleriuex', 'children': 9, 'men_count': 5, 'd_d': datetime.datetime(1025, 5, 26, 0, 0)}\n",
      "{'_id': 577383, 'name': 'Gujri Karkota', 'children': 7, 'men_count': 5, 'd_d': datetime.datetime(938, 10, 24, 0, 0)}\n",
      "{'_id': 634259, 'name': 'Theodora Leontares', 'children': 5, 'men_count': 5, 'd_d': datetime.datetime(1009, 12, 4, 0, 0)}\n",
      "{'_id': 671282, 'name': 'Éléonore de Laval', 'children': 9, 'men_count': 5, 'd_d': datetime.datetime(1041, 4, 11, 0, 0)}\n",
      "{'_id': 810575, 'name': 'Valence de Trith', 'children': 4, 'men_count': 4, 'd_d': datetime.datetime(1250, 11, 4, 0, 0)}\n",
      "{'_id': 750032, 'name': 'Saga Griphuvud', 'children': 5, 'men_count': 4, 'd_d': datetime.datetime(1158, 7, 25, 0, 0)}\n",
      "{'_id': 752275, 'name': 'Blæja Cerdicing', 'children': 4, 'men_count': 4, 'd_d': datetime.datetime(1167, 2, 28, 0, 0)}\n",
      "{'_id': 943644, 'name': 'Rashida Kathirid', 'children': 4, 'men_count': 4, 'd_d': datetime.datetime(1408, 7, 17, 0, 0)}\n",
      "{'_id': 739497, 'name': 'Shantaladevi Vengi Chalukya', 'children': 6, 'men_count': 4, 'd_d': datetime.datetime(1133, 3, 18, 0, 0)}\n",
      "{'_id': 716954, 'name': 'Esin Baghid', 'children': 4, 'men_count': 4, 'd_d': datetime.datetime(1129, 9, 15, 0, 0)}\n",
      "{'_id': 743558, 'name': 'Kalayandevi Madanavarman', 'children': 4, 'men_count': 4, 'd_d': datetime.datetime(1157, 4, 19, 0, 0)}\n",
      "{'_id': 754771, 'name': 'Mikova of Palenke', 'children': 4, 'men_count': 4, 'd_d': datetime.datetime(1176, 6, 4, 0, 0)}\n",
      "{'_id': 867859, 'name': 'Belleassez de Chaumontois', 'children': 6, 'men_count': 4, 'd_d': datetime.datetime(1312, 12, 28, 0, 0)}\n",
      "{'_id': 957272, 'name': 'Cécile Clément', 'children': 4, 'men_count': 4, 'd_d': datetime.datetime(1403, 3, 9, 0, 0)}\n",
      "{'_id': 785041, 'name': 'Geila Romoaldingi', 'children': 4, 'men_count': 4, 'd_d': datetime.datetime(1216, 10, 6, 0, 0)}\n",
      "{'_id': 721673, 'name': 'Aleta Hardrading', 'children': 6, 'men_count': 4, 'd_d': datetime.datetime(1144, 5, 2, 0, 0)}\n",
      "{'_id': 759441, 'name': 'Åsa Lejon', 'children': 4, 'men_count': 4, 'd_d': datetime.datetime(1184, 5, 26, 0, 0)}\n",
      "{'_id': 782011, 'name': 'Altruda Liutfredingi', 'children': 4, 'men_count': 4, 'd_d': datetime.datetime(1202, 2, 28, 0, 0)}\n",
      "{'_id': 811209, 'name': 'Swanahild Walpertingi', 'children': 5, 'men_count': 4, 'd_d': datetime.datetime(1236, 5, 22, 0, 0)}\n",
      "{'_id': 819418, 'name': 'Francesa de Nordgau', 'children': 4, 'men_count': 4, 'd_d': datetime.datetime(1248, 1, 27, 0, 0)}\n",
      "{'_id': 857458, 'name': 'Jolanta Tarnowski', 'children': 6, 'men_count': 4, 'd_d': datetime.datetime(1298, 7, 15, 0, 0)}\n"
     ]
    }
   ],
   "source": [
    "for karl in characters.aggregate(pipeline):\n",
    "    print(karl)"
   ]
  },
  {
   "cell_type": "code",
   "execution_count": null,
   "metadata": {
    "collapsed": true
   },
   "outputs": [],
   "source": []
  }
 ],
 "metadata": {
  "kernelspec": {
   "display_name": "Python 3",
   "language": "python",
   "name": "python3"
  },
  "language_info": {
   "codemirror_mode": {
    "name": "ipython",
    "version": 3
   },
   "file_extension": ".py",
   "mimetype": "text/x-python",
   "name": "python",
   "nbconvert_exporter": "python",
   "pygments_lexer": "ipython3",
   "version": "3.6.2"
  }
 },
 "nbformat": 4,
 "nbformat_minor": 2
}
