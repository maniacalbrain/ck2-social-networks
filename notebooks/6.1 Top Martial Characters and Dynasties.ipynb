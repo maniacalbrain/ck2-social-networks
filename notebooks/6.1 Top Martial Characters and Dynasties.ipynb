{
 "cells": [
  {
   "cell_type": "markdown",
   "metadata": {
    "collapsed": true
   },
   "source": [
    "# Top Martial Characters and Dynasties"
   ]
  },
  {
   "cell_type": "markdown",
   "metadata": {},
   "source": [
    "After building the kill network in notebook 6 I checked to see if there was an interesting network in taking only those who died in battle. I also wanted to see who had killed the most characters in battle and if there were any characters who had killed only later to be killed themselves in battle. The aggregations match on characters who have the \"death_battle\" value for \"c_d\"."
   ]
  },
  {
   "cell_type": "code",
   "execution_count": 1,
   "metadata": {
    "collapsed": true
   },
   "outputs": [],
   "source": [
    "from pymongo import MongoClient\n",
    "import pandas as pd\n",
    "import datetime"
   ]
  },
  {
   "cell_type": "markdown",
   "metadata": {},
   "source": [
    "## Warriors Details"
   ]
  },
  {
   "cell_type": "code",
   "execution_count": 2,
   "metadata": {
    "collapsed": true
   },
   "outputs": [],
   "source": [
    "client = MongoClient()\n",
    "characters = client.ck2.characters"
   ]
  },
  {
   "cell_type": "code",
   "execution_count": 3,
   "metadata": {
    "collapsed": true
   },
   "outputs": [],
   "source": [
    "pipeline = [ \n",
    "    {\n",
    "        \"$match\" : {\"c_d\" : \"death_battle\"}\n",
    "    },\n",
    "    {\n",
    "        \"$lookup\" :\n",
    "        {\n",
    "            \"from\" : \"characters\",\n",
    "            \"localField\" : \"killer\",\n",
    "            \"foreignField\" : \"_id\",\n",
    "            \"as\" : \"killer_data\"\n",
    "        }\n",
    "    },\n",
    "    {\n",
    "        \"$unwind\" : \"$killer_data\"        \n",
    "    },\n",
    "    {\n",
    "        \"$lookup\" :\n",
    "        {\n",
    "            \"from\" : \"dynasties\",\n",
    "            \"localField\" : \"killer_data.dnt\",\n",
    "            \"foreignField\" : \"_id\",\n",
    "            \"as\" : \"killer_dyn\"\n",
    "        }\n",
    "    },\n",
    "    {\n",
    "        \"$unwind\" : \"$killer_dyn\"        \n",
    "    },\n",
    "    {\n",
    "    \"$group\": { \n",
    "        \"_id\": \"$killer_data._id\", \n",
    "        \"kill_total\": { \"$sum\": 1 },\n",
    "        \"name\" : {\"$first\" : \"$killer_data.bn\"},\n",
    "        \"dyn\" : {\"$first\" : \"$killer_dyn.name\"},\n",
    "        \"c_d\" : {\"$first\" : \"$killer_data.c_d\"},\n",
    "        \"d_d\" : {\"$first\" : \"$killer_data.d_d\"}\n",
    "    }\n",
    "    },\n",
    "    {\n",
    "        \"$project\" : { \"_id\" : 1, \"kill_total\" : \"$kill_total\", \"name\" : {\"$concat\" : [\"$name\", \" \", \"$dyn\"]},\n",
    "                      \"died\" : \"$d_d\"}\n",
    "    },\n",
    "    {\"$sort\" : {\"kill_total\" : -1, 'died' : 1 } },\n",
    "    {\"$limit\" : 10}\n",
    "] "
   ]
  },
  {
   "cell_type": "code",
   "execution_count": 4,
   "metadata": {
    "collapsed": true
   },
   "outputs": [],
   "source": [
    "karl = characters.aggregate(pipeline)"
   ]
  },
  {
   "cell_type": "code",
   "execution_count": 5,
   "metadata": {},
   "outputs": [
    {
     "name": "stdout",
     "output_type": "stream",
     "text": [
      "{'_id': 794645, 'kill_total': 4, 'name': 'Mahipala Mahipalid', 'died': datetime.datetime(1231, 3, 6, 0, 0)}\n",
      "{'_id': 978636, 'kill_total': 4, 'name': 'Samir Samirid', 'died': datetime.datetime(1454, 10, 9, 0, 0)}\n",
      "{'_id': 532442, 'kill_total': 3, 'name': 'Kormesiy Khunzakhal', 'died': datetime.datetime(864, 8, 23, 0, 0)}\n",
      "{'_id': 606681, 'kill_total': 3, 'name': 'Buðli af Åland', 'died': datetime.datetime(969, 4, 2, 0, 0)}\n",
      "{'_id': 673487, 'kill_total': 3, 'name': 'Milosz Dunin', 'died': datetime.datetime(1051, 5, 4, 0, 0)}\n",
      "{'_id': 655186, 'kill_total': 3, 'name': 'Madanapala Ayudha', 'died': datetime.datetime(1058, 2, 15, 0, 0)}\n",
      "{'_id': 751264, 'kill_total': 3, 'name': 'Jatanpal Guhilot', 'died': datetime.datetime(1170, 2, 25, 0, 0)}\n",
      "{'_id': 755938, 'kill_total': 3, 'name': 'Traianos Choirosphaktes', 'died': datetime.datetime(1174, 10, 23, 0, 0)}\n",
      "{'_id': 812148, 'kill_total': 3, 'name': 'Ereganga Silahara', 'died': datetime.datetime(1230, 5, 9, 0, 0)}\n",
      "{'_id': 828555, 'kill_total': 3, 'name': 'Halil Valladolid', 'died': datetime.datetime(1251, 1, 8, 0, 0)}\n"
     ]
    }
   ],
   "source": [
    "for kill in karl:\n",
    "    print(kill)"
   ]
  },
  {
   "cell_type": "markdown",
   "metadata": {},
   "source": [
    "Having a character kill another in battle isn't a very common occurence so racking up 4 kills is impressive. Mahipala served the King of Sindh and Samir was Duke of Moray after the Islamic conquest of British and Irish Isles. Kormesiy Khunzakhal ruled as King of Bavaria and Madanapala Ayudha held 5 Kingdoms in north India."
   ]
  },
  {
   "cell_type": "markdown",
   "metadata": {
    "collapsed": true
   },
   "source": [
    "## Most Militant Dynasties"
   ]
  },
  {
   "cell_type": "code",
   "execution_count": 6,
   "metadata": {
    "collapsed": true
   },
   "outputs": [],
   "source": [
    "pipeline = [ \n",
    "    {\n",
    "        \"$match\" : {\"c_d\" : \"death_battle\"}\n",
    "    },\n",
    "    {\n",
    "        \"$lookup\" :\n",
    "        {\n",
    "            \"from\" : \"characters\",\n",
    "            \"localField\" : \"killer\",\n",
    "            \"foreignField\" : \"_id\",\n",
    "            \"as\" : \"killer_data\"\n",
    "        }\n",
    "    },\n",
    "    {\n",
    "        \"$unwind\" : \"$killer_data\"        \n",
    "    },\n",
    "    {\n",
    "        \"$lookup\" :\n",
    "        {\n",
    "            \"from\" : \"dynasties\",\n",
    "            \"localField\" : \"killer_data.dnt\",\n",
    "            \"foreignField\" : \"_id\",\n",
    "            \"as\" : \"killer_dyn\"\n",
    "        }\n",
    "    },\n",
    "    {\n",
    "        \"$unwind\" : \"$killer_dyn\"        \n",
    "    },\n",
    "    {\n",
    "    \"$group\": { \n",
    "        \"_id\": \"$killer_dyn._id\", \n",
    "        \"kill_total\": { \"$sum\": 1 },\n",
    "        \"name\" : {\"$first\" : \"$killer_dyn.name\"}\n",
    "    }\n",
    "    },\n",
    "    {\n",
    "        \"$project\" : { \"_id\" : 0, \"kill_total\" : \"$kill_total\", \"name\" : \"$name\"}\n",
    "    },\n",
    "    {\"$sort\" : {\"kill_total\" : -1 } },\n",
    "    {\"$limit\" : 10}\n",
    "] "
   ]
  },
  {
   "cell_type": "code",
   "execution_count": 7,
   "metadata": {},
   "outputs": [
    {
     "name": "stdout",
     "output_type": "stream",
     "text": [
      "{'kill_total': 18, 'name': 'Ayudha'}\n",
      "{'kill_total': 13, 'name': 'Aslamid'}\n",
      "{'kill_total': 12, 'name': 'Vengi Chalukya'}\n",
      "{'kill_total': 10, 'name': 'Guhilot'}\n",
      "{'kill_total': 9, 'name': 'Ay'}\n",
      "{'kill_total': 9, 'name': 'Penikis'}\n",
      "{'kill_total': 9, 'name': 'af Munsö'}\n",
      "{'kill_total': 9, 'name': 'Khunzakhal'}\n",
      "{'kill_total': 9, 'name': 'Tabghach'}\n",
      "{'kill_total': 9, 'name': 'Uzur'}\n"
     ]
    }
   ],
   "source": [
    "for kill in characters.aggregate(pipeline):\n",
    "    print(kill)"
   ]
  },
  {
   "cell_type": "markdown",
   "metadata": {},
   "source": [
    "These are the dynasties that have claimed the most kills in battle. The Ayudha rule much of northern India towards the end of the game and the Vengi Chalukya rise to power in the south towards the end, replacing the Ay. "
   ]
  },
  {
   "cell_type": "markdown",
   "metadata": {},
   "source": [
    "## Most Blood Spilt"
   ]
  },
  {
   "cell_type": "code",
   "execution_count": 8,
   "metadata": {
    "collapsed": true
   },
   "outputs": [],
   "source": [
    "pipeline = [ \n",
    "    {\n",
    "        \"$match\" : {\"c_d\" : \"death_battle\"}\n",
    "    },\n",
    "    {\n",
    "        \"$lookup\" :\n",
    "        {\n",
    "            \"from\" : \"dynasties\",\n",
    "            \"localField\" : \"dnt\",\n",
    "            \"foreignField\" : \"_id\",\n",
    "            \"as\" : \"dynasty\"\n",
    "        }\n",
    "    },\n",
    "    {\n",
    "        \"$unwind\" : \"$dynasty\"\n",
    "    },\n",
    "    {\n",
    "    \"$group\": { \n",
    "        \"_id\": \"$dnt\", \n",
    "        \"loss_total\": { \"$sum\": 1 },\n",
    "        \"name\" : {\"$first\" : \"$dynasty.name\"}\n",
    "    }\n",
    "    },\n",
    "    {\n",
    "        \"$project\" : { \"_id\" : 0, \"loss_total\" : \"$loss_total\", \"name\" : \"$name\"}\n",
    "    },\n",
    "    {\"$sort\" : {\"loss_total\" : -1 } },\n",
    "    {\"$limit\" : 15}\n",
    "] "
   ]
  },
  {
   "cell_type": "code",
   "execution_count": 9,
   "metadata": {},
   "outputs": [
    {
     "name": "stdout",
     "output_type": "stream",
     "text": [
      "{'loss_total': 23, 'name': 'Vengi Chalukya'}\n",
      "{'loss_total': 22, 'name': 'Ayudha'}\n",
      "{'loss_total': 18, 'name': 'Pratihara'}\n",
      "{'loss_total': 17, 'name': 'Abbasid'}\n",
      "{'loss_total': 16, 'name': 'Penikis'}\n",
      "{'loss_total': 14, 'name': 'Uuidoch'}\n",
      "{'loss_total': 14, 'name': 'Khunzakhal'}\n",
      "{'loss_total': 13, 'name': 'Alachisling'}\n",
      "{'loss_total': 12, 'name': 'Karling'}\n",
      "{'loss_total': 12, 'name': 'Palemonaitis'}\n",
      "{'loss_total': 12, 'name': 'Premyslid'}\n",
      "{'loss_total': 12, 'name': 'Aslamid'}\n",
      "{'loss_total': 11, 'name': 'Sinda'}\n",
      "{'loss_total': 11, 'name': 'Skjöldung'}\n",
      "{'loss_total': 9, 'name': 'Nibelunging'}\n"
     ]
    }
   ],
   "source": [
    "for kill in characters.aggregate(pipeline):\n",
    "    print(kill)"
   ]
  },
  {
   "cell_type": "markdown",
   "metadata": {},
   "source": [
    "These are the dynasties that have lost the most characters to war. "
   ]
  },
  {
   "cell_type": "markdown",
   "metadata": {},
   "source": [
    "## Kill and Be Killed"
   ]
  },
  {
   "cell_type": "code",
   "execution_count": 11,
   "metadata": {
    "collapsed": true
   },
   "outputs": [],
   "source": [
    "pipeline = [ \n",
    "    {\n",
    "        \"$match\" : {\"c_d\" : \"death_battle\"}\n",
    "    },\n",
    "    {\n",
    "        \"$lookup\" :\n",
    "        {\n",
    "            \"from\" : \"characters\",\n",
    "            \"localField\" : \"killer\",\n",
    "            \"foreignField\" : \"_id\",\n",
    "            \"as\" : \"killer_data\"\n",
    "        }\n",
    "    },\n",
    "    {\n",
    "        \"$unwind\" : \"$killer_data\"        \n",
    "    },\n",
    "    {\n",
    "        \"$match\" : {\"killer_data.c_d\" : \"death_battle\" }\n",
    "    },\n",
    "    {\n",
    "        \"$lookup\" :\n",
    "        {\n",
    "            \"from\" : \"dynasties\",\n",
    "            \"localField\" : \"killer_data.dnt\",\n",
    "            \"foreignField\" : \"_id\",\n",
    "            \"as\" : \"killer_dyn\"\n",
    "        }\n",
    "    },\n",
    "    {\n",
    "        \"$unwind\" : \"$killer_dyn\"        \n",
    "    },\n",
    "    {\n",
    "    \"$group\": { \n",
    "        \"_id\": \"$killer_data._id\", \n",
    "        \"kill_total\": { \"$sum\": 1 },\n",
    "        \"name\" : {\"$first\" : \"$killer_data.bn\"},\n",
    "        \"dyn\" : {\"$first\" : \"$killer_dyn.name\"},\n",
    "        \"c_d\" : {\"$first\" : \"$killer_data.c_d\"},\n",
    "        \"d_d\" : {\"$first\" : \"$killer_data.d_d\"}\n",
    "    }\n",
    "    },\n",
    "    {\n",
    "        \"$project\" : { \"_id\" : 1, \"kill_total\" : \"$kill_total\", \"name\" : {\"$concat\" : [\"$name\", \" \", \"$dyn\"]},\n",
    "                      \"died\" : \"$d_d\"}\n",
    "    },\n",
    "    {\"$sort\" : {\"kill_total\" : -1, \"died\" : 1 } }\n",
    "] "
   ]
  },
  {
   "cell_type": "markdown",
   "metadata": {},
   "source": [
    "These are all the characters that have both killed and then been killed in battle, ordered by kill total and date of death. Towards the bottom of the list is Conlang de Vannes, the first King of Ireland."
   ]
  },
  {
   "cell_type": "code",
   "execution_count": 12,
   "metadata": {},
   "outputs": [
    {
     "name": "stdout",
     "output_type": "stream",
     "text": [
      "{'_id': 509768, 'kill_total': 2, 'name': 'Öysteinn Gautske', 'died': datetime.datetime(821, 5, 7, 0, 0)}\n",
      "{'_id': 639376, 'kill_total': 2, 'name': 'Bataul Khunzakhal', 'died': datetime.datetime(991, 10, 19, 0, 0)}\n",
      "{'_id': 652251, 'kill_total': 2, 'name': 'Husam Kilabid', 'died': datetime.datetime(1029, 8, 10, 0, 0)}\n",
      "{'_id': 673131, 'kill_total': 2, 'name': 'Svarnas Wilks', 'died': datetime.datetime(1037, 10, 4, 0, 0)}\n",
      "{'_id': 707950, 'kill_total': 2, 'name': 'Mukhtar Saadid', 'died': datetime.datetime(1095, 8, 19, 0, 0)}\n",
      "{'_id': 987971, 'kill_total': 2, 'name': 'Polykarpos Gazis', 'died': datetime.datetime(1416, 12, 13, 0, 0)}\n",
      "{'_id': 1017103, 'kill_total': 2, 'name': 'Aarif Sulayman', 'died': datetime.datetime(1448, 8, 17, 0, 0)}\n",
      "{'_id': 992045, 'kill_total': 2, 'name': 'Arunas Palemonaitis', 'died': datetime.datetime(1453, 11, 7, 0, 0)}\n",
      "{'_id': 510429, 'kill_total': 1, 'name': 'Idris Uyunid', 'died': datetime.datetime(793, 12, 22, 0, 0)}\n",
      "{'_id': 509682, 'kill_total': 1, 'name': 'Václav Premyslid', 'died': datetime.datetime(795, 8, 28, 0, 0)}\n",
      "{'_id': 521897, 'kill_total': 1, 'name': 'Kumarapala Lakshmi', 'died': datetime.datetime(805, 4, 23, 0, 0)}\n",
      "{'_id': 512360, 'kill_total': 1, 'name': 'Dattadevi Khichar', 'died': datetime.datetime(814, 10, 27, 0, 0)}\n",
      "{'_id': 511343, 'kill_total': 1, 'name': 'Jovirdas Palemonaitis', 'died': datetime.datetime(817, 11, 15, 0, 0)}\n",
      "{'_id': 194135, 'kill_total': 1, 'name': 'Igor Dregovich', 'died': datetime.datetime(820, 7, 10, 0, 0)}\n",
      "{'_id': 512722, 'kill_total': 1, 'name': 'Vasudev Tomara', 'died': datetime.datetime(824, 7, 14, 0, 0)}\n",
      "{'_id': 526229, 'kill_total': 1, 'name': 'Timëreç Bilar', 'died': datetime.datetime(832, 10, 19, 0, 0)}\n",
      "{'_id': 535822, 'kill_total': 1, 'name': 'Hannu Savolainen', 'died': datetime.datetime(837, 5, 4, 0, 0)}\n",
      "{'_id': 538442, 'kill_total': 1, 'name': 'Somatu Somatu', 'died': datetime.datetime(837, 5, 14, 0, 0)}\n",
      "{'_id': 525768, 'kill_total': 1, 'name': 'Najib Hashimid', 'died': datetime.datetime(838, 7, 3, 0, 0)}\n",
      "{'_id': 531312, 'kill_total': 1, 'name': 'Sikandar Notani', 'died': datetime.datetime(848, 12, 2, 0, 0)}\n",
      "{'_id': 537028, 'kill_total': 1, 'name': 'Hamazasp Bagrationi', 'died': datetime.datetime(860, 4, 3, 0, 0)}\n",
      "{'_id': 525741, 'kill_total': 1, 'name': 'Zeyd Kindid', 'died': datetime.datetime(863, 6, 15, 0, 0)}\n",
      "{'_id': 554473, 'kill_total': 1, 'name': 'Vulvari de Arlon', 'died': datetime.datetime(873, 10, 30, 0, 0)}\n",
      "{'_id': 554112, 'kill_total': 1, 'name': 'Childebert Laidrati', 'died': datetime.datetime(891, 5, 31, 0, 0)}\n",
      "{'_id': 568708, 'kill_total': 1, 'name': 'Trilochanpala Viranarayan', 'died': datetime.datetime(909, 8, 17, 0, 0)}\n",
      "{'_id': 577485, 'kill_total': 1, 'name': 'Nagdeo Bhatti', 'died': datetime.datetime(912, 5, 2, 0, 0)}\n",
      "{'_id': 602123, 'kill_total': 1, 'name': 'Gede Uuidoch', 'died': datetime.datetime(933, 9, 6, 0, 0)}\n",
      "{'_id': 586510, 'kill_total': 1, 'name': 'Abdul-Qadir Khuda', 'died': datetime.datetime(937, 4, 1, 0, 0)}\n",
      "{'_id': 636349, 'kill_total': 1, 'name': 'Pukuveras of Palenke', 'died': datetime.datetime(987, 6, 8, 0, 0)}\n",
      "{'_id': 630072, 'kill_total': 1, 'name': 'Kibar Kibarid', 'died': datetime.datetime(991, 9, 29, 0, 0)}\n",
      "{'_id': 657152, 'kill_total': 1, 'name': 'Theodoulos Andreiomenos', 'died': datetime.datetime(995, 10, 6, 0, 0)}\n",
      "{'_id': 618179, 'kill_total': 1, 'name': 'Yençepi Kundaçiqid', 'died': datetime.datetime(996, 7, 22, 0, 0)}\n",
      "{'_id': 627025, 'kill_total': 1, 'name': 'Adhandev Surasena', 'died': datetime.datetime(997, 1, 20, 0, 0)}\n",
      "{'_id': 655098, 'kill_total': 1, 'name': 'Jibril Fasilghebbi', 'died': datetime.datetime(1013, 5, 28, 0, 0)}\n",
      "{'_id': 640581, 'kill_total': 1, 'name': 'Ewin Walpertingi', 'died': datetime.datetime(1022, 4, 21, 0, 0)}\n",
      "{'_id': 677269, 'kill_total': 1, 'name': 'Hafiz Hasan', 'died': datetime.datetime(1033, 4, 23, 0, 0)}\n",
      "{'_id': 697667, 'kill_total': 1, 'name': 'Thimma Vemulavada Chalukya', 'died': datetime.datetime(1056, 11, 28, 0, 0)}\n",
      "{'_id': 697032, 'kill_total': 1, 'name': 'Gabriel Kyminianos', 'died': datetime.datetime(1078, 10, 15, 0, 0)}\n",
      "{'_id': 710483, 'kill_total': 1, 'name': 'Tirumalaraya Tirumalarayid', 'died': datetime.datetime(1081, 9, 29, 0, 0)}\n",
      "{'_id': 707200, 'kill_total': 1, 'name': 'Mansur Tulambid', 'died': datetime.datetime(1091, 10, 8, 0, 0)}\n",
      "{'_id': 732807, 'kill_total': 1, 'name': 'Aymar Karling', 'died': datetime.datetime(1131, 12, 30, 0, 0)}\n",
      "{'_id': 739471, 'kill_total': 1, 'name': 'Viramdeva Guhilot', 'died': datetime.datetime(1136, 4, 20, 0, 0)}\n",
      "{'_id': 805642, 'kill_total': 1, 'name': 'Shaiban Shaiban', 'died': datetime.datetime(1175, 12, 2, 0, 0)}\n",
      "{'_id': 763247, 'kill_total': 1, 'name': 'Ubayd Ubaydid', 'died': datetime.datetime(1177, 8, 11, 0, 0)}\n",
      "{'_id': 769883, 'kill_total': 1, 'name': 'Raphail Gribas', 'died': datetime.datetime(1183, 10, 15, 0, 0)}\n",
      "{'_id': 784167, 'kill_total': 1, 'name': 'Halil Khaireddin', 'died': datetime.datetime(1205, 10, 7, 0, 0)}\n",
      "{'_id': 792795, 'kill_total': 1, 'name': 'Murad Muradid', 'died': datetime.datetime(1208, 12, 26, 0, 0)}\n",
      "{'_id': 796729, 'kill_total': 1, 'name': 'Shujah Petrid', 'died': datetime.datetime(1213, 2, 16, 0, 0)}\n",
      "{'_id': 807284, 'kill_total': 1, 'name': 'Raymond de Baalun', 'died': datetime.datetime(1229, 4, 20, 0, 0)}\n",
      "{'_id': 851796, 'kill_total': 1, 'name': 'Dariush Kartid', 'died': datetime.datetime(1229, 4, 20, 0, 0)}\n",
      "{'_id': 821948, 'kill_total': 1, 'name': 'Saga Baghid', 'died': datetime.datetime(1232, 2, 27, 0, 0)}\n",
      "{'_id': 806470, 'kill_total': 1, 'name': 'Lakshmandeva Lakshmandevid', 'died': datetime.datetime(1235, 8, 21, 0, 0)}\n",
      "{'_id': 840415, 'kill_total': 1, 'name': 'Khatir Kundaçiqid', 'died': datetime.datetime(1237, 5, 13, 0, 0)}\n",
      "{'_id': 843364, 'kill_total': 1, 'name': 'Tennavan Hoysala Alupa', 'died': datetime.datetime(1242, 1, 14, 0, 0)}\n",
      "{'_id': 837668, 'kill_total': 1, 'name': 'Tirumalaraya Vengi Chalukya', 'died': datetime.datetime(1242, 1, 24, 0, 0)}\n",
      "{'_id': 845031, 'kill_total': 1, 'name': 'Bilal Ramimid', 'died': datetime.datetime(1245, 5, 29, 0, 0)}\n",
      "{'_id': 827385, 'kill_total': 1, 'name': 'Mänär Çorpan', 'died': datetime.datetime(1252, 7, 30, 0, 0)}\n",
      "{'_id': 850307, 'kill_total': 1, 'name': 'Bouchard de Châtillion', 'died': datetime.datetime(1262, 6, 14, 0, 0)}\n",
      "{'_id': 853284, 'kill_total': 1, 'name': 'Ilik Ilikid', 'died': datetime.datetime(1264, 2, 18, 0, 0)}\n",
      "{'_id': 846531, 'kill_total': 1, 'name': 'Dali Yahaffid', 'died': datetime.datetime(1273, 4, 23, 0, 0)}\n",
      "{'_id': 854647, 'kill_total': 1, 'name': 'Pantoleon Kritopolos', 'died': datetime.datetime(1275, 3, 23, 0, 0)}\n",
      "{'_id': 851198, 'kill_total': 1, 'name': 'Tiberios Murzuphlos', 'died': datetime.datetime(1277, 6, 3, 0, 0)}\n",
      "{'_id': 861535, 'kill_total': 1, 'name': 'Loukas of Yangikent', 'died': datetime.datetime(1279, 5, 16, 0, 0)}\n",
      "{'_id': 859274, 'kill_total': 1, 'name': 'Siddray Mubashirid', 'died': datetime.datetime(1281, 10, 16, 0, 0)}\n",
      "{'_id': 870438, 'kill_total': 1, 'name': 'Paramardideva Chhinda', 'died': datetime.datetime(1288, 6, 15, 0, 0)}\n",
      "{'_id': 855331, 'kill_total': 1, 'name': 'Arjunpala Mihirid', 'died': datetime.datetime(1290, 11, 12, 0, 0)}\n",
      "{'_id': 880974, 'kill_total': 1, 'name': 'Zeyd Esfendiyarid', 'died': datetime.datetime(1299, 11, 19, 0, 0)}\n",
      "{'_id': 888019, 'kill_total': 1, 'name': 'Dharmapala Ramachandrid', 'died': datetime.datetime(1307, 8, 5, 0, 0)}\n",
      "{'_id': 885383, 'kill_total': 1, 'name': 'Lingvenis Penikis', 'died': datetime.datetime(1307, 11, 12, 0, 0)}\n",
      "{'_id': 880203, 'kill_total': 1, 'name': 'Bukantas of Palenke', 'died': datetime.datetime(1307, 12, 2, 0, 0)}\n",
      "{'_id': 899217, 'kill_total': 1, 'name': 'Tuzniq Samsamid', 'died': datetime.datetime(1321, 8, 18, 0, 0)}\n",
      "{'_id': 888761, 'kill_total': 1, 'name': 'Najib Samirid', 'died': datetime.datetime(1330, 4, 21, 0, 0)}\n",
      "{'_id': 902025, 'kill_total': 1, 'name': 'Conlang de Vannes', 'died': datetime.datetime(1332, 5, 24, 0, 0)}\n",
      "{'_id': 892875, 'kill_total': 1, 'name': 'Gangeya Ayudha', 'died': datetime.datetime(1332, 9, 16, 0, 0)}\n",
      "{'_id': 889941, 'kill_total': 1, 'name': 'Foulques Abbonid', 'died': datetime.datetime(1336, 1, 26, 0, 0)}\n",
      "{'_id': 917633, 'kill_total': 1, 'name': \"Sa'd Aslamid\", 'died': datetime.datetime(1345, 10, 30, 0, 0)}\n",
      "{'_id': 921698, 'kill_total': 1, 'name': 'Bhumpala Madanapalid', 'died': datetime.datetime(1359, 1, 16, 0, 0)}\n",
      "{'_id': 944458, 'kill_total': 1, 'name': 'Saxo Liutprandingi', 'died': datetime.datetime(1388, 12, 20, 0, 0)}\n",
      "{'_id': 950545, 'kill_total': 1, 'name': \"Ferdulf d'Auriate\", 'died': datetime.datetime(1406, 2, 11, 0, 0)}\n",
      "{'_id': 1023253, 'kill_total': 1, 'name': 'Chrysogonos of Zaton', 'died': datetime.datetime(1445, 9, 22, 0, 0)}\n",
      "{'_id': 1023221, 'kill_total': 1, 'name': 'Vidurathpal Vidurathpalid', 'died': datetime.datetime(1453, 11, 22, 0, 0)}\n"
     ]
    }
   ],
   "source": [
    "for kill in characters.aggregate(pipeline):\n",
    "    print(kill)"
   ]
  },
  {
   "cell_type": "code",
   "execution_count": null,
   "metadata": {
    "collapsed": true
   },
   "outputs": [],
   "source": []
  }
 ],
 "metadata": {
  "kernelspec": {
   "display_name": "Python 3",
   "language": "python",
   "name": "python3"
  },
  "language_info": {
   "codemirror_mode": {
    "name": "ipython",
    "version": 3
   },
   "file_extension": ".py",
   "mimetype": "text/x-python",
   "name": "python",
   "nbconvert_exporter": "python",
   "pygments_lexer": "ipython3",
   "version": "3.6.2"
  }
 },
 "nbformat": 4,
 "nbformat_minor": 2
}
