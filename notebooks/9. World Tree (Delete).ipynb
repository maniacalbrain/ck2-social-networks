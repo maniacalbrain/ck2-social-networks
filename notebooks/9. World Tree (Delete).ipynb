{
 "cells": [
  {
   "cell_type": "code",
   "execution_count": 49,
   "metadata": {
    "collapsed": true
   },
   "outputs": [],
   "source": [
    "from pymongo import MongoClient\n",
    "import pandas as pd\n",
    "import datetime"
   ]
  },
  {
   "cell_type": "code",
   "execution_count": 50,
   "metadata": {
    "collapsed": true
   },
   "outputs": [],
   "source": [
    "client = MongoClient()\n",
    "characters = client.ck2.characters"
   ]
  },
  {
   "cell_type": "markdown",
   "metadata": {},
   "source": [
    "This notebook tries to build a world tree by drawing and edge between every character in the save file with their father and mother. Running this code will generate a network with over 270,000 nodes out of a total of almost 400,000. This was taking far too long for Gephi to graph so I did not continue.\n",
    "\n",
    "The next 3 notebooks contain the first code I wrote for extracting data from the save file. I wild manually copy and paste out the dynasty data from both files, the character data and the title data and save them in seperate files."
   ]
  },
  {
   "cell_type": "markdown",
   "metadata": {},
   "source": [
    "## Get Parent/Child Edges"
   ]
  },
  {
   "cell_type": "code",
   "execution_count": 72,
   "metadata": {
    "collapsed": true
   },
   "outputs": [],
   "source": [
    "pipeline = [\n",
    "    {\n",
    "        \"$unwind\" : \"$parents\"        \n",
    "    },\n",
    "    {\n",
    "        \"$lookup\" :\n",
    "        {\n",
    "            \"from\" : \"dynasties\",\n",
    "            \"localField\" : \"dnt\",\n",
    "            \"foreignField\" : \"_id\",\n",
    "            \"as\" : \"dynasty\"\n",
    "        }\n",
    "    },\n",
    "    {\n",
    "        \"$unwind\" : \"$dynasty\"\n",
    "    },\n",
    "    {\n",
    "        \"$match\" : {\"parents\" : {\"$nin\" : [None]}, \"$or\" : [{\"cul\" : \"irish\"}, {\"dynasty.culture\" : \"irish\"}]}\n",
    "    },\n",
    "    {\n",
    "        \"$project\" : {\"_id\" : 1, \"parents\" : 1}\n",
    "    }\n",
    "]"
   ]
  },
  {
   "cell_type": "code",
   "execution_count": 73,
   "metadata": {
    "collapsed": true
   },
   "outputs": [],
   "source": [
    "relation_df = pd.DataFrame(list(characters.aggregate(pipeline)))"
   ]
  },
  {
   "cell_type": "markdown",
   "metadata": {},
   "source": [
    "## Get all Characters"
   ]
  },
  {
   "cell_type": "code",
   "execution_count": 53,
   "metadata": {
    "collapsed": true
   },
   "outputs": [],
   "source": [
    "pipeline = [\n",
    "    {\n",
    "        \"$lookup\" :\n",
    "        {\n",
    "            \"from\" : \"dynasties\",\n",
    "            \"localField\" : \"dnt\",\n",
    "            \"foreignField\" : \"_id\",\n",
    "            \"as\" : \"dynasty\"\n",
    "        }\n",
    "    },\n",
    "    {\n",
    "        \"$unwind\" : \"$dynasty\"\n",
    "    },\n",
    "    {\n",
    "        \"$project\" : {\"_id\" : 1, \"name\" : {\"$concat\" : [\"$bn\", \" \", \"$dynasty.name\"]}, \n",
    "                      \"culture\" : {\"$ifNull\" : [\"$cul\", \"$dynasty.culture\"]}, \n",
    "                      \"religion\" : {\"$ifNull\" : [\"$rel\", \"$dynasty.religion\"]} }\n",
    "    }\n",
    "]"
   ]
  },
  {
   "cell_type": "markdown",
   "metadata": {},
   "source": [
    "## Build Network"
   ]
  },
  {
   "cell_type": "code",
   "execution_count": 54,
   "metadata": {
    "collapsed": true
   },
   "outputs": [],
   "source": [
    "import networkx as nx\n",
    "import matplotlib.pyplot as plt"
   ]
  },
  {
   "cell_type": "code",
   "execution_count": 55,
   "metadata": {
    "collapsed": true
   },
   "outputs": [],
   "source": [
    "chars = list(characters.aggregate(pipeline))"
   ]
  },
  {
   "cell_type": "code",
   "execution_count": 62,
   "metadata": {
    "collapsed": true
   },
   "outputs": [],
   "source": [
    "for char in chars:\n",
    "    for key in list(char.keys()):\n",
    "            val = char[key]\n",
    "            if isinstance(val, type(None)):\n",
    "                del char[key]"
   ]
  },
  {
   "cell_type": "code",
   "execution_count": 63,
   "metadata": {
    "collapsed": true
   },
   "outputs": [],
   "source": [
    "G = nx.Graph()\n",
    "\n",
    "for char in chars: #characters.aggregate(pipeline):\n",
    "    if \"culture\" in char and \"religion\" in char and \"name\" in char:\n",
    "        G.add_node(char[\"_id\"], name = char['name'], culture = char['culture'], religion = char['religion'])"
   ]
  },
  {
   "cell_type": "code",
   "execution_count": 65,
   "metadata": {
    "collapsed": true
   },
   "outputs": [],
   "source": [
    "relation_df = relation_df.dropna(axis=0, how='any')\n",
    "\n",
    "for i in range(len(relation_df)):\n",
    "        G.add_edge(relation_df.loc[i, \"_id\"], relation_df.loc[i, \"parents\"])\n",
    "\n",
    "G.remove_nodes_from(nx.isolates(G)) #drop unconnected nodes       "
   ]
  },
  {
   "cell_type": "code",
   "execution_count": null,
   "metadata": {
    "collapsed": true
   },
   "outputs": [],
   "source": [
    "#nx.draw(G)\n",
    "#plt.show()"
   ]
  },
  {
   "cell_type": "code",
   "execution_count": 67,
   "metadata": {
    "collapsed": true
   },
   "outputs": [],
   "source": [
    "nx.write_graphml(max(nx.connected_component_subgraphs(G), key=len), \"ck2-World-Tree-2.graphml\")"
   ]
  },
  {
   "cell_type": "code",
   "execution_count": null,
   "metadata": {
    "collapsed": true
   },
   "outputs": [],
   "source": []
  }
 ],
 "metadata": {
  "kernelspec": {
   "display_name": "Python 3",
   "language": "python",
   "name": "python3"
  },
  "language_info": {
   "codemirror_mode": {
    "name": "ipython",
    "version": 3
   },
   "file_extension": ".py",
   "mimetype": "text/x-python",
   "name": "python",
   "nbconvert_exporter": "python",
   "pygments_lexer": "ipython3",
   "version": "3.6.2"
  }
 },
 "nbformat": 4,
 "nbformat_minor": 2
}
