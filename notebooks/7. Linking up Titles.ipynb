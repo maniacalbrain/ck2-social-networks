{
 "cells": [
  {
   "cell_type": "markdown",
   "metadata": {
    "collapsed": true
   },
   "source": [
    "# Stats from the Titles Collection"
   ]
  },
  {
   "cell_type": "markdown",
   "metadata": {},
   "source": [
    "This notebook looks at some stats from the Titles collection. The first block returns all titles held by an individual, in this case Charlemagne."
   ]
  },
  {
   "cell_type": "code",
   "execution_count": 1,
   "metadata": {
    "collapsed": true
   },
   "outputs": [],
   "source": [
    "from pymongo import MongoClient\n",
    "import pandas as pd\n",
    "import datetime"
   ]
  },
  {
   "cell_type": "code",
   "execution_count": 2,
   "metadata": {
    "collapsed": true
   },
   "outputs": [],
   "source": [
    "client = MongoClient()\n",
    "titles = client.ck2.titles"
   ]
  },
  {
   "cell_type": "markdown",
   "metadata": {},
   "source": [
    "## All Titles held by Charlemagne"
   ]
  },
  {
   "cell_type": "code",
   "execution_count": 3,
   "metadata": {
    "collapsed": true
   },
   "outputs": [],
   "source": [
    "pipeline = [\n",
    "    {\n",
    "        \"$unwind\" : \"$holders\"        \n",
    "    },\n",
    "    {\n",
    "        \"$lookup\": \n",
    "        {\n",
    "            \"from\" : \"characters\",\n",
    "            \"localField\" : \"holders.holder\",\n",
    "            \"foreignField\" : \"_id\",\n",
    "            \"as\" : \"title_holder\"\n",
    "        }\n",
    "    },\n",
    "    {\n",
    "        \"$unwind\" : \"$title_holder\"\n",
    "    },\n",
    "    {\n",
    "        \"$match\" : {\"title_holder._id\" : 6392}\n",
    "    },\n",
    "    {\n",
    "        \"$project\" : {\"_id\" : 0, \"title\": 1, \"holders.start_date\" :1, \"holders.end_date\" : 1}\n",
    "    }\n",
    "]"
   ]
  },
  {
   "cell_type": "code",
   "execution_count": 4,
   "metadata": {},
   "outputs": [
    {
     "name": "stdout",
     "output_type": "stream",
     "text": [
      "{'title': 'd_gelre', 'holders': {'start_date': datetime.datetime(775, 7, 7, 0, 0), 'end_date': datetime.datetime(801, 10, 19, 0, 0)}}\n",
      "{'title': 'c_gelre', 'holders': {'start_date': datetime.datetime(769, 1, 1, 0, 0), 'end_date': datetime.datetime(801, 10, 19, 0, 0)}}\n",
      "{'title': 'c_frisia', 'holders': {'start_date': datetime.datetime(769, 1, 1, 0, 0), 'end_date': datetime.datetime(801, 10, 19, 0, 0)}}\n",
      "{'title': 'k_lotharingia', 'holders': {'start_date': datetime.datetime(771, 2, 12, 0, 0), 'end_date': datetime.datetime(778, 6, 24, 0, 0)}}\n",
      "{'title': 'k_lotharingia', 'holders': {'start_date': datetime.datetime(791, 7, 8, 0, 0), 'end_date': datetime.datetime(801, 10, 19, 0, 0)}}\n",
      "{'title': 'd_luxembourg', 'holders': {'start_date': datetime.datetime(772, 5, 7, 0, 0), 'end_date': datetime.datetime(772, 5, 8, 0, 0)}}\n",
      "{'title': 'c_liege', 'holders': {'start_date': datetime.datetime(796, 5, 30, 0, 0), 'end_date': datetime.datetime(801, 10, 19, 0, 0)}}\n",
      "{'title': 'd_upper_lorraine', 'holders': {'start_date': datetime.datetime(777, 8, 7, 0, 0), 'end_date': datetime.datetime(777, 8, 8, 0, 0)}}\n",
      "{'title': 'd_lower_lorraine', 'holders': {'start_date': datetime.datetime(773, 3, 7, 0, 0), 'end_date': datetime.datetime(773, 3, 8, 0, 0)}}\n",
      "{'title': 'c_pfalz', 'holders': {'start_date': datetime.datetime(796, 5, 8, 0, 0), 'end_date': datetime.datetime(801, 10, 19, 0, 0)}}\n",
      "{'title': 'k_germany', 'holders': {'start_date': datetime.datetime(780, 11, 3, 0, 0), 'end_date': datetime.datetime(801, 10, 19, 0, 0)}}\n",
      "{'title': 'd_koln', 'holders': {'start_date': datetime.datetime(778, 10, 7, 0, 0), 'end_date': datetime.datetime(778, 10, 8, 0, 0)}}\n",
      "{'title': 'c_kleve', 'holders': {'start_date': datetime.datetime(769, 1, 1, 0, 0), 'end_date': datetime.datetime(780, 12, 7, 0, 0)}}\n",
      "{'title': 'c_kleve', 'holders': {'start_date': datetime.datetime(781, 5, 25, 0, 0), 'end_date': datetime.datetime(781, 7, 25, 0, 0)}}\n",
      "{'title': 'd_franconia', 'holders': {'start_date': datetime.datetime(785, 4, 22, 0, 0), 'end_date': datetime.datetime(785, 4, 22, 0, 0)}}\n",
      "{'title': 'c_wurzburg', 'holders': {'start_date': datetime.datetime(785, 4, 22, 0, 0), 'end_date': datetime.datetime(796, 7, 30, 0, 0)}}\n",
      "{'title': 'c_bamberg', 'holders': {'start_date': datetime.datetime(785, 4, 22, 0, 0), 'end_date': datetime.datetime(785, 6, 22, 0, 0)}}\n",
      "{'title': 'c_altmark', 'holders': {'start_date': datetime.datetime(778, 6, 17, 0, 0), 'end_date': datetime.datetime(779, 8, 31, 0, 0)}}\n",
      "{'title': 'k_france', 'holders': {'start_date': datetime.datetime(768, 9, 24, 0, 0), 'end_date': datetime.datetime(801, 10, 19, 0, 0)}}\n",
      "{'title': 'd_berry', 'holders': {'start_date': datetime.datetime(788, 3, 7, 0, 0), 'end_date': datetime.datetime(788, 3, 8, 0, 0)}}\n",
      "{'title': 'd_anjou', 'holders': {'start_date': datetime.datetime(789, 5, 7, 0, 0), 'end_date': datetime.datetime(789, 5, 8, 0, 0)}}\n",
      "{'title': 'd_normandy', 'holders': {'start_date': datetime.datetime(770, 4, 3, 0, 0), 'end_date': datetime.datetime(771, 2, 12, 0, 0)}}\n",
      "{'title': 'c_vexin', 'holders': {'start_date': datetime.datetime(771, 7, 1, 0, 0), 'end_date': datetime.datetime(788, 2, 9, 0, 0)}}\n",
      "{'title': 'd_orleans', 'holders': {'start_date': datetime.datetime(771, 2, 12, 0, 0), 'end_date': datetime.datetime(771, 2, 14, 0, 0)}}\n",
      "{'title': 'c_troyes', 'holders': {'start_date': datetime.datetime(771, 2, 12, 0, 0), 'end_date': datetime.datetime(778, 6, 24, 0, 0)}}\n",
      "{'title': 'd_valois', 'holders': {'start_date': datetime.datetime(780, 2, 9, 0, 0), 'end_date': datetime.datetime(801, 10, 19, 0, 0)}}\n",
      "{'title': 'c_ile_de_france', 'holders': {'start_date': datetime.datetime(771, 7, 1, 0, 0), 'end_date': datetime.datetime(801, 10, 19, 0, 0)}}\n",
      "{'title': 'c_vermandois', 'holders': {'start_date': datetime.datetime(769, 1, 1, 0, 0), 'end_date': datetime.datetime(801, 10, 19, 0, 0)}}\n",
      "{'title': 'k_aquitaine', 'holders': {'start_date': datetime.datetime(793, 2, 9, 0, 0), 'end_date': datetime.datetime(801, 10, 19, 0, 0)}}\n",
      "{'title': 'd_poitou', 'holders': {'start_date': datetime.datetime(774, 6, 3, 0, 0), 'end_date': datetime.datetime(780, 2, 10, 0, 0)}}\n",
      "{'title': 'c_saintonge', 'holders': {'start_date': datetime.datetime(771, 5, 24, 0, 0), 'end_date': datetime.datetime(780, 12, 7, 0, 0)}}\n",
      "{'title': 'd_auvergne', 'holders': {'start_date': datetime.datetime(784, 12, 7, 0, 0), 'end_date': datetime.datetime(784, 12, 8, 0, 0)}}\n",
      "{'title': 'c_auvergne', 'holders': {'start_date': datetime.datetime(774, 5, 24, 0, 0), 'end_date': datetime.datetime(774, 7, 24, 0, 0)}}\n",
      "{'title': 'c_gevaudan', 'holders': {'start_date': datetime.datetime(774, 5, 24, 0, 0), 'end_date': datetime.datetime(774, 7, 24, 0, 0)}}\n",
      "{'title': 'd_bourbon', 'holders': {'start_date': datetime.datetime(783, 3, 7, 0, 0), 'end_date': datetime.datetime(783, 3, 8, 0, 0)}}\n",
      "{'title': 'k_burgundy', 'holders': {'start_date': datetime.datetime(786, 1, 7, 0, 0), 'end_date': datetime.datetime(801, 10, 19, 0, 0)}}\n",
      "{'title': 'd_dauphine', 'holders': {'start_date': datetime.datetime(771, 2, 12, 0, 0), 'end_date': datetime.datetime(771, 2, 13, 0, 0)}}\n",
      "{'title': 'c_besancon', 'holders': {'start_date': datetime.datetime(771, 2, 12, 0, 0), 'end_date': datetime.datetime(801, 10, 19, 0, 0)}}\n"
     ]
    }
   ],
   "source": [
    "for char in titles.aggregate(pipeline):\n",
    "    print(char)"
   ]
  },
  {
   "cell_type": "markdown",
   "metadata": {
    "collapsed": true
   },
   "source": [
    "## Longest Held Elective Kindom or Empire Titles"
   ]
  },
  {
   "cell_type": "markdown",
   "metadata": {},
   "source": [
    "Title holders are stored in the save file with how they were aquired; through inheritance, conquest or election. Below are the Kingdom and Empire level titles that individuals were elected to ordered by the longest reign. Counties and Duchies are excluded as often a child will be elected on their fathers death while Kingdom and Empire titles are more selective. \n",
    "\n",
    "The figure for reign length is in days. Mamoudou Cisse led Mali for almost 48 years. Callistus was the longest reigning pope at 35 years."
   ]
  },
  {
   "cell_type": "code",
   "execution_count": 5,
   "metadata": {
    "collapsed": true
   },
   "outputs": [],
   "source": [
    "pipeline = [\n",
    "    {\n",
    "        \"$match\" : {\"$or\" : [{\"title\" : {\"$regex\" : '^k_.*'}}, {\"title\" : {\"$regex\" : '^e_.*'}}]}\n",
    "    },\n",
    "    {\n",
    "        \"$unwind\" : \"$holders\"        \n",
    "    },\n",
    "    {\n",
    "        \"$lookup\": \n",
    "        {\n",
    "            \"from\" : \"characters\",\n",
    "            \"localField\" : \"holders.holder\",\n",
    "            \"foreignField\" : \"_id\",\n",
    "            \"as\" : \"title_holder\"\n",
    "        }\n",
    "    },\n",
    "    {\n",
    "        \"$unwind\" : \"$title_holder\"\n",
    "    },\n",
    "    {\n",
    "        \"$lookup\": \n",
    "        {\n",
    "            \"from\" : \"dynasties\",\n",
    "            \"localField\" : \"title_holder.dnt\",\n",
    "            \"foreignField\" : \"_id\",\n",
    "            \"as\" : \"title_holder_dyn\"\n",
    "        }\n",
    "    },\n",
    "    {\n",
    "        \"$unwind\" : \"$title_holder_dyn\"\n",
    "    },\n",
    "    \n",
    "    {\n",
    "        \"$match\" : {\"holders.type\" : \"election\"}\n",
    "    },\n",
    "    {\n",
    "        \"$project\" : {\"_id\" : 0, 'title' : 1, \n",
    "                      \"name\" : {\"$ifNull\" : [\"$title_holder.taken_name\", {\"$concat\" : [\"$title_holder.bn\", \" \", \"$title_holder_dyn.name\" ]}]},\n",
    "                     \"reign_length\" : \"$holders.reign_length\", \"start_date\" : \"$holders.start_date\", \"end_date\" : \"$holders.end_date\", \n",
    "                      \"d_d\" : \"$title_holder.d_d\"}\n",
    "    },\n",
    "    {\n",
    "        \"$sort\" : {\"reign_length\" : -1}\n",
    "    },\n",
    "    {\n",
    "        \"$limit\" : 25\n",
    "    }\n",
    "]"
   ]
  },
  {
   "cell_type": "code",
   "execution_count": 6,
   "metadata": {},
   "outputs": [
    {
     "name": "stdout",
     "output_type": "stream",
     "text": [
      "{'title': 'k_mali', 'name': 'Mamoudou Cisse', 'reign_length': 17498, 'start_date': datetime.datetime(1069, 7, 10, 0, 0), 'end_date': datetime.datetime(1117, 6, 7, 0, 0), 'd_d': datetime.datetime(1117, 6, 7, 0, 0)}\n",
      "{'title': 'k_poland', 'name': 'Cirulis Palemonaitis', 'reign_length': 16715, 'start_date': datetime.datetime(817, 11, 15, 0, 0), 'end_date': datetime.datetime(863, 8, 21, 0, 0), 'd_d': datetime.datetime(863, 8, 21, 0, 0)}\n",
      "{'title': 'k_bulgaria', 'name': 'Butigeidis Palemonaitis', 'reign_length': 16430, 'start_date': datetime.datetime(869, 6, 20, 0, 0), 'end_date': datetime.datetime(914, 6, 15, 0, 0), 'd_d': datetime.datetime(914, 6, 15, 0, 0)}\n",
      "{'title': 'k_saxony', 'name': 'Hesso Hessing', 'reign_length': 14951, 'start_date': datetime.datetime(797, 10, 22, 0, 0), 'end_date': datetime.datetime(838, 9, 28, 0, 0), 'd_d': datetime.datetime(838, 9, 28, 0, 0)}\n",
      "{'title': 'k_finland', 'name': 'Dobrinya Saaremaa', 'reign_length': 14812, 'start_date': datetime.datetime(1202, 2, 23, 0, 0), 'end_date': datetime.datetime(1242, 9, 13, 0, 0), 'd_d': datetime.datetime(1242, 9, 13, 0, 0)}\n",
      "{'title': 'k_lithuania', 'name': 'Butigeidis Penikis', 'reign_length': 14123, 'start_date': datetime.datetime(995, 8, 19, 0, 0), 'end_date': datetime.datetime(1034, 4, 20, 0, 0), 'd_d': datetime.datetime(1034, 4, 20, 0, 0)}\n",
      "{'title': 'k_mali', 'name': 'Bonga Cisse', 'reign_length': 13462, 'start_date': datetime.datetime(943, 11, 7, 0, 0), 'end_date': datetime.datetime(980, 9, 15, 0, 0), 'd_d': datetime.datetime(980, 9, 15, 0, 0)}\n",
      "{'title': 'k_mali', 'name': 'Nuh Cisse', 'reign_length': 13288, 'start_date': datetime.datetime(1033, 2, 21, 0, 0), 'end_date': datetime.datetime(1069, 7, 10, 0, 0), 'd_d': datetime.datetime(1069, 7, 10, 0, 0)}\n",
      "{'title': 'k_finland', 'name': 'Klukis Palemonaitis', 'reign_length': 13079, 'start_date': datetime.datetime(944, 10, 24, 0, 0), 'end_date': datetime.datetime(980, 8, 15, 0, 0), 'd_d': datetime.datetime(980, 8, 15, 0, 0)}\n",
      "{'title': 'k_bavaria', 'name': 'Toghan Khunzakhal', 'reign_length': 12945, 'start_date': datetime.datetime(957, 12, 7, 0, 0), 'end_date': datetime.datetime(993, 5, 17, 0, 0), 'd_d': datetime.datetime(993, 5, 17, 0, 0)}\n",
      "{'title': 'k_papal_state', 'name': 'Callistus', 'reign_length': 12884, 'start_date': datetime.datetime(854, 7, 9, 0, 0), 'end_date': datetime.datetime(889, 10, 17, 0, 0), 'd_d': datetime.datetime(889, 10, 17, 0, 0)}\n",
      "{'title': 'k_bavaria', 'name': 'Kormesiy Khunzakhal', 'reign_length': 12668, 'start_date': datetime.datetime(829, 12, 17, 0, 0), 'end_date': datetime.datetime(864, 8, 23, 0, 0), 'd_d': datetime.datetime(864, 8, 23, 0, 0)}\n",
      "{'title': 'k_lithuania', 'name': 'Parush Penikis', 'reign_length': 12522, 'start_date': datetime.datetime(1066, 3, 12, 0, 0), 'end_date': datetime.datetime(1100, 6, 24, 0, 0), 'd_d': datetime.datetime(1100, 6, 24, 0, 0)}\n",
      "{'title': 'k_hungary', 'name': 'Odolgan Khunzakhal', 'reign_length': 12291, 'start_date': datetime.datetime(777, 10, 13, 0, 0), 'end_date': datetime.datetime(811, 6, 8, 0, 0), 'd_d': datetime.datetime(811, 6, 8, 0, 0)}\n",
      "{'title': 'k_lithuania', 'name': 'Budziwuj of the Golensizi', 'reign_length': 12040, 'start_date': datetime.datetime(925, 1, 27, 0, 0), 'end_date': datetime.datetime(958, 1, 14, 0, 0), 'd_d': datetime.datetime(980, 7, 1, 0, 0)}\n",
      "{'title': 'k_finland', 'name': 'Songaila Saaremaa', 'reign_length': 11869, 'start_date': datetime.datetime(1271, 2, 5, 0, 0), 'end_date': datetime.datetime(1303, 8, 6, 0, 0), 'd_d': datetime.datetime(1303, 8, 6, 0, 0)}\n",
      "{'title': 'k_lithuania', 'name': 'Algirdas Penikis', 'reign_length': 11649, 'start_date': datetime.datetime(1034, 4, 20, 0, 0), 'end_date': datetime.datetime(1066, 3, 12, 0, 0), 'd_d': datetime.datetime(1066, 3, 12, 0, 0)}\n",
      "{'title': 'k_mali', 'name': 'Tib Cisse', 'reign_length': 11600, 'start_date': datetime.datetime(1130, 3, 21, 0, 0), 'end_date': datetime.datetime(1161, 12, 23, 0, 0), 'd_d': datetime.datetime(1161, 12, 23, 0, 0)}\n",
      "{'title': 'k_lotharingia', 'name': 'Charles Jerome-Karling', 'reign_length': 11508, 'start_date': datetime.datetime(1279, 3, 16, 0, 0), 'end_date': datetime.datetime(1310, 9, 18, 0, 0), 'd_d': datetime.datetime(1310, 9, 18, 0, 0)}\n",
      "{'title': 'k_lithuania', 'name': 'Erdvilas Penikis', 'reign_length': 11290, 'start_date': datetime.datetime(1207, 10, 9, 0, 0), 'end_date': datetime.datetime(1238, 9, 6, 0, 0), 'd_d': datetime.datetime(1238, 9, 6, 0, 0)}\n",
      "{'title': 'k_bulgaria', 'name': 'Ingvar Palemonaitis', 'reign_length': 11039, 'start_date': datetime.datetime(936, 9, 7, 0, 0), 'end_date': datetime.datetime(966, 11, 28, 0, 0), 'd_d': datetime.datetime(972, 11, 12, 0, 0)}\n",
      "{'title': 'k_poland', 'name': 'Azuolas Saaremaa', 'reign_length': 10931, 'start_date': datetime.datetime(1094, 1, 8, 0, 0), 'end_date': datetime.datetime(1123, 12, 14, 0, 0), 'd_d': datetime.datetime(1123, 12, 14, 0, 0)}\n",
      "{'title': 'k_finland', 'name': 'Zivinbudas Penikis', 'reign_length': 10823, 'start_date': datetime.datetime(1062, 5, 15, 0, 0), 'end_date': datetime.datetime(1092, 1, 1, 0, 0), 'd_d': datetime.datetime(1092, 1, 1, 0, 0)}\n",
      "{'title': 'k_bavaria', 'name': 'Busir Khunzakhal', 'reign_length': 10266, 'start_date': datetime.datetime(873, 7, 11, 0, 0), 'end_date': datetime.datetime(901, 8, 20, 0, 0), 'd_d': datetime.datetime(901, 8, 20, 0, 0)}\n",
      "{'title': 'k_rus', 'name': 'Dravenis Sviriskis', 'reign_length': 10112, 'start_date': datetime.datetime(1364, 8, 27, 0, 0), 'end_date': datetime.datetime(1392, 5, 4, 0, 0), 'd_d': datetime.datetime(1392, 5, 4, 0, 0)}\n"
     ]
    }
   ],
   "source": [
    "for title in titles.aggregate(pipeline):\n",
    "    if \"end_date\" in title.keys() and title[\"d_d\"] >= title[\"end_date\"]:\n",
    "        print(title)"
   ]
  },
  {
   "cell_type": "markdown",
   "metadata": {
    "collapsed": true
   },
   "source": [
    "# Most County Titles Held, most Dukedoms, most Kingdoms and Empires etc"
   ]
  },
  {
   "cell_type": "code",
   "execution_count": 7,
   "metadata": {
    "collapsed": true
   },
   "outputs": [],
   "source": [
    "pipeline = [\n",
    "    {\n",
    "        \"$match\" : {\"title\" : {\"$regex\" : '^c_.*'}}\n",
    "    },\n",
    "    {\n",
    "        \"$unwind\" : \"$holders\"        \n",
    "    },\n",
    "    {\n",
    "        \"$lookup\": \n",
    "        {\n",
    "            \"from\" : \"characters\",\n",
    "            \"localField\" : \"holders.holder\",\n",
    "            \"foreignField\" : \"_id\",\n",
    "            \"as\" : \"title_holder\"\n",
    "        }\n",
    "    },\n",
    "    {\n",
    "        \"$unwind\" : \"$title_holder\"\n",
    "    },\n",
    "    {\n",
    "        \"$lookup\": \n",
    "        {\n",
    "            \"from\" : \"dynasties\",\n",
    "            \"localField\" : \"title_holder.dnt\",\n",
    "            \"foreignField\" : \"_id\",\n",
    "            \"as\" : \"title_holder_dyn\"\n",
    "        }\n",
    "    },\n",
    "    {\n",
    "        \"$unwind\" : \"$title_holder_dyn\"\n",
    "    },    \n",
    "    {\n",
    "        \"$group\" : {\"_id\" : \"$holders.holder\",\n",
    "                    \"firstname\" : {\"$first\" : \"$title_holder.bn\"},  \n",
    "                    \"surname\" : {\"$first\" : \"$title_holder_dyn.name\"},\n",
    "                    \"titles\" : {\"$addToSet\": \"$title\"},\n",
    "                    \"d_d\" : {\"$first\" : \"$title_holder.d_d\"}\n",
    "                    },\n",
    "    },\n",
    "    {\n",
    "        \"$project\" : {\"_id\" : 1, \"name\" : {\"$concat\" : [\"$firstname\", \" \", \"$surname\"]},  \n",
    "                      \"title_count\" : {\"$size\" : \"$titles\"}, \"d_d\" : \"$d_d\"}\n",
    "    },\n",
    "    {\n",
    "        \"$sort\" : {\"title_count\" : -1}\n",
    "    },\n",
    "    {\n",
    "        \"$limit\" : 20\n",
    "    }\n",
    "]"
   ]
  },
  {
   "cell_type": "code",
   "execution_count": 8,
   "metadata": {},
   "outputs": [
    {
     "name": "stdout",
     "output_type": "stream",
     "text": [
      "{'_id': 786263, 'name': 'Eadulf Mel', 'title_count': 37, 'd_d': datetime.datetime(1195, 2, 24, 0, 0)}\n",
      "{'_id': 635388, 'name': 'Madanapala Ayudha', 'title_count': 33, 'd_d': datetime.datetime(1025, 8, 13, 0, 0)}\n",
      "{'_id': 932125, 'name': 'Qawurd Najibid', 'title_count': 32, 'd_d': datetime.datetime(1372, 9, 7, 0, 0)}\n",
      "{'_id': 725343, 'name': 'Theocharistos Komnenodoukas', 'title_count': 32, 'd_d': datetime.datetime(1133, 9, 4, 0, 0)}\n",
      "{'_id': 512268, 'name': 'Isa Isaid', 'title_count': 32, 'd_d': datetime.datetime(839, 9, 9, 0, 0)}\n",
      "{'_id': 756903, 'name': 'Markos Komnenodoukas', 'title_count': 31, 'd_d': datetime.datetime(1135, 4, 8, 0, 0)}\n",
      "{'_id': 758926, 'name': 'Eusebios Komnenodoukas', 'title_count': 31, 'd_d': datetime.datetime(1138, 7, 15, 0, 0)}\n",
      "{'_id': 890982, 'name': 'Abdullah Najibid', 'title_count': 30, 'd_d': datetime.datetime(1336, 6, 23, 0, 0)}\n",
      "{'_id': 944090, 'name': 'Maccus Clifford', 'title_count': 29, 'd_d': datetime.datetime(1415, 3, 15, 0, 0)}\n",
      "{'_id': 908627, 'name': 'Evrard de Flotte', 'title_count': 27, 'd_d': datetime.datetime(1364, 6, 28, 0, 0)}\n",
      "{'_id': 979746, 'name': 'Alain Nibelunging', 'title_count': 26, 'd_d': datetime.datetime(1436, 12, 27, 0, 0)}\n",
      "{'_id': 925710, 'name': 'Ordgar Clifford', 'title_count': 25, 'd_d': datetime.datetime(1386, 12, 3, 0, 0)}\n",
      "{'_id': 593648, 'name': 'Bihor Kisaid', 'title_count': 24, 'd_d': datetime.datetime(958, 2, 21, 0, 0)}\n",
      "{'_id': 803683, 'name': 'Aldebert de Trith', 'title_count': 24, 'd_d': datetime.datetime(1249, 3, 28, 0, 0)}\n",
      "{'_id': 512645, 'name': 'Itakh Kabar', 'title_count': 24, 'd_d': datetime.datetime(813, 2, 22, 0, 0)}\n",
      "{'_id': 809345, 'name': 'Erdvilas Penikis', 'title_count': 24, 'd_d': datetime.datetime(1238, 9, 6, 0, 0)}\n",
      "{'_id': 840689, 'name': 'Jochi Jochid', 'title_count': 24, 'd_d': datetime.datetime(1249, 11, 18, 0, 0)}\n",
      "{'_id': 210014, 'name': 'Umar Muhallabid', 'title_count': 23, 'd_d': datetime.datetime(793, 4, 1, 0, 0)}\n",
      "{'_id': 599606, 'name': 'Mänär Kisaid', 'title_count': 22, 'd_d': datetime.datetime(974, 11, 15, 0, 0)}\n",
      "{'_id': 845151, 'name': 'Totil z Roztoki', 'title_count': 22, 'd_d': datetime.datetime(1278, 1, 28, 0, 0)}\n"
     ]
    }
   ],
   "source": [
    "for title in titles.aggregate(pipeline):\n",
    "    print(title)"
   ]
  },
  {
   "cell_type": "markdown",
   "metadata": {},
   "source": [
    "This list shows the rulers who held the most amount of counties. Eadulf was the King of England who won the Crusade for the Greek Republic after it elected a series of Islamic rulers. While he held 37 unique county titles during his life many of these may have been held for less than a day before redistributing them after the conquest of Greece. \n",
    "Bishop Theocharistos founded the Republic of Greece and while no other member of the Komnenodoukas Dynasty succeded him to that title his large holdings were to his distant relative Bishop Markos.\n",
    "The Knights Hospitaller controlled most of Germany and a number of their leaders appear above; the father and son Ordgar and Maccus Clifford, Evrard de Flotte, Alain Nibelunging, Aldebert de Trith and Totil z Roztoki."
   ]
  },
  {
   "cell_type": "markdown",
   "metadata": {},
   "source": [
    "## Most Duchies"
   ]
  },
  {
   "cell_type": "code",
   "execution_count": 9,
   "metadata": {
    "collapsed": true
   },
   "outputs": [],
   "source": [
    "pipeline = [\n",
    "    {\n",
    "        \"$match\" : {\"title\" : {\"$regex\" : '^d_.*'}}\n",
    "    },\n",
    "    {\n",
    "        \"$unwind\" : \"$holders\"        \n",
    "    },\n",
    "    {\n",
    "        \"$lookup\": \n",
    "        {\n",
    "            \"from\" : \"characters\",\n",
    "            \"localField\" : \"holders.holder\",\n",
    "            \"foreignField\" : \"_id\",\n",
    "            \"as\" : \"title_holder\"\n",
    "        }\n",
    "    },\n",
    "    {\n",
    "        \"$unwind\" : \"$title_holder\"\n",
    "    },\n",
    "    {\n",
    "        \"$lookup\": \n",
    "        {\n",
    "            \"from\" : \"dynasties\",\n",
    "            \"localField\" : \"title_holder.dnt\",\n",
    "            \"foreignField\" : \"_id\",\n",
    "            \"as\" : \"title_holder_dyn\"\n",
    "        }\n",
    "    },\n",
    "    {\n",
    "        \"$unwind\" : \"$title_holder_dyn\"\n",
    "    },    \n",
    "    {\n",
    "        \"$group\" : {\"_id\" : \"$holders.holder\",\n",
    "                    \"firstname\" : {\"$first\" : \"$title_holder.bn\"},  \n",
    "                    \"surname\" : {\"$first\" : \"$title_holder_dyn.name\"},\n",
    "                    \"titles\" : {\"$addToSet\": \"$title\"},\n",
    "                    \"d_d\" : {\"$first\" : \"$title_holder.d_d\"}\n",
    "                    },\n",
    "    },\n",
    "    {\n",
    "        \"$project\" : {\"_id\" : 1, \"name\" : {\"$concat\" : [\"$firstname\", \" \", \"$surname\"]},  \n",
    "                      \"title_count\" : {\"$size\" : \"$titles\"}, \"d_d\" : \"$d_d\",\n",
    "                      \"titles\" : \"$titles\"\n",
    "                     },\n",
    "                        \n",
    "    },\n",
    "    {\n",
    "        \"$sort\" : {\"title_count\" : -1}\n",
    "    },\n",
    "    {\n",
    "        \"$limit\" : 1\n",
    "    }\n",
    "]"
   ]
  },
  {
   "cell_type": "code",
   "execution_count": 10,
   "metadata": {},
   "outputs": [
    {
     "name": "stdout",
     "output_type": "stream",
     "text": [
      "{'_id': 832705, 'name': 'Timotheos Kritopolos', 'title_count': 33, 'd_d': datetime.datetime(1273, 9, 14, 0, 0), 'titles': ['d_pecs', 'd_wallachia', 'd_khiva', 'd_syr_darya', 'd_turkestan', 'd_upper_burgundy', 'd_kiev', 'd_dalmatia', 'd_silesia', 'd_rashka', 'd_sardinia', 'd_karvuna', 'd_bosnia', 'd_turnovo', 'd_vidin', 'd_charsianon', 'd_edessa', 'd_alania', 'd_cibyrrhaeot', 'd_samos', 'd_athens', 'd_paphlagonia', 'd_adrianopolis', 'd_moravia', 'd_armenia_minor', 'd_nikaea', 'd_osterreich', 'd_armenia', 'd_coloneia', 'd_carinthia', 'd_dyrrachion', 'd_tyrol', 'd_bavaria']}\n"
     ]
    }
   ],
   "source": [
    "for title in titles.aggregate(pipeline):\n",
    "    print(title)"
   ]
  },
  {
   "cell_type": "markdown",
   "metadata": {},
   "source": [
    "Replacing a distant relative, Timotheos Kritopolos was installed as leader of Byzantium and may possibly have revoked and redistributed many of these titles."
   ]
  },
  {
   "cell_type": "markdown",
   "metadata": {},
   "source": [
    "## Most Kingdoms/Empires"
   ]
  },
  {
   "cell_type": "code",
   "execution_count": 11,
   "metadata": {
    "collapsed": true
   },
   "outputs": [],
   "source": [
    "pipeline = [\n",
    "    {\n",
    "        \"$match\" : {\"$or\" : [{\"title\" : {\"$regex\" : '^k_.*'}}, {\"title\" : {\"$regex\" : '^e_.*'}}]}\n",
    "    },\n",
    "    {\n",
    "        \"$unwind\" : \"$holders\"        \n",
    "    },\n",
    "    {\n",
    "        \"$lookup\": \n",
    "        {\n",
    "            \"from\" : \"characters\",\n",
    "            \"localField\" : \"holders.holder\",\n",
    "            \"foreignField\" : \"_id\",\n",
    "            \"as\" : \"title_holder\"\n",
    "        }\n",
    "    },\n",
    "    {\n",
    "        \"$unwind\" : \"$title_holder\"\n",
    "    },\n",
    "    {\n",
    "        \"$lookup\": \n",
    "        {\n",
    "            \"from\" : \"dynasties\",\n",
    "            \"localField\" : \"title_holder.dnt\",\n",
    "            \"foreignField\" : \"_id\",\n",
    "            \"as\" : \"title_holder_dyn\"\n",
    "        }\n",
    "    },\n",
    "    {\n",
    "        \"$unwind\" : \"$title_holder_dyn\"\n",
    "    },    \n",
    "    {\n",
    "        \"$group\" : {\"_id\" : \"$holders.holder\",\n",
    "                    \"firstname\" : {\"$first\" : \"$title_holder.bn\"},  \n",
    "                    \"surname\" : {\"$first\" : \"$title_holder_dyn.name\"},\n",
    "                    \"titles\" : {\"$addToSet\": \"$title\"},\n",
    "                    \"d_d\" : {\"$first\" : \"$title_holder.d_d\"}\n",
    "                    },\n",
    "    },\n",
    "    {\n",
    "        \"$project\" : {\"_id\" : 1, \"name\" : {\"$concat\" : [\"$firstname\", \" \", \"$surname\"]},  \n",
    "                      \"title_count\" : {\"$size\" : \"$titles\"}, \"d_d\" : \"$d_d\",\n",
    "                      \"titles\" : \"$titles\"\n",
    "                     },\n",
    "                        \n",
    "    },\n",
    "    {\n",
    "        \"$sort\" : {\"title_count\" : -1}\n",
    "    },\n",
    "    {\n",
    "        \"$limit\" : 1\n",
    "    }\n",
    "]"
   ]
  },
  {
   "cell_type": "code",
   "execution_count": 12,
   "metadata": {},
   "outputs": [
    {
     "name": "stdout",
     "output_type": "stream",
     "text": [
      "{'_id': 1034299, 'name': 'Kanvarpala Vidurathpalid', 'title_count': 8, 'd_d': None, 'titles': ['k_maharastra', 'k_orissa', 'k_bengal', 'k_kosala', 'k_rajputana', 'k_delhi', 'k_telingana', 'k_punjab']}\n"
     ]
    }
   ],
   "source": [
    "for title in titles.aggregate(pipeline):\n",
    "    print(title)"
   ]
  },
  {
   "cell_type": "markdown",
   "metadata": {
    "collapsed": true
   },
   "source": [
    "14 years at the end at the games end Kanvarpala holds the same 8 kingdoms held by his father and grandfather."
   ]
  }
 ],
 "metadata": {
  "kernelspec": {
   "display_name": "Python 3",
   "language": "python",
   "name": "python3"
  },
  "language_info": {
   "codemirror_mode": {
    "name": "ipython",
    "version": 3
   },
   "file_extension": ".py",
   "mimetype": "text/x-python",
   "name": "python",
   "nbconvert_exporter": "python",
   "pygments_lexer": "ipython3",
   "version": "3.6.2"
  }
 },
 "nbformat": 4,
 "nbformat_minor": 2
}
