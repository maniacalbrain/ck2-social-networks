{
 "cells": [
  {
   "cell_type": "code",
   "execution_count": 1,
   "metadata": {
    "collapsed": true
   },
   "outputs": [],
   "source": [
    "from pymongo import MongoClient\n",
    "import pymongo\n",
    "import datetime\n",
    "import re"
   ]
  },
  {
   "cell_type": "code",
   "execution_count": 2,
   "metadata": {
    "collapsed": true
   },
   "outputs": [],
   "source": [
    "client = MongoClient()\n",
    "dynasties = client.ck2.dynasties"
   ]
  },
  {
   "cell_type": "code",
   "execution_count": 3,
   "metadata": {
    "collapsed": true
   },
   "outputs": [],
   "source": [
    "dynasties.delete_many({})\n",
    "\n",
    "dyn = {}\n",
    "with open(\"../WorkInProgress2/combinedDynasties.txt\", encoding=\"utf-8\") as dynfile:\n",
    "        for line in dynfile:\n",
    "            if len(re.findall(r\"^\\s*([0-9]+)=\", line)) > 0:\n",
    "                \n",
    "                if(\"_id\" in dyn.keys()):\n",
    "                    try:                        \n",
    "                        dynasties.insert_one(dyn)\n",
    "                    except pymongo.errors.DuplicateKeyError as e:\n",
    "                        if (\"religion\" in dyn.keys()):\n",
    "                            dynasties.update_one({'_id' : dyn['_id']}, {\"$set\" : {\"religion\" : dyn[\"religion\"]}})\n",
    "\n",
    "                        if (\"culture\" in dyn.keys()):\n",
    "                            dynasties.update_one({'_id' : dyn['_id']}, {\"$set\" : {\"culture\" : dyn[\"culture\"]}})            \n",
    "                \n",
    "                dyn = {}               \n",
    "                \n",
    "                #print(re.findall(r\"\\s*([0-9]+)=\", line))\n",
    "                dyn[\"_id\"] = int(re.findall(r\"\\s*([0-9]+)=\", line)[0])\n",
    "            \n",
    "            elif len(re.findall(r\"\\s*name=\\\"(.+)\\\"\", line)) > 0:\n",
    "                dyn[\"name\"] = re.findall(r\"\\s*name=\\\"(.+)\\\"\", line)[0]\n",
    "                \n",
    "            elif len(re.findall(r\"\\s*culture=\\\"(.+)\\\"\", line)) > 0:\n",
    "                dyn[\"culture\"] = re.findall(r\"\\s*culture=\\\"(.+)\\\"\", line)[0]\n",
    "                \n",
    "            elif len(re.findall(r\"\\s*religion=\\\"(.+)\\\"\", line)) > 0:\n",
    "                dyn[\"religion\"] = re.findall(r\"\\s*religion=\\\"(.+)\\\"\", line)[0]\n",
    "                \n",
    "if(\"_id\" in dyn.keys()):\n",
    "    try:                                                \n",
    "        dynasties.insert_one(dyn)\n",
    "    except pymongo.errors.DuplicateKeyError as e:\n",
    "        if (\"religion\" in dyn.keys()):\n",
    "            dynasties.update_one({'_id' : dyn['_id']}, {\"$set\" : {\"religion\" : dyn[\"religion\"]}})\n",
    "        \n",
    "        if (\"culture\" in dyn.keys()):\n",
    "            dynasties.update_one({'_id' : dyn['_id']}, {\"$set\" : {\"culture\" : dyn[\"culture\"]}})"
   ]
  },
  {
   "cell_type": "code",
   "execution_count": null,
   "metadata": {
    "collapsed": true
   },
   "outputs": [],
   "source": []
  }
 ],
 "metadata": {
  "kernelspec": {
   "display_name": "Python 3",
   "language": "python",
   "name": "python3"
  },
  "language_info": {
   "codemirror_mode": {
    "name": "ipython",
    "version": 3
   },
   "file_extension": ".py",
   "mimetype": "text/x-python",
   "name": "python",
   "nbconvert_exporter": "python",
   "pygments_lexer": "ipython3",
   "version": "3.6.2"
  }
 },
 "nbformat": 4,
 "nbformat_minor": 2
}
