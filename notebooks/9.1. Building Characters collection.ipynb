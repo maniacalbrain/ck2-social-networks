{
 "cells": [
  {
   "cell_type": "code",
   "execution_count": 1,
   "metadata": {
    "collapsed": true
   },
   "outputs": [],
   "source": [
    "from pymongo import MongoClient\n",
    "import datetime\n",
    "import re"
   ]
  },
  {
   "cell_type": "code",
   "execution_count": 2,
   "metadata": {
    "collapsed": true
   },
   "outputs": [],
   "source": [
    "client = MongoClient()\n",
    "characters = client.ck2.characters"
   ]
  },
  {
   "cell_type": "code",
   "execution_count": 3,
   "metadata": {
    "collapsed": true
   },
   "outputs": [],
   "source": [
    "#wipe the entire collection\n",
    "characters.delete_many({})\n",
    "\n",
    "last_char = {}\n",
    "char = {}\n",
    "spouse = []\n",
    "\n",
    "with open(\"../WorkInProgress2/character.txt\", encoding=\"utf-8\") as characterfile:\n",
    "        for line in characterfile:\n",
    "            if len(re.findall(r\"^\\s*([0-9]+)=\", line)) > 0:\n",
    "                #check is b_d is set to prevent inserting first time around. This is because there is no \"absolute end\" to \n",
    "                #a character file, no attribute that is at the end of every character. } is but it appears in a lot of places.\n",
    "                if(\"b_d\" in char.keys()):\n",
    "                    try:\n",
    "                        if len(spouse) > 0:\n",
    "                            char[\"spouse\"] = spouse                       \n",
    "                        characters.insert_one(char)\n",
    "                    except:\n",
    "                        print(\"insert failed: \" + char)            \n",
    "                last_char = char\n",
    "                char = {}\n",
    "                spouse = []\n",
    "\n",
    "                #print(re.findall(r\"\\s*([0-9]+)=\", line))\n",
    "                char[\"_id\"] = int(re.findall(r\"\\s*([0-9]+)=\", line)[0])\n",
    "\n",
    "            #birth name\n",
    "            elif len(re.findall(r\"\\s*bn=\\\"(.+)\\\"\", line)) > 0:\n",
    "                char[\"bn\"] = re.findall(r\"\\s*bn=\\\"(.+)\\\"\", line)[0]\n",
    "\n",
    "            #isHistorical\n",
    "            elif len(re.findall(r\"\\s*hist=(.+)\", line)) > 0:\n",
    "                char[\"hist\"] = 1\n",
    "\n",
    "            #isFemale\n",
    "            elif len(re.findall(r\"\\s*fem=(.+)\", line)) > 0:\n",
    "                char[\"fem\"] = 1            \n",
    "\n",
    "            #nickname and date of birth\n",
    "            elif len(re.findall(r\"\\s*nick=(\\S+)\\s+b_d=\\\"([0-9]+.[0-9]+.[0-9]+)\\\"\", line)) > 0:\n",
    "                char[\"nick\"] = re.findall(r\"\\s*nick=(\\S+)\\s+b_d=\\\"([0-9]+.[0-9]+.[0-9]+)\\\"\", line)[0][0]\n",
    "                this_date = re.findall(r\"\\s*nick=\\S+\\s+b_d=\\\"([0-9]+).([0-9]+).([0-9]+)\\\"\", line)\n",
    "                char[\"b_d\"] = datetime.datetime(int(this_date[0][0]), int(this_date[0][1]), int(this_date[0][2])) \n",
    "           \n",
    "            #birth date\n",
    "            elif len(re.findall(r\"\\s*.*\\s*b_d=\\\"([0-9]+.[0-9]+.[0-9]+)\\\"\", line)) > 0:\n",
    "                this_date = re.findall(r\"\\s*b_d=\\\"([0-9]+).([0-9]+).([0-9]+)\\\"\", line)\n",
    "                char[\"b_d\"] = datetime.datetime(int(this_date[0][0]), int(this_date[0][1]), int(this_date[0][2]))          \n",
    "\n",
    "            \n",
    "            #death date\n",
    "            elif len(re.findall(r\"\\s*d_d=\\\"([0-9]+.[0-9]+.[0-9]+)\\\"\", line)) > 0:\n",
    "                this_date = re.findall(r\"\\s*d_d=\\\"([0-9]+).([0-9]+).([0-9]+)\\\"\", line)                \n",
    "                char[\"d_d\"] = datetime.datetime(int(this_date[0][0]), int(this_date[0][1]), int(this_date[0][2]))\n",
    "            \n",
    "            #cause of death\n",
    "            elif len(re.findall(r\"\\s*c_d=(.+)\", line)) > 0:\n",
    "                char[\"c_d\"] = re.findall(r\"\\s*c_d=(.+)\", line)[0]\n",
    "\n",
    "            #killer\n",
    "            elif len(re.findall(r\"\\s*killer=([0-9]+)\", line)) > 0:\n",
    "                char[\"killer\"] = int(re.findall(r\"\\s*killer=([0-9]+)\", line)[0])\n",
    "\n",
    "            #leige\n",
    "            elif len(re.findall(r\"\\s*lge=([0-9]+)\", line)) > 0:\n",
    "                char[\"lge\"] = int(re.findall(r\"\\s*lge=([0-9]+)\", line)[0])\n",
    "                     \n",
    "            #Real father\n",
    "            elif len(re.findall(r\"\\s*rfat=([0-9]+)\", line)) > 0:\n",
    "                char[\"rfat\"] = int(re.findall(r\"\\s*rfat=([0-9]+)\", line)[0])\n",
    "\n",
    "            #father\n",
    "            elif len(re.findall(r\"\\s*fat=([0-9]+)\", line)) > 0:\n",
    "                char[\"fat\"] = int(re.findall(r\"\\s*fat=([0-9]+)\", line)[0])            \n",
    "\n",
    "            #mother\n",
    "            elif len(re.findall(r\"\\s*mot=([0-9]+)\", line)) > 0:\n",
    "                char[\"mot\"] = int(re.findall(r\"\\s*mot=([0-9]+)\", line)[0])           \n",
    "\n",
    "            #spouse\n",
    "            elif len(re.findall(r\"\\s*spouse=([0-9]+)\", line)) > 0:\n",
    "                 spouse.append(int(re.findall(r\"\\s*spouse=([0-9]+)\", line)[0]))\n",
    "\n",
    "            #religion\n",
    "            elif len(re.findall(r\"\\s*rel=\\\"(.+)\\\"\", line)) > 0:\n",
    "                char[\"rel\"] = re.findall(r\"\\s*rel=\\\"(.+)\\\"\", line)[0]\n",
    "\n",
    "            #culture\n",
    "            elif len(re.findall(r\"\\s*cul=\\\"(.+)\\\"\", line)) > 0:\n",
    "                char[\"cul\"] = re.findall(r\"\\s*cul=\\\"(.+)\\\"\", line)[0]\n",
    "\n",
    "            #graphical culture\n",
    "            elif len(re.findall(r\"\\s*g_cul=\\\"(.+)\\\"\", line)) > 0:\n",
    "                char[\"g_cul\"] = re.findall(r\"\\s*g_cul=\\\"(.+)\\\"\", line)[0]\n",
    "\n",
    "            #dynasty\n",
    "            elif len(re.findall(r\"\\s*dnt=([0-9]+)\", line)) > 0:\n",
    "                char[\"dnt\"] = int(re.findall(r\"\\s*dnt=([0-9]+)\", line)[0])\n",
    "\n",
    "            #isBastard\n",
    "            elif len(re.findall(r\"\\s*bstd=(.+)\", line)) > 0:\n",
    "                char[\"bstd\"] = 1\n",
    "\n",
    "            #employer? (Only set if character is still living)\n",
    "            elif len(re.findall(r\"\\s*emp=([0-9]+)\", line)) > 0:\n",
    "                    char[\"emp\"] = int(re.findall(r\"\\s*emp=([0-9]+)\", line)[0])\n",
    "\n",
    "            #host? (Only set if character is still living)\n",
    "            elif len(re.findall(r\"\\s*host=([0-9]+)\", line)) > 0:\n",
    "                    char[\"host\"] = int(re.findall(r\"\\s*host=([0-9]+)\", line)[0])\n",
    "\n",
    "            #has Bastards\n",
    "            elif len(re.findall(r\"\\s*spawned_bastards=(.+)\", line)) > 0:\n",
    "                char[\"spawned_bastards\"] = 1            \n",
    "\n",
    "#Messy baby! One last insert to get the final character                     \n",
    "if(\"b_d\" in char.keys()):\n",
    "    try:\n",
    "        if len(spouse) > 0:\n",
    "            char[\"spouse\"] =spouse\n",
    "        characters.insert_one(char)\n",
    "    except:\n",
    "        print(\"insert failed: \" + char)"
   ]
  },
  {
   "cell_type": "code",
   "execution_count": 4,
   "metadata": {},
   "outputs": [
    {
     "data": {
      "text/plain": [
       "<pymongo.command_cursor.CommandCursor at 0x294fc5e2940>"
      ]
     },
     "execution_count": 4,
     "metadata": {},
     "output_type": "execute_result"
    }
   ],
   "source": [
    "#add parents and rparents field to use with $graphlookup for full descent. rparents contains rfat if it is set, else fat.\n",
    "characters.aggregate(\n",
    "    [\n",
    "        { \"$addFields\": { \n",
    "            \"parents\": [\"$fat\", \"$mot\"],\n",
    "            \"rparents\": [{\"$ifNull\" : [\"$rfat\", \"$fat\"] }, \"$mot\"] \n",
    "        }},\n",
    "        { \"$out\": \"characters\" }\n",
    "    ]\n",
    ")"
   ]
  },
  {
   "cell_type": "code",
   "execution_count": 5,
   "metadata": {},
   "outputs": [
    {
     "data": {
      "text/plain": [
       "{'_id': 702356,\n",
       " 'b_d': datetime.datetime(1043, 10, 28, 0, 0),\n",
       " 'bn': 'Cenek',\n",
       " 'c_d': 'death_trait',\n",
       " 'd_d': datetime.datetime(1105, 11, 5, 0, 0),\n",
       " 'dnt': 506,\n",
       " 'fat': 655400,\n",
       " 'lge': 730801,\n",
       " 'mot': 701028,\n",
       " 'parents': [655400, 701028],\n",
       " 'rel': 'sunni',\n",
       " 'rfat': 700388,\n",
       " 'rparents': [700388, 701028],\n",
       " 'spouse': [695646, 725517, 749900]}"
      ]
     },
     "execution_count": 5,
     "metadata": {},
     "output_type": "execute_result"
    }
   ],
   "source": [
    "characters.find_one({\"_id\" : 702356})"
   ]
  },
  {
   "cell_type": "code",
   "execution_count": 6,
   "metadata": {},
   "outputs": [
    {
     "data": {
      "text/plain": [
       "{'_id': 641772,\n",
       " 'b_d': datetime.datetime(933, 1, 9, 0, 0),\n",
       " 'bn': 'Böri',\n",
       " 'c_d': 'death_trait',\n",
       " 'd_d': datetime.datetime(968, 11, 13, 0, 0),\n",
       " 'dnt': 10300779,\n",
       " 'lge': 633087,\n",
       " 'parents': [None, None],\n",
       " 'rparents': [None, None]}"
      ]
     },
     "execution_count": 6,
     "metadata": {},
     "output_type": "execute_result"
    }
   ],
   "source": [
    "characters.find_one({\"_id\" : 641772})"
   ]
  },
  {
   "cell_type": "code",
   "execution_count": null,
   "metadata": {
    "collapsed": true
   },
   "outputs": [],
   "source": []
  }
 ],
 "metadata": {
  "kernelspec": {
   "display_name": "Python 3",
   "language": "python",
   "name": "python3"
  },
  "language_info": {
   "codemirror_mode": {
    "name": "ipython",
    "version": 3
   },
   "file_extension": ".py",
   "mimetype": "text/x-python",
   "name": "python",
   "nbconvert_exporter": "python",
   "pygments_lexer": "ipython3",
   "version": "3.6.2"
  }
 },
 "nbformat": 4,
 "nbformat_minor": 2
}
