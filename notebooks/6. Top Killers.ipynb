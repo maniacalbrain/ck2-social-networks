{
 "cells": [
  {
   "cell_type": "markdown",
   "metadata": {
    "collapsed": true
   },
   "source": [
    "# World Kill Network"
   ]
  },
  {
   "cell_type": "markdown",
   "metadata": {},
   "source": [
    "Often, to get ahead in life, someone else must die. Characters will kill other characters to secure land for themselves or those they support, they will kill rivals out of spite or allow prisoners to die in the dungeons. The kill network joins dyanasties where a member of one dynasty has killed a member of the other. It is much the same as the marraige netowrk but the edge list consists of killers and their victims instead of characters and their spouses. First I extract the characters with the highest kill count."
   ]
  },
  {
   "cell_type": "code",
   "execution_count": 1,
   "metadata": {
    "collapsed": true
   },
   "outputs": [],
   "source": [
    "from pymongo import MongoClient\n",
    "import pandas as pd\n",
    "import datetime"
   ]
  },
  {
   "cell_type": "markdown",
   "metadata": {},
   "source": [
    "### Groupby Killers"
   ]
  },
  {
   "cell_type": "code",
   "execution_count": 2,
   "metadata": {
    "collapsed": true
   },
   "outputs": [],
   "source": [
    "client = MongoClient()\n",
    "characters = client.ck2.characters"
   ]
  },
  {
   "cell_type": "code",
   "execution_count": 3,
   "metadata": {
    "collapsed": true
   },
   "outputs": [],
   "source": [
    "pipeline = [ \n",
    "    {\n",
    "        \"$lookup\" :\n",
    "        {\n",
    "            \"from\" : \"characters\",\n",
    "            \"localField\" : \"killer\",\n",
    "            \"foreignField\" : \"_id\",\n",
    "            \"as\" : \"killer_data\"\n",
    "        }\n",
    "    },\n",
    "    {\n",
    "        \"$unwind\" : \"$killer_data\"        \n",
    "    },\n",
    "    {\n",
    "    \"$group\": { \n",
    "        \"_id\": \"$killer_data._id\", \n",
    "        \"kill_total\": { \"$sum\": 1 },\n",
    "        \"name\" : {\"$first\" : \"$killer_data.bn\"}\n",
    "    }\n",
    "    },\n",
    "    {\"$sort\" : {\"kill_total\" : -1 } },\n",
    "    {\"$limit\" : 20}\n",
    "] "
   ]
  },
  {
   "cell_type": "code",
   "execution_count": 4,
   "metadata": {
    "collapsed": true
   },
   "outputs": [],
   "source": [
    "karl = characters.aggregate(pipeline)"
   ]
  },
  {
   "cell_type": "code",
   "execution_count": 5,
   "metadata": {
    "scrolled": false
   },
   "outputs": [
    {
     "name": "stdout",
     "output_type": "stream",
     "text": [
      "{'_id': 852282, 'kill_total': 42, 'name': 'Bilge'}\n",
      "{'_id': 840689, 'kill_total': 36, 'name': 'Jochi'}\n",
      "{'_id': 1037012, 'kill_total': 26, 'name': 'Christophoros'}\n",
      "{'_id': 756081, 'kill_total': 24, 'name': 'Virmantas'}\n",
      "{'_id': 562370, 'kill_total': 22, 'name': 'Manassès'}\n",
      "{'_id': 984359, 'kill_total': 22, 'name': 'Ghalib'}\n",
      "{'_id': 563001, 'kill_total': 22, 'name': 'Nasraddin'}\n",
      "{'_id': 558295, 'kill_total': 20, 'name': 'Megistos'}\n",
      "{'_id': 945499, 'kill_total': 20, 'name': 'Khaidu'}\n",
      "{'_id': 770755, 'kill_total': 18, 'name': 'Çilbu'}\n",
      "{'_id': 832705, 'kill_total': 17, 'name': 'Timotheos'}\n",
      "{'_id': 976146, 'kill_total': 16, 'name': 'Alexandros'}\n",
      "{'_id': 639606, 'kill_total': 16, 'name': 'Sabuktigin'}\n",
      "{'_id': 655186, 'kill_total': 16, 'name': 'Madanapala'}\n",
      "{'_id': 583469, 'kill_total': 16, 'name': 'Najib'}\n",
      "{'_id': 915974, 'kill_total': 16, 'name': 'Faruk'}\n",
      "{'_id': 712992, 'kill_total': 15, 'name': 'Theodotos'}\n",
      "{'_id': 895054, 'kill_total': 15, 'name': 'Vihangpal'}\n",
      "{'_id': 878688, 'kill_total': 15, 'name': 'Akin'}\n",
      "{'_id': 831341, 'kill_total': 15, 'name': 'Mubarak'}\n"
     ]
    }
   ],
   "source": [
    "for kill in karl:\n",
    "    print(kill)"
   ]
  },
  {
   "cell_type": "markdown",
   "metadata": {},
   "source": [
    "Of note is Christophoros. He is absent from the below figures because he is lowborn and has no dynasty and is excluded from the aggregation when the lookup tries to join on dynasty."
   ]
  },
  {
   "cell_type": "markdown",
   "metadata": {},
   "source": [
    "## Killer Details"
   ]
  },
  {
   "cell_type": "code",
   "execution_count": 6,
   "metadata": {
    "collapsed": true
   },
   "outputs": [],
   "source": [
    "pipeline = [ \n",
    "    {\n",
    "        \"$lookup\" :\n",
    "        {\n",
    "            \"from\" : \"characters\",\n",
    "            \"localField\" : \"killer\",\n",
    "            \"foreignField\" : \"_id\",\n",
    "            \"as\" : \"killer_data\"\n",
    "        }\n",
    "    },\n",
    "    {\n",
    "        \"$unwind\" : \"$killer_data\"        \n",
    "    },\n",
    "    {\n",
    "        \"$lookup\" :\n",
    "        {\n",
    "            \"from\" : \"dynasties\",\n",
    "            \"localField\" : \"killer_data.dnt\",\n",
    "            \"foreignField\" : \"_id\",\n",
    "            \"as\" : \"killer_dyn\"\n",
    "        }\n",
    "    },\n",
    "    {\n",
    "        \"$unwind\" : \"$killer_dyn\"        \n",
    "    },\n",
    "    {\n",
    "    \"$group\": { \n",
    "        \"_id\": \"$killer_data._id\", \n",
    "        \"kill_total\": { \"$sum\": 1 },\n",
    "        \"name\" : {\"$first\" : \"$killer_data.bn\"},\n",
    "        \"dyn\" : {\"$first\" : \"$killer_dyn.name\"},\n",
    "        \"c_d\" : {\"$first\" : \"$killer_data.c_d\"}\n",
    "    }\n",
    "    },\n",
    "    {\n",
    "        \"$project\" : { \"_id\" : 1, \"kill_total\" : \"$kill_total\", \"name\" : {\"$concat\" : [\"$name\", \" \", \"$dyn\"]}, \"d_d\" : \"$d_d\"}\n",
    "    },\n",
    "    {\"$sort\" : {\"kill_total\" : -1 } },\n",
    "    {\"$limit\" : 20}\n",
    "] "
   ]
  },
  {
   "cell_type": "code",
   "execution_count": 7,
   "metadata": {
    "collapsed": true
   },
   "outputs": [],
   "source": [
    "karl = characters.aggregate(pipeline)"
   ]
  },
  {
   "cell_type": "code",
   "execution_count": 8,
   "metadata": {},
   "outputs": [
    {
     "name": "stdout",
     "output_type": "stream",
     "text": [
      "{'_id': 852282, 'kill_total': 42, 'name': 'Bilge Jochid'}\n",
      "{'_id': 840689, 'kill_total': 36, 'name': 'Jochi Jochid'}\n",
      "{'_id': 756081, 'kill_total': 24, 'name': 'Virmantas Saaremaa'}\n",
      "{'_id': 563001, 'kill_total': 22, 'name': 'Nasraddin Nasraddin'}\n",
      "{'_id': 562370, 'kill_total': 22, 'name': 'Manassès Karling'}\n",
      "{'_id': 984359, 'kill_total': 22, 'name': 'Ghalib Ghalibid'}\n",
      "{'_id': 558295, 'kill_total': 20, 'name': 'Megistos Isauros'}\n",
      "{'_id': 945499, 'kill_total': 20, 'name': 'Khaidu Olkhunut'}\n",
      "{'_id': 770755, 'kill_total': 18, 'name': 'Çilbu Uzur'}\n",
      "{'_id': 832705, 'kill_total': 17, 'name': 'Timotheos Kritopolos'}\n",
      "{'_id': 639606, 'kill_total': 16, 'name': 'Sabuktigin Sabuktigin'}\n",
      "{'_id': 583469, 'kill_total': 16, 'name': 'Najib Amrubid'}\n",
      "{'_id': 915974, 'kill_total': 16, 'name': 'Faruk Hafizid'}\n",
      "{'_id': 655186, 'kill_total': 16, 'name': 'Madanapala Ayudha'}\n",
      "{'_id': 976146, 'kill_total': 16, 'name': 'Alexandros Loukanis'}\n",
      "{'_id': 613722, 'kill_total': 15, 'name': 'Mansur Kufahyid'}\n",
      "{'_id': 712992, 'kill_total': 15, 'name': 'Theodotos Kritopolos'}\n",
      "{'_id': 883996, 'kill_total': 15, 'name': 'Halil Hafizid'}\n",
      "{'_id': 831341, 'kill_total': 15, 'name': 'Mubarak Muradid'}\n",
      "{'_id': 782799, 'kill_total': 15, 'name': 'Basileios Kritopolos'}\n"
     ]
    }
   ],
   "source": [
    "for kill in karl:\n",
    "    print(kill)"
   ]
  },
  {
   "cell_type": "markdown",
   "metadata": {},
   "source": [
    "Father and son team Jochi and Bilge Jochid, Emperors of the Mongol Empire, allowed 78 people to die in their dungeons. King Manassès Karling of Germany burned about 18 people at the stake and poisoned a few more for good measure."
   ]
  },
  {
   "cell_type": "markdown",
   "metadata": {},
   "source": [
    "# Worst of the Worst"
   ]
  },
  {
   "cell_type": "markdown",
   "metadata": {},
   "source": [
    "On Reddit /u/Brock_Lobster4445 correctly pointed out 'One important category was left out, and that's \"Most child kills\"'. I knew this would be a bit tricky because pymongo, datetimes in general and dattimes before the 1600's don't go well together. By pulling all characters who died out into a pandas dataframe I was able to subtract their birth date from their death date to get their age in days and then filter by those who were under 5840 days (16 years) and under 1460 days (4 years) when they were killed..."
   ]
  },
  {
   "cell_type": "code",
   "execution_count": 3,
   "metadata": {
    "collapsed": true
   },
   "outputs": [],
   "source": [
    "pipeline = [\n",
    "    {\n",
    "        \"$match\" : {\"killer\" : {\"$exists\" : True}}\n",
    "    },\n",
    "    {\n",
    "        \"$project\" : {\"_id\" : 1, \"bn\" : 1, \"b_d\" : 1, \"d_d\" : 1}\n",
    "    }    \n",
    "]"
   ]
  },
  {
   "cell_type": "code",
   "execution_count": 4,
   "metadata": {
    "collapsed": true
   },
   "outputs": [],
   "source": [
    "anikan = characters.aggregate(pipeline)\n",
    "dead_list = pd.DataFrame(list(anikan))\n",
    "dead_list[\"Age\"] = (dead_list[\"d_d\"] - dead_list[\"b_d\"]).astype('timedelta64[D]')\n",
    "\n",
    "#Filter on those who were were under 16 years of age (16 * 365 days)\n",
    "child_list = dead_list[dead_list[\"Age\"] <= 5840.0]\n",
    "child_list_ids = [int(i) for i in child_list[\"_id\"]]"
   ]
  },
  {
   "cell_type": "code",
   "execution_count": 5,
   "metadata": {
    "collapsed": true
   },
   "outputs": [],
   "source": [
    "pipeline = [ \n",
    "    {\n",
    "        \"$match\" : {\"_id\" : {\"$in\" : child_list_ids}}\n",
    "    },\n",
    "    {\n",
    "        \"$lookup\" :\n",
    "        {\n",
    "            \"from\" : \"characters\",\n",
    "            \"localField\" : \"killer\",\n",
    "            \"foreignField\" : \"_id\",\n",
    "            \"as\" : \"killer_data\"\n",
    "        }\n",
    "    },\n",
    "    {\n",
    "        \"$unwind\" : \"$killer_data\"        \n",
    "    },\n",
    "    {\n",
    "        \"$lookup\" :\n",
    "        {\n",
    "            \"from\" : \"dynasties\",\n",
    "            \"localField\" : \"killer_data.dnt\",\n",
    "            \"foreignField\" : \"_id\",\n",
    "            \"as\" : \"killer_dyn\"\n",
    "        }\n",
    "    },\n",
    "    {\n",
    "        \"$unwind\" : \"$killer_dyn\"        \n",
    "    },\n",
    "    {\n",
    "    \"$group\": { \n",
    "        \"_id\": \"$killer_data._id\", \n",
    "        \"kill_total\": { \"$sum\": 1 },\n",
    "        \"name\" : {\"$first\" : \"$killer_data.bn\"},\n",
    "        \"dyn\" : {\"$first\" : \"$killer_dyn.name\"},\n",
    "        \"d_d\" : {\"$first\" : \"$killer_data.d_d\"}\n",
    "    }\n",
    "    },\n",
    "    {\n",
    "        \"$project\" : { \"_id\" : 1, \"kill_total\" : \"$kill_total\", \"name\" : {\"$concat\" : [\"$name\", \" \", \"$dyn\"]}, \"d_d\" : \"$d_d\"}\n",
    "    },\n",
    "    {\"$sort\" : {\"kill_total\" : -1 } },\n",
    "    {\"$limit\" : 20}\n",
    "] "
   ]
  },
  {
   "cell_type": "code",
   "execution_count": 6,
   "metadata": {},
   "outputs": [
    {
     "name": "stdout",
     "output_type": "stream",
     "text": [
      "{'_id': 883631, 'kill_total': 7, 'name': 'Kuno Ydulfing', 'd_d': datetime.datetime(1299, 8, 8, 0, 0)}\n",
      "{'_id': 639606, 'kill_total': 7, 'name': 'Sabuktigin Sabuktigin', 'd_d': datetime.datetime(992, 9, 3, 0, 0)}\n",
      "{'_id': 976146, 'kill_total': 5, 'name': 'Alexandros Loukanis', 'd_d': datetime.datetime(1390, 10, 11, 0, 0)}\n",
      "{'_id': 765739, 'kill_total': 4, 'name': 'Wayngachi Wayngachi', 'd_d': datetime.datetime(1167, 6, 24, 0, 0)}\n",
      "{'_id': 862137, 'kill_total': 4, 'name': 'Vasudev Vasudevid', 'd_d': datetime.datetime(1255, 2, 1, 0, 0)}\n",
      "{'_id': 708401, 'kill_total': 3, 'name': 'Halil Abbasid', 'd_d': datetime.datetime(1104, 8, 2, 0, 0)}\n",
      "{'_id': 761879, 'kill_total': 3, 'name': 'Hanifa Jaleelid', 'd_d': datetime.datetime(1192, 3, 28, 0, 0)}\n",
      "{'_id': 937090, 'kill_total': 3, 'name': 'Konstantia Kameniatis', 'd_d': datetime.datetime(1401, 6, 15, 0, 0)}\n",
      "{'_id': 656924, 'kill_total': 3, 'name': 'Lyaqut Mezwarid', 'd_d': datetime.datetime(1061, 3, 17, 0, 0)}\n",
      "{'_id': 801821, 'kill_total': 3, 'name': 'Roshandeva Gangeyid', 'd_d': datetime.datetime(1220, 3, 14, 0, 0)}\n",
      "{'_id': 860530, 'kill_total': 3, 'name': 'Kezhedey Viryayid', 'd_d': datetime.datetime(1303, 4, 7, 0, 0)}\n",
      "{'_id': 850491, 'kill_total': 3, 'name': 'Birpal Salivaahan', 'd_d': datetime.datetime(1275, 2, 20, 0, 0)}\n",
      "{'_id': 912614, 'kill_total': 3, 'name': 'Korybutas Penikis', 'd_d': datetime.datetime(1375, 2, 11, 0, 0)}\n",
      "{'_id': 697188, 'kill_total': 3, 'name': 'Virdyan Virdyan', 'd_d': datetime.datetime(1060, 7, 17, 0, 0)}\n",
      "{'_id': 782314, 'kill_total': 3, 'name': 'Reshawna Mukhtarid', 'd_d': datetime.datetime(1203, 4, 23, 0, 0)}\n",
      "{'_id': 668380, 'kill_total': 3, 'name': 'Taneen Jalilid', 'd_d': datetime.datetime(1048, 1, 21, 0, 0)}\n",
      "{'_id': 617318, 'kill_total': 3, 'name': 'Géraud Agilolfing', 'd_d': datetime.datetime(995, 7, 3, 0, 0)}\n",
      "{'_id': 640517, 'kill_total': 3, 'name': 'Ali Arabid', 'd_d': datetime.datetime(995, 3, 18, 0, 0)}\n",
      "{'_id': 894773, 'kill_total': 3, 'name': 'Mukhtar Hafizid', 'd_d': datetime.datetime(1329, 1, 6, 0, 0)}\n",
      "{'_id': 877022, 'kill_total': 3, 'name': 'Kale Basilakios', 'd_d': datetime.datetime(1323, 8, 7, 0, 0)}\n"
     ]
    }
   ],
   "source": [
    "for anikan in characters.aggregate(pipeline):\n",
    "    print(anikan)"
   ]
  },
  {
   "cell_type": "markdown",
   "metadata": {},
   "source": [
    "Kuno Ydulfing held was the Count of Bereg after taking it in a revolt in 1270 until he was overthrown in a Holy War in 1275. Sabuktigin \"The Conqueror\" conquered Kabul, Bamiyan, Lahur amoungst others in a Holy War. Korybutas Penikis was King of Lithuania and Ali Arabid was the Emperor of Spain. The skulls surrounding their thrones are somewhat smaller than those around the thrones of other rulers."
   ]
  },
  {
   "cell_type": "code",
   "execution_count": 7,
   "metadata": {
    "collapsed": true
   },
   "outputs": [],
   "source": [
    "baby_list = dead_list[dead_list[\"Age\"] <= 1460.0]"
   ]
  },
  {
   "cell_type": "code",
   "execution_count": 8,
   "metadata": {
    "collapsed": true
   },
   "outputs": [],
   "source": [
    "baby_list_ids = [int(i) for i in baby_list[\"_id\"]]"
   ]
  },
  {
   "cell_type": "code",
   "execution_count": 9,
   "metadata": {
    "collapsed": true
   },
   "outputs": [],
   "source": [
    "pipeline = [ \n",
    "    {\n",
    "        \"$match\" : {\"_id\" : {\"$in\" : baby_list_ids}}\n",
    "    },\n",
    "    {\n",
    "        \"$lookup\" :\n",
    "        {\n",
    "            \"from\" : \"characters\",\n",
    "            \"localField\" : \"killer\",\n",
    "            \"foreignField\" : \"_id\",\n",
    "            \"as\" : \"killer_data\"\n",
    "        }\n",
    "    },\n",
    "    {\n",
    "        \"$unwind\" : \"$killer_data\"        \n",
    "    },\n",
    "    {\n",
    "        \"$lookup\" :\n",
    "        {\n",
    "            \"from\" : \"dynasties\",\n",
    "            \"localField\" : \"killer_data.dnt\",\n",
    "            \"foreignField\" : \"_id\",\n",
    "            \"as\" : \"killer_dyn\"\n",
    "        }\n",
    "    },\n",
    "    {\n",
    "        \"$unwind\" : \"$killer_dyn\"        \n",
    "    },\n",
    "    {\n",
    "    \"$group\": { \n",
    "        \"_id\": \"$killer_data._id\", \n",
    "        \"kill_total\": { \"$sum\": 1 },\n",
    "        \"name\" : {\"$first\" : \"$killer_data.bn\"},\n",
    "        \"dyn\" : {\"$first\" : \"$killer_dyn.name\"},\n",
    "        \"d_d\" : {\"$first\" : \"$killer_data.d_d\"}\n",
    "    }\n",
    "    },\n",
    "    {\n",
    "        \"$project\" : { \"_id\" : 1, \"kill_total\" : \"$kill_total\", \"name\" : {\"$concat\" : [\"$name\", \" \", \"$dyn\"]}, \"d_d\" : \"$d_d\"}\n",
    "    },\n",
    "    {\"$sort\" : {\"kill_total\" : -1 } },\n",
    "    {\"$limit\" : 20}\n",
    "] "
   ]
  },
  {
   "cell_type": "code",
   "execution_count": 10,
   "metadata": {},
   "outputs": [
    {
     "name": "stdout",
     "output_type": "stream",
     "text": [
      "{'_id': 782314, 'kill_total': 3, 'name': 'Reshawna Mukhtarid', 'd_d': datetime.datetime(1203, 4, 23, 0, 0)}\n",
      "{'_id': 639606, 'kill_total': 3, 'name': 'Sabuktigin Sabuktigin', 'd_d': datetime.datetime(992, 9, 3, 0, 0)}\n",
      "{'_id': 846687, 'kill_total': 2, 'name': 'Hemavati Sripathid', 'd_d': datetime.datetime(1258, 7, 24, 0, 0)}\n",
      "{'_id': 870131, 'kill_total': 2, 'name': 'Khuterkin Uzur', 'd_d': datetime.datetime(1305, 10, 4, 0, 0)}\n",
      "{'_id': 749227, 'kill_total': 2, 'name': 'Damayanti Surajpalid', 'd_d': datetime.datetime(1163, 2, 19, 0, 0)}\n",
      "{'_id': 668380, 'kill_total': 2, 'name': 'Taneen Jalilid', 'd_d': datetime.datetime(1048, 1, 21, 0, 0)}\n",
      "{'_id': 668248, 'kill_total': 2, 'name': 'Mahdi Dofharid', 'd_d': datetime.datetime(1063, 8, 1, 0, 0)}\n",
      "{'_id': 761879, 'kill_total': 2, 'name': 'Hanifa Jaleelid', 'd_d': datetime.datetime(1192, 3, 28, 0, 0)}\n",
      "{'_id': 643044, 'kill_total': 2, 'name': 'Eustathios Rangabes', 'd_d': datetime.datetime(992, 12, 25, 0, 0)}\n",
      "{'_id': 784821, 'kill_total': 2, 'name': 'Karima Yahaffid', 'd_d': datetime.datetime(1224, 5, 10, 0, 0)}\n",
      "{'_id': 841468, 'kill_total': 2, 'name': 'Lugáed Ua Flannchaid', 'd_d': datetime.datetime(1221, 3, 13, 0, 0)}\n",
      "{'_id': 976146, 'kill_total': 2, 'name': 'Alexandros Loukanis', 'd_d': datetime.datetime(1390, 10, 11, 0, 0)}\n",
      "{'_id': 656924, 'kill_total': 2, 'name': 'Lyaqut Mezwarid', 'd_d': datetime.datetime(1061, 3, 17, 0, 0)}\n",
      "{'_id': 735560, 'kill_total': 2, 'name': 'Reshawna Tabghach', 'd_d': datetime.datetime(1146, 6, 1, 0, 0)}\n",
      "{'_id': 703444, 'kill_total': 2, 'name': 'Anthousa Hierakes', 'd_d': datetime.datetime(1104, 8, 1, 0, 0)}\n",
      "{'_id': 640517, 'kill_total': 2, 'name': 'Ali Arabid', 'd_d': datetime.datetime(995, 3, 18, 0, 0)}\n",
      "{'_id': 624320, 'kill_total': 2, 'name': 'Tadla Karimid', 'd_d': datetime.datetime(1012, 10, 5, 0, 0)}\n",
      "{'_id': 929051, 'kill_total': 2, 'name': 'Nizam Hafizid', 'd_d': datetime.datetime(1383, 3, 12, 0, 0)}\n",
      "{'_id': 914832, 'kill_total': 2, 'name': 'Theophano Isakiotes', 'd_d': datetime.datetime(1346, 10, 17, 0, 0)}\n",
      "{'_id': 962214, 'kill_total': 2, 'name': 'Glenn Uuidoch', 'd_d': datetime.datetime(1417, 7, 23, 0, 0)}\n"
     ]
    }
   ],
   "source": [
    "for anikan in characters.aggregate(pipeline):\n",
    "    print(anikan)"
   ]
  },
  {
   "cell_type": "markdown",
   "metadata": {},
   "source": [
    "And then there is this bunch. Reshawna was one of the five wives of the Count of Kuwait and was mother to 3 of his children, including his successor. Sabuktigin makes an apperence here as well, 3 of 7 children he killed were under 4 years of age. Khuterkin \"The Lionheart\" Uzur was King of Khotan. My countryman Lugáed Ua Flannchaid crossed the Irish Sea to conquer Powys in a revolt, or maybe to escape his dark, baby murdering past? Bad luck follewed him also; his cousin Ernán \"The Drunkard\" Ua Cleirigh pushed him off a balcony and inherited his title. Glenn \"The Wise\" ruled as King of Scotland and Greece, marking the Celtic lands as a dangerous place to be a baby."
   ]
  },
  {
   "cell_type": "markdown",
   "metadata": {},
   "source": [
    "## Kill Network"
   ]
  },
  {
   "cell_type": "code",
   "execution_count": 9,
   "metadata": {
    "collapsed": true
   },
   "outputs": [],
   "source": [
    "pipeline = [ \n",
    "    {\n",
    "        \"$lookup\" :\n",
    "        {\n",
    "            \"from\" : \"dynasties\",\n",
    "            \"localField\" : \"dnt\",\n",
    "            \"foreignField\" : \"_id\",\n",
    "            \"as\" : \"dynasty\"\n",
    "        }\n",
    "    },\n",
    "    {\n",
    "        \"$unwind\" : \"$dynasty\"        \n",
    "    },    \n",
    "    {\n",
    "        \"$lookup\" :\n",
    "        {\n",
    "            \"from\" : \"characters\",\n",
    "            \"localField\" : \"killer\",\n",
    "            \"foreignField\" : \"_id\",\n",
    "            \"as\" : \"killer_data\"\n",
    "        }\n",
    "    },\n",
    "    {\n",
    "        \"$unwind\" : \"$killer_data\"        \n",
    "    },\n",
    "    {\n",
    "        \"$lookup\" :\n",
    "        {\n",
    "            \"from\" : \"dynasties\",\n",
    "            \"localField\" : \"killer_data.dnt\",\n",
    "            \"foreignField\" : \"_id\",\n",
    "            \"as\" : \"killer_dyn\"\n",
    "        }\n",
    "    },\n",
    "    {\n",
    "        \"$unwind\" : \"$killer_dyn\"        \n",
    "    },\n",
    "    {\"$project\" : {\"name\" : \"$bn\", \"dynasty\" : \"$dynasty._id\", \"killer\" : \"$killer_data.bn\", \"killer_dynasty\" : \"$killer_dyn._id\"}}\n",
    "]"
   ]
  },
  {
   "cell_type": "code",
   "execution_count": 10,
   "metadata": {
    "collapsed": true
   },
   "outputs": [],
   "source": [
    "karl = characters.aggregate(pipeline)"
   ]
  },
  {
   "cell_type": "code",
   "execution_count": 11,
   "metadata": {
    "collapsed": true
   },
   "outputs": [],
   "source": [
    "kill_df = pd.DataFrame(list(karl))"
   ]
  },
  {
   "cell_type": "markdown",
   "metadata": {},
   "source": [
    "## Get all Dynasties involved"
   ]
  },
  {
   "cell_type": "code",
   "execution_count": 12,
   "metadata": {
    "collapsed": true
   },
   "outputs": [],
   "source": [
    "total_dyns = set(kill_df['dynasty'].unique())\n",
    "total_dyns = total_dyns.union(set(kill_df['killer_dynasty'].unique()))\n",
    "total_dyns_as_ints = [int(i) for i in list(total_dyns)]"
   ]
  },
  {
   "cell_type": "code",
   "execution_count": 13,
   "metadata": {
    "collapsed": true
   },
   "outputs": [],
   "source": [
    "dynasties = client.ck2.dynasties\n",
    "\n",
    "pipeline = [    \n",
    "    {\n",
    "        \"$match\" : {\"_id\" : {\"$in\" : total_dyns_as_ints}}\n",
    "    },\n",
    "    {\n",
    "        \"$project\" : {\"name\" : 1, \"religion\" : 1, \"culture\" : 1}\n",
    "    },\n",
    "    {\n",
    "        \"$sort\" : {\"name\" : 1}\n",
    "    }\n",
    "]"
   ]
  },
  {
   "cell_type": "code",
   "execution_count": 14,
   "metadata": {
    "collapsed": true
   },
   "outputs": [],
   "source": [
    "dyns = dynasties.aggregate(pipeline)"
   ]
  },
  {
   "cell_type": "markdown",
   "metadata": {},
   "source": [
    "# Build a Network Graph"
   ]
  },
  {
   "cell_type": "code",
   "execution_count": 15,
   "metadata": {
    "collapsed": true
   },
   "outputs": [],
   "source": [
    "import networkx as nx\n",
    "import matplotlib.pyplot as plt"
   ]
  },
  {
   "cell_type": "code",
   "execution_count": 16,
   "metadata": {
    "collapsed": true
   },
   "outputs": [],
   "source": [
    "G = nx.Graph()\n",
    "\n",
    "for dyn in dyns:\n",
    "    if \"name\" in dyn and \"religion\" in dyn and \"culture\" in dyn: #needs to be added if building the full graph, a family with no name gets in somehow\n",
    "        G.add_node(dyn[\"_id\"], name = dyn['name'], culture = dyn['culture'], religion = dyn['religion'])"
   ]
  },
  {
   "cell_type": "code",
   "execution_count": 17,
   "metadata": {
    "collapsed": true
   },
   "outputs": [],
   "source": [
    "#complete_set = set()\n",
    "\n",
    "for i in range(len(kill_df)):\n",
    "    if G.has_edge(kill_df.loc[i, \"killer_dynasty\"], kill_df.loc[i, \"dynasty\"]):\n",
    "        G.edge[kill_df.loc[i, \"killer_dynasty\"]][kill_df.loc[i, \"dynasty\"]][\"weight\"] +=1\n",
    "    else:\n",
    "        G.add_edge(kill_df.loc[i, \"killer_dynasty\"], kill_df.loc[i, \"dynasty\"], weight = 1)\n",
    "\n",
    "G.remove_nodes_from(nx.isolates(G)) #drop unconnected nodes       "
   ]
  },
  {
   "cell_type": "code",
   "execution_count": 18,
   "metadata": {
    "collapsed": true
   },
   "outputs": [],
   "source": [
    "nx.write_graphml(max(nx.connected_component_subgraphs(G), key=len), \"ck2-World-Kill-Network.graphml\")"
   ]
  },
  {
   "cell_type": "markdown",
   "metadata": {},
   "source": [
    "The graphml file in the above was opened in Gephi and the the picture below was generated. The nodes are colored by religion. The graph shares many similarities with the World Marriage Network in notebook 5. India is again in the top right, isolated from much of the rest of the world. Europe is on the bottom left. Orange is Catholic, blue is Islamic and the pink at the top is Buddist. Orthodox Greece is to the left, just above Europe in purple, surrounded by many of the pagan religions.\n",
    "\n",
    "It would make sense for this graph to be directed, with an arrow pointing from the killers dynasty to the victims dynasty. The code in the cell above this allows me to pull out the largest subgraph in the network but fails if using a DiGraph. For an easy life I deceided to leave it undirected."
   ]
  },
  {
   "cell_type": "code",
   "execution_count": 19,
   "metadata": {},
   "outputs": [
    {
     "data": {
      "text/html": [
       "<img src=\"http://www.anquantarbuile.com/static/images/ck2/WorldKillNetworkReligion.png\"/>"
      ],
      "text/plain": [
       "<IPython.core.display.Image object>"
      ]
     },
     "execution_count": 19,
     "metadata": {},
     "output_type": "execute_result"
    }
   ],
   "source": [
    "from IPython.display import Image\n",
    "from IPython.core.display import HTML \n",
    "Image(url= \"http://www.anquantarbuile.com/static/images/ck2/WorldKillNetworkReligion.png\")"
   ]
  },
  {
   "cell_type": "markdown",
   "metadata": {},
   "source": [
    "# Centrality Measures"
   ]
  },
  {
   "cell_type": "code",
   "execution_count": 20,
   "metadata": {
    "collapsed": true
   },
   "outputs": [],
   "source": [
    "# Return stats of graph (degree, centrality etc)\n",
    "def get_graph_stats(graph, by_col = ''):   \n",
    "    degree = pd.DataFrame.from_dict(graph.degree(graph), orient = 'index').reset_index()\n",
    "    degree.rename(columns={'index': 'Name', 0: 'Degree'}, inplace=True)\n",
    "    \n",
    "    degree_cent = pd.DataFrame.from_dict(nx.degree_centrality(graph), orient = 'index').reset_index()\n",
    "    degree_cent.rename(columns={'index': 'Name', 0: 'Deg Cent'}, inplace=True)\n",
    "    \n",
    "    stats_df = pd.merge(degree, degree_cent, on = ['Name', 'Name'])\n",
    "    \n",
    "    close_cent = pd.DataFrame.from_dict(nx.closeness_centrality(graph), orient = 'index').reset_index()\n",
    "    close_cent.rename(columns={'index': 'Name', 0: 'Close Cent'}, inplace=True)\n",
    "    \n",
    "    stats_df = pd.merge(stats_df, close_cent, on = ['Name', 'Name'])\n",
    "    \n",
    "    betw_cent = pd.DataFrame.from_dict(nx.betweenness_centrality(graph), orient = 'index').reset_index()\n",
    "    betw_cent.rename(columns={'index': 'Name', 0: 'Betw Cent'}, inplace=True)\n",
    "    \n",
    "    stats_df = pd.merge(stats_df, betw_cent, on = ['Name', 'Name'])\n",
    "    \n",
    "    eigenvector = pd.DataFrame.from_dict(nx.eigenvector_centrality(graph), orient = 'index').reset_index()\n",
    "    eigenvector.rename(columns={'index': 'Name', 0: 'Eigenvector'}, inplace=True)\n",
    "    \n",
    "    stats_df = pd.merge(stats_df, eigenvector, on = ['Name', 'Name'])\n",
    "    \n",
    "    pagerank = pd.DataFrame.from_dict(nx.pagerank(graph), orient = 'index').reset_index()\n",
    "    pagerank.rename(columns={'index': 'Name', 0: 'PageRank'}, inplace=True)\n",
    "    \n",
    "    stats_df = pd.merge(stats_df, pagerank, on = ['Name', 'Name'])\n",
    "    \n",
    "    if by_col != '':\n",
    "        stats_df = stats_df.sort_values(by = by_col, ascending = False).reset_index(drop = True)\n",
    "    \n",
    "    return stats_df\n"
   ]
  },
  {
   "cell_type": "code",
   "execution_count": 21,
   "metadata": {
    "collapsed": true
   },
   "outputs": [],
   "source": [
    "pipeline = [ \n",
    "    { \n",
    "        \"$project\" : {\"_id\" : \"$_id\", \"name\" : \"$name\", \"culture\" : \"$culture\", \"religion\" : \"$religion\"}\n",
    "    }\n",
    "]"
   ]
  },
  {
   "cell_type": "code",
   "execution_count": 22,
   "metadata": {
    "collapsed": true
   },
   "outputs": [],
   "source": [
    "dynasties = client.ck2.dynasties"
   ]
  },
  {
   "cell_type": "code",
   "execution_count": 23,
   "metadata": {
    "collapsed": true
   },
   "outputs": [],
   "source": [
    "dyn_list = dynasties.aggregate(pipeline)\n",
    "dyn_df = pd.DataFrame(list(dyn_list))"
   ]
  },
  {
   "cell_type": "code",
   "execution_count": 24,
   "metadata": {
    "collapsed": true
   },
   "outputs": [],
   "source": [
    "stats = get_graph_stats(G)"
   ]
  },
  {
   "cell_type": "code",
   "execution_count": 25,
   "metadata": {
    "collapsed": true
   },
   "outputs": [],
   "source": [
    "comb_stats = dyn_df.merge(stats, left_on='_id', right_on='Name', how='outer')\n",
    "comb_stats = comb_stats.dropna(axis=0, how='any')\n",
    "comb_stats = comb_stats.drop([\"Name\"], axis = 1)"
   ]
  },
  {
   "cell_type": "code",
   "execution_count": 26,
   "metadata": {},
   "outputs": [
    {
     "data": {
      "text/html": [
       "<div>\n",
       "<style>\n",
       "    .dataframe thead tr:only-child th {\n",
       "        text-align: right;\n",
       "    }\n",
       "\n",
       "    .dataframe thead th {\n",
       "        text-align: left;\n",
       "    }\n",
       "\n",
       "    .dataframe tbody tr th {\n",
       "        vertical-align: top;\n",
       "    }\n",
       "</style>\n",
       "<table border=\"1\" class=\"dataframe\">\n",
       "  <thead>\n",
       "    <tr style=\"text-align: right;\">\n",
       "      <th></th>\n",
       "      <th>_id</th>\n",
       "      <th>culture</th>\n",
       "      <th>name</th>\n",
       "      <th>religion</th>\n",
       "      <th>Degree</th>\n",
       "      <th>Deg Cent</th>\n",
       "      <th>Close Cent</th>\n",
       "      <th>Betw Cent</th>\n",
       "      <th>Eigenvector</th>\n",
       "      <th>PageRank</th>\n",
       "    </tr>\n",
       "  </thead>\n",
       "  <tbody>\n",
       "    <tr>\n",
       "      <th>5762</th>\n",
       "      <td>1044301</td>\n",
       "      <td>hindustani</td>\n",
       "      <td>Ayudha</td>\n",
       "      <td>hindu</td>\n",
       "      <td>237.0</td>\n",
       "      <td>0.030692</td>\n",
       "      <td>0.264775</td>\n",
       "      <td>0.105195</td>\n",
       "      <td>0.146453</td>\n",
       "      <td>0.007413</td>\n",
       "    </tr>\n",
       "    <tr>\n",
       "      <th>4307</th>\n",
       "      <td>101727</td>\n",
       "      <td>bedouin_arabic</td>\n",
       "      <td>Abbasid</td>\n",
       "      <td>sunni</td>\n",
       "      <td>195.0</td>\n",
       "      <td>0.025253</td>\n",
       "      <td>0.287283</td>\n",
       "      <td>0.081760</td>\n",
       "      <td>0.794772</td>\n",
       "      <td>0.006150</td>\n",
       "    </tr>\n",
       "    <tr>\n",
       "      <th>5169</th>\n",
       "      <td>12308</td>\n",
       "      <td>bedouin_arabic</td>\n",
       "      <td>Aslamid</td>\n",
       "      <td>sunni</td>\n",
       "      <td>159.0</td>\n",
       "      <td>0.020591</td>\n",
       "      <td>0.255062</td>\n",
       "      <td>0.034368</td>\n",
       "      <td>0.047255</td>\n",
       "      <td>0.005691</td>\n",
       "    </tr>\n",
       "    <tr>\n",
       "      <th>6006</th>\n",
       "      <td>1048001</td>\n",
       "      <td>bedouin_arabic</td>\n",
       "      <td>Muhallabid</td>\n",
       "      <td>sunni</td>\n",
       "      <td>173.0</td>\n",
       "      <td>0.022404</td>\n",
       "      <td>0.271062</td>\n",
       "      <td>0.059265</td>\n",
       "      <td>0.076533</td>\n",
       "      <td>0.005236</td>\n",
       "    </tr>\n",
       "    <tr>\n",
       "      <th>1695</th>\n",
       "      <td>8646</td>\n",
       "      <td>greek</td>\n",
       "      <td>Isauros</td>\n",
       "      <td>iconoclast</td>\n",
       "      <td>160.0</td>\n",
       "      <td>0.020720</td>\n",
       "      <td>0.262128</td>\n",
       "      <td>0.036086</td>\n",
       "      <td>0.008396</td>\n",
       "      <td>0.004820</td>\n",
       "    </tr>\n",
       "    <tr>\n",
       "      <th>6244</th>\n",
       "      <td>1051100</td>\n",
       "      <td>uyghur</td>\n",
       "      <td>Uzur</td>\n",
       "      <td>manichean</td>\n",
       "      <td>114.0</td>\n",
       "      <td>0.014763</td>\n",
       "      <td>0.249077</td>\n",
       "      <td>0.030490</td>\n",
       "      <td>0.012590</td>\n",
       "      <td>0.004536</td>\n",
       "    </tr>\n",
       "    <tr>\n",
       "      <th>1921</th>\n",
       "      <td>9530</td>\n",
       "      <td>lettigallish</td>\n",
       "      <td>Penikis</td>\n",
       "      <td>baltic_pagan</td>\n",
       "      <td>114.0</td>\n",
       "      <td>0.014763</td>\n",
       "      <td>0.245485</td>\n",
       "      <td>0.027876</td>\n",
       "      <td>0.002756</td>\n",
       "      <td>0.004362</td>\n",
       "    </tr>\n",
       "    <tr>\n",
       "      <th>610</th>\n",
       "      <td>615</td>\n",
       "      <td>egyptian_arabic</td>\n",
       "      <td>Tabghach</td>\n",
       "      <td>sunni</td>\n",
       "      <td>119.0</td>\n",
       "      <td>0.015411</td>\n",
       "      <td>0.252444</td>\n",
       "      <td>0.030610</td>\n",
       "      <td>0.084705</td>\n",
       "      <td>0.003925</td>\n",
       "    </tr>\n",
       "    <tr>\n",
       "      <th>5643</th>\n",
       "      <td>1044053</td>\n",
       "      <td>lombard</td>\n",
       "      <td>Alachisling</td>\n",
       "      <td>catholic</td>\n",
       "      <td>111.0</td>\n",
       "      <td>0.014375</td>\n",
       "      <td>0.267349</td>\n",
       "      <td>0.046155</td>\n",
       "      <td>0.005132</td>\n",
       "      <td>0.003125</td>\n",
       "    </tr>\n",
       "    <tr>\n",
       "      <th>5866</th>\n",
       "      <td>1042137</td>\n",
       "      <td>bedouin_arabic</td>\n",
       "      <td>Amrubid</td>\n",
       "      <td>sunni</td>\n",
       "      <td>104.0</td>\n",
       "      <td>0.013468</td>\n",
       "      <td>0.247125</td>\n",
       "      <td>0.015563</td>\n",
       "      <td>0.104250</td>\n",
       "      <td>0.003065</td>\n",
       "    </tr>\n",
       "    <tr>\n",
       "      <th>5398</th>\n",
       "      <td>1042066</td>\n",
       "      <td>rajput</td>\n",
       "      <td>Pratihara</td>\n",
       "      <td>hindu</td>\n",
       "      <td>92.0</td>\n",
       "      <td>0.011914</td>\n",
       "      <td>0.226447</td>\n",
       "      <td>0.015864</td>\n",
       "      <td>0.048872</td>\n",
       "      <td>0.002992</td>\n",
       "    </tr>\n",
       "    <tr>\n",
       "      <th>5427</th>\n",
       "      <td>1029175</td>\n",
       "      <td>telugu</td>\n",
       "      <td>Vengi Chalukya</td>\n",
       "      <td>hindu</td>\n",
       "      <td>88.0</td>\n",
       "      <td>0.011396</td>\n",
       "      <td>0.217087</td>\n",
       "      <td>0.013116</td>\n",
       "      <td>0.028545</td>\n",
       "      <td>0.002835</td>\n",
       "    </tr>\n",
       "    <tr>\n",
       "      <th>8356</th>\n",
       "      <td>10293135</td>\n",
       "      <td>bedouin_arabic</td>\n",
       "      <td>Isaid</td>\n",
       "      <td>shiite</td>\n",
       "      <td>103.0</td>\n",
       "      <td>0.013339</td>\n",
       "      <td>0.271615</td>\n",
       "      <td>0.035256</td>\n",
       "      <td>0.316977</td>\n",
       "      <td>0.002803</td>\n",
       "    </tr>\n",
       "    <tr>\n",
       "      <th>5878</th>\n",
       "      <td>1040016</td>\n",
       "      <td>pictish</td>\n",
       "      <td>Uuidoch</td>\n",
       "      <td>catholic</td>\n",
       "      <td>76.0</td>\n",
       "      <td>0.009842</td>\n",
       "      <td>0.243345</td>\n",
       "      <td>0.024031</td>\n",
       "      <td>0.001339</td>\n",
       "      <td>0.002797</td>\n",
       "    </tr>\n",
       "    <tr>\n",
       "      <th>8427</th>\n",
       "      <td>10293281</td>\n",
       "      <td>mordvin</td>\n",
       "      <td>Mokshid</td>\n",
       "      <td>finnish_pagan</td>\n",
       "      <td>78.0</td>\n",
       "      <td>0.010101</td>\n",
       "      <td>0.239246</td>\n",
       "      <td>0.018908</td>\n",
       "      <td>0.003545</td>\n",
       "      <td>0.002717</td>\n",
       "    </tr>\n",
       "  </tbody>\n",
       "</table>\n",
       "</div>"
      ],
      "text/plain": [
       "           _id          culture            name       religion  Degree  \\\n",
       "5762   1044301       hindustani          Ayudha          hindu   237.0   \n",
       "4307    101727   bedouin_arabic         Abbasid          sunni   195.0   \n",
       "5169     12308   bedouin_arabic         Aslamid          sunni   159.0   \n",
       "6006   1048001   bedouin_arabic      Muhallabid          sunni   173.0   \n",
       "1695      8646            greek         Isauros     iconoclast   160.0   \n",
       "6244   1051100           uyghur            Uzur      manichean   114.0   \n",
       "1921      9530     lettigallish         Penikis   baltic_pagan   114.0   \n",
       "610        615  egyptian_arabic        Tabghach          sunni   119.0   \n",
       "5643   1044053          lombard     Alachisling       catholic   111.0   \n",
       "5866   1042137   bedouin_arabic         Amrubid          sunni   104.0   \n",
       "5398   1042066           rajput       Pratihara          hindu    92.0   \n",
       "5427   1029175           telugu  Vengi Chalukya          hindu    88.0   \n",
       "8356  10293135   bedouin_arabic           Isaid         shiite   103.0   \n",
       "5878   1040016          pictish         Uuidoch       catholic    76.0   \n",
       "8427  10293281          mordvin         Mokshid  finnish_pagan    78.0   \n",
       "\n",
       "      Deg Cent  Close Cent  Betw Cent  Eigenvector  PageRank  \n",
       "5762  0.030692    0.264775   0.105195     0.146453  0.007413  \n",
       "4307  0.025253    0.287283   0.081760     0.794772  0.006150  \n",
       "5169  0.020591    0.255062   0.034368     0.047255  0.005691  \n",
       "6006  0.022404    0.271062   0.059265     0.076533  0.005236  \n",
       "1695  0.020720    0.262128   0.036086     0.008396  0.004820  \n",
       "6244  0.014763    0.249077   0.030490     0.012590  0.004536  \n",
       "1921  0.014763    0.245485   0.027876     0.002756  0.004362  \n",
       "610   0.015411    0.252444   0.030610     0.084705  0.003925  \n",
       "5643  0.014375    0.267349   0.046155     0.005132  0.003125  \n",
       "5866  0.013468    0.247125   0.015563     0.104250  0.003065  \n",
       "5398  0.011914    0.226447   0.015864     0.048872  0.002992  \n",
       "5427  0.011396    0.217087   0.013116     0.028545  0.002835  \n",
       "8356  0.013339    0.271615   0.035256     0.316977  0.002803  \n",
       "5878  0.009842    0.243345   0.024031     0.001339  0.002797  \n",
       "8427  0.010101    0.239246   0.018908     0.003545  0.002717  "
      ]
     },
     "execution_count": 26,
     "metadata": {},
     "output_type": "execute_result"
    }
   ],
   "source": [
    "comb_stats.sort_values(by = 'PageRank', ascending = False).head(15)"
   ]
  },
  {
   "cell_type": "code",
   "execution_count": 27,
   "metadata": {
    "collapsed": true
   },
   "outputs": [],
   "source": [
    "comb_stats.to_csv('CK2-Kill-Network-stats.csv', index=False)"
   ]
  }
 ],
 "metadata": {
  "kernelspec": {
   "display_name": "Python 3",
   "language": "python",
   "name": "python3"
  },
  "language_info": {
   "codemirror_mode": {
    "name": "ipython",
    "version": 3
   },
   "file_extension": ".py",
   "mimetype": "text/x-python",
   "name": "python",
   "nbconvert_exporter": "python",
   "pygments_lexer": "ipython3",
   "version": "3.6.2"
  }
 },
 "nbformat": 4,
 "nbformat_minor": 2
}
