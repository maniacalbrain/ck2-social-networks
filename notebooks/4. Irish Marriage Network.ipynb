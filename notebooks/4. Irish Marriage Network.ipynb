{
 "cells": [
  {
   "cell_type": "markdown",
   "metadata": {
    "collapsed": true
   },
   "source": [
    "# Irish Marriage Network"
   ]
  },
  {
   "cell_type": "markdown",
   "metadata": {},
   "source": [
    "In this notebook all characters who are members of an Irish dynasty, regardless of their character culture, or who have Irish as there culture and their spouses are extracted. The network contains the dynasties of all of these characters and an edge is drawn between dynasties if there is a marriage between them."
   ]
  },
  {
   "cell_type": "code",
   "execution_count": 1,
   "metadata": {
    "collapsed": true
   },
   "outputs": [],
   "source": [
    "from pymongo import MongoClient\n",
    "import pandas as pd\n",
    "import datetime"
   ]
  },
  {
   "cell_type": "markdown",
   "metadata": {},
   "source": [
    "### Get all members of Irish Dynasties"
   ]
  },
  {
   "cell_type": "code",
   "execution_count": 2,
   "metadata": {
    "collapsed": true
   },
   "outputs": [],
   "source": [
    "client = MongoClient()\n",
    "characters = client.ck2.characters"
   ]
  },
  {
   "cell_type": "code",
   "execution_count": 3,
   "metadata": {
    "collapsed": true
   },
   "outputs": [],
   "source": [
    "pipeline = [ \n",
    "    {\n",
    "        \"$lookup\" :\n",
    "        {\n",
    "            \"from\" : \"dynasties\",\n",
    "            \"localField\" : \"dnt\",\n",
    "            \"foreignField\" : \"_id\",\n",
    "            \"as\" : \"dynasty\"\n",
    "        }\n",
    "    },\n",
    "    {\n",
    "        \"$unwind\" : \"$dynasty\"        \n",
    "    },\n",
    "    {\n",
    "        \"$match\" : { \"$or\" : [{\"dynasty.culture\" : \"irish\"}, {\"cul\" : \"irish\"}],   \"spouse\" : {\"$exists\" : True }}\n",
    "    },\n",
    "    {\n",
    "        \"$project\" : {\"_id\": 1, \"spouse\" : 1}        \n",
    "    }\n",
    "]"
   ]
  },
  {
   "cell_type": "code",
   "execution_count": 4,
   "metadata": {
    "collapsed": true
   },
   "outputs": [],
   "source": [
    "chars = characters.aggregate(pipeline)"
   ]
  },
  {
   "cell_type": "code",
   "execution_count": 5,
   "metadata": {
    "collapsed": true
   },
   "outputs": [],
   "source": [
    "spouses = set() #set of all Irish dynastic members and their spouses\n",
    "\n",
    "for char in chars:\n",
    "    spouses.add(char[\"_id\"])\n",
    "    if 'spouse' in char.keys():\n",
    "        for spouse in char['spouse']:\n",
    "            spouses.add(spouse)"
   ]
  },
  {
   "cell_type": "markdown",
   "metadata": {},
   "source": [
    "### Return Edge List of all Irish Dynastic Characters and their spouses"
   ]
  },
  {
   "cell_type": "code",
   "execution_count": 6,
   "metadata": {
    "collapsed": true
   },
   "outputs": [],
   "source": [
    "pipeline = [ \n",
    "    {\n",
    "        \"$lookup\" :\n",
    "        {\n",
    "            \"from\" : \"dynasties\",\n",
    "            \"localField\" : \"dnt\",\n",
    "            \"foreignField\" : \"_id\",\n",
    "            \"as\" : \"dynasty\"\n",
    "        }\n",
    "    },\n",
    "    {\n",
    "        \"$unwind\" : \"$dynasty\"        \n",
    "    },\n",
    "    {\n",
    "        \"$match\" : {\"_id\" : {\"$in\" : list(spouses)}}\n",
    "    },\n",
    "    {\n",
    "        \"$unwind\" : \"$spouse\"        \n",
    "    },\n",
    "    {\n",
    "        \"$lookup\" :\n",
    "        {\n",
    "            \"from\" : \"characters\",\n",
    "            \"localField\" : \"spouse\",\n",
    "            \"foreignField\" : \"_id\",\n",
    "            \"as\" : \"spouse_data\"\n",
    "        }\n",
    "    },\n",
    "    {\n",
    "        \"$unwind\" : \"$spouse_data\"        \n",
    "    },\n",
    "    {\n",
    "        \"$lookup\" :\n",
    "        {\n",
    "            \"from\" : \"dynasties\",\n",
    "            \"localField\" : \"spouse_data.dnt\",\n",
    "            \"foreignField\" : \"_id\",\n",
    "            \"as\" : \"spouse_dyn\"\n",
    "        }\n",
    "    },\n",
    "    {\n",
    "        \"$unwind\" : \"$spouse_dyn\"       \n",
    "    },\n",
    "    {\n",
    "        \"$project\" : {\"_id\": 1, \"dynasty\" : \"$dynasty._id\", \"name\" : \"$dynasty.name\", \"culture\" : \"$dynasty.culture\", \n",
    "                      \"spouse_id\" : \"$spouse_data._id\", \"spouse_dynasty\" : \"$spouse_dyn._id\", \"spouse_dynasty_name\" : \"$spouse_dyn.name\",\n",
    "                      \"spouse_dyn_cul\" : \"$spouse_dyn.culture\" }        \n",
    "    }\n",
    "]"
   ]
  },
  {
   "cell_type": "code",
   "execution_count": 7,
   "metadata": {
    "collapsed": true
   },
   "outputs": [],
   "source": [
    "chars = characters.aggregate(pipeline)"
   ]
  },
  {
   "cell_type": "code",
   "execution_count": 8,
   "metadata": {
    "collapsed": true
   },
   "outputs": [],
   "source": [
    "chars_df = pd.DataFrame(list(chars))"
   ]
  },
  {
   "cell_type": "markdown",
   "metadata": {},
   "source": [
    "## Get all Dynasties involved"
   ]
  },
  {
   "cell_type": "code",
   "execution_count": 9,
   "metadata": {
    "collapsed": true
   },
   "outputs": [],
   "source": [
    "total_dyns = set(chars_df['dynasty'].unique())\n",
    "total_dyns = total_dyns.union(set(chars_df['spouse_dynasty'].unique()))\n",
    "total_dyns_as_ints = [int(i) for i in list(total_dyns)]"
   ]
  },
  {
   "cell_type": "code",
   "execution_count": 10,
   "metadata": {
    "collapsed": true
   },
   "outputs": [],
   "source": [
    "dynasties = client.ck2.dynasties\n",
    "\n",
    "pipeline = [    \n",
    "    {\n",
    "        \"$match\" : {\"_id\" : {\"$in\" : total_dyns_as_ints}}\n",
    "    },\n",
    "    {\n",
    "        \"$project\" : {\"name\" : 1, \"culture\" : 1, \"religion\" : 1}\n",
    "    },\n",
    "    {\n",
    "        \"$sort\" : {\"name\" : 1}\n",
    "    }\n",
    "]"
   ]
  },
  {
   "cell_type": "code",
   "execution_count": 11,
   "metadata": {
    "collapsed": true
   },
   "outputs": [],
   "source": [
    "dyns = dynasties.aggregate(pipeline)"
   ]
  },
  {
   "cell_type": "markdown",
   "metadata": {},
   "source": [
    "# Build a Network Graph"
   ]
  },
  {
   "cell_type": "code",
   "execution_count": 12,
   "metadata": {
    "collapsed": true
   },
   "outputs": [],
   "source": [
    "import networkx as nx\n",
    "import matplotlib.pyplot as plt"
   ]
  },
  {
   "cell_type": "code",
   "execution_count": 13,
   "metadata": {
    "collapsed": true
   },
   "outputs": [],
   "source": [
    "G = nx.Graph()\n",
    "\n",
    "for dyn in dyns:\n",
    "    if \"name\" in dyn.keys() and \"culture\" in dyn.keys() and \"religion\" in dyn.keys():\n",
    "        G.add_node(dyn[\"_id\"], name = dyn['name'], culture = dyn['culture'], religion = dyn[\"religion\"])"
   ]
  },
  {
   "cell_type": "code",
   "execution_count": 14,
   "metadata": {
    "collapsed": true
   },
   "outputs": [],
   "source": [
    "complete_set = set()\n",
    "\n",
    "for i in range(len(chars_df)):\n",
    "    if(chars_df.loc[i, \"culture\"] == \"irish\" or chars_df.loc[i, \"spouse_dyn_cul\"] == \"irish\"): #One of the cultures is irish\n",
    "        if( (chars_df.loc[i, \"_id\"], chars_df.loc[i, \"spouse_id\"]) not in complete_set): #if it hasn't be set already\n",
    "            if G.has_edge(chars_df.loc[i, \"dynasty\"], chars_df.loc[i, \"spouse_dynasty\"]):\n",
    "                G.edge[chars_df.loc[i, \"dynasty\"]][chars_df.loc[i, \"spouse_dynasty\"]][\"weight\"] +=1\n",
    "            else:               \n",
    "                G.add_edge(chars_df.loc[i, \"dynasty\"], chars_df.loc[i, \"spouse_dynasty\"], weight = 1)\n",
    "            complete_set.add( (chars_df.loc[i, \"spouse_id\"], chars_df.loc[i, \"_id\"]) )\n",
    "            \n",
    "G.remove_nodes_from(nx.isolates(G)) #drop unconnected nodes       "
   ]
  },
  {
   "cell_type": "code",
   "execution_count": 15,
   "metadata": {
    "collapsed": true
   },
   "outputs": [],
   "source": [
    "nx.write_graphml(max(nx.connected_component_subgraphs(G), key=len), \"ck2-Irish-Marrige-Network.graphml\")"
   ]
  },
  {
   "cell_type": "markdown",
   "metadata": {},
   "source": [
    "The graphml file in the code above was opened in Gephi and the picture below was generated. The nodes are colored by modularity,\n",
    "a statistic in Gephi that finds clusters within a network. There are 6 in total, the smallest is the two nodes in the bottom right corner."
   ]
  },
  {
   "cell_type": "code",
   "execution_count": 16,
   "metadata": {},
   "outputs": [
    {
     "data": {
      "text/html": [
       "<img src=\"http://www.anquantarbuile.com/static/images/ck2/IrishMarriageNetworkModularity.png\"/>"
      ],
      "text/plain": [
       "<IPython.core.display.Image object>"
      ]
     },
     "execution_count": 16,
     "metadata": {},
     "output_type": "execute_result"
    }
   ],
   "source": [
    "from IPython.display import Image\n",
    "from IPython.core.display import HTML \n",
    "Image(url= \"http://www.anquantarbuile.com/static/images/ck2/IrishMarriageNetworkModularity.png\")"
   ]
  },
  {
   "cell_type": "markdown",
   "metadata": {},
   "source": [
    "# Centrality Measures"
   ]
  },
  {
   "cell_type": "code",
   "execution_count": 17,
   "metadata": {
    "collapsed": true
   },
   "outputs": [],
   "source": [
    "# Return stats of graph (degree, centrality etc)\n",
    "def get_graph_stats(graph, by_col = ''):   \n",
    "    degree = pd.DataFrame.from_dict(graph.degree(graph), orient = 'index').reset_index()\n",
    "    degree.rename(columns={'index': 'Name', 0: 'Degree'}, inplace=True)\n",
    "    \n",
    "    degree_cent = pd.DataFrame.from_dict(nx.degree_centrality(graph), orient = 'index').reset_index()\n",
    "    degree_cent.rename(columns={'index': 'Name', 0: 'Deg Cent'}, inplace=True)\n",
    "    \n",
    "    stats_df = pd.merge(degree, degree_cent, on = ['Name', 'Name'])\n",
    "    \n",
    "    close_cent = pd.DataFrame.from_dict(nx.closeness_centrality(graph), orient = 'index').reset_index()\n",
    "    close_cent.rename(columns={'index': 'Name', 0: 'Close Cent'}, inplace=True)\n",
    "    \n",
    "    stats_df = pd.merge(stats_df, close_cent, on = ['Name', 'Name'])\n",
    "    \n",
    "    betw_cent = pd.DataFrame.from_dict(nx.betweenness_centrality(graph), orient = 'index').reset_index()\n",
    "    betw_cent.rename(columns={'index': 'Name', 0: 'Betw Cent'}, inplace=True)\n",
    "    \n",
    "    stats_df = pd.merge(stats_df, betw_cent, on = ['Name', 'Name'])\n",
    "    \n",
    "    eigenvector = pd.DataFrame.from_dict(nx.eigenvector_centrality(graph), orient = 'index').reset_index()\n",
    "    eigenvector.rename(columns={'index': 'Name', 0: 'Eigenvector'}, inplace=True)\n",
    "    \n",
    "    stats_df = pd.merge(stats_df, eigenvector, on = ['Name', 'Name'])\n",
    "    \n",
    "    pagerank = pd.DataFrame.from_dict(nx.pagerank(graph), orient = 'index').reset_index()\n",
    "    pagerank.rename(columns={'index': 'Name', 0: 'PageRank'}, inplace=True)\n",
    "    \n",
    "    stats_df = pd.merge(stats_df, pagerank, on = ['Name', 'Name'])\n",
    "    \n",
    "    if by_col != '':\n",
    "        stats_df = stats_df.sort_values(by = by_col, ascending = False).reset_index(drop = True)\n",
    "    \n",
    "    return stats_df\n"
   ]
  },
  {
   "cell_type": "code",
   "execution_count": 18,
   "metadata": {
    "collapsed": true
   },
   "outputs": [],
   "source": [
    "pipeline = [ \n",
    "    { \n",
    "        \"$project\" : {\"_id\" : \"$_id\", \"name\" : \"$name\", \"culture\" : \"$culture\", \"religion\" : \"$religion\"}\n",
    "    }\n",
    "]"
   ]
  },
  {
   "cell_type": "code",
   "execution_count": 19,
   "metadata": {
    "collapsed": true
   },
   "outputs": [],
   "source": [
    "dynasties = client.ck2.dynasties"
   ]
  },
  {
   "cell_type": "code",
   "execution_count": 20,
   "metadata": {
    "collapsed": true
   },
   "outputs": [],
   "source": [
    "dyn_list = dynasties.aggregate(pipeline)\n",
    "dyn_df = pd.DataFrame(list(dyn_list))"
   ]
  },
  {
   "cell_type": "code",
   "execution_count": 21,
   "metadata": {
    "collapsed": true
   },
   "outputs": [],
   "source": [
    "stats = get_graph_stats(G)"
   ]
  },
  {
   "cell_type": "code",
   "execution_count": 22,
   "metadata": {
    "collapsed": true
   },
   "outputs": [],
   "source": [
    "comb_stats = dyn_df.merge(stats, left_on='_id', right_on='Name', how='outer')\n",
    "comb_stats = comb_stats.dropna(axis=0, how='any')\n",
    "comb_stats = comb_stats.drop([\"Name\"], axis = 1).reset_index(drop = True)"
   ]
  },
  {
   "cell_type": "code",
   "execution_count": 25,
   "metadata": {},
   "outputs": [
    {
     "data": {
      "text/html": [
       "<div>\n",
       "<style>\n",
       "    .dataframe thead tr:only-child th {\n",
       "        text-align: right;\n",
       "    }\n",
       "\n",
       "    .dataframe thead th {\n",
       "        text-align: left;\n",
       "    }\n",
       "\n",
       "    .dataframe tbody tr th {\n",
       "        vertical-align: top;\n",
       "    }\n",
       "</style>\n",
       "<table border=\"1\" class=\"dataframe\">\n",
       "  <thead>\n",
       "    <tr style=\"text-align: right;\">\n",
       "      <th></th>\n",
       "      <th>_id</th>\n",
       "      <th>culture</th>\n",
       "      <th>name</th>\n",
       "      <th>religion</th>\n",
       "      <th>Degree</th>\n",
       "      <th>Deg Cent</th>\n",
       "      <th>Close Cent</th>\n",
       "      <th>Betw Cent</th>\n",
       "      <th>Eigenvector</th>\n",
       "      <th>PageRank</th>\n",
       "    </tr>\n",
       "  </thead>\n",
       "  <tbody>\n",
       "    <tr>\n",
       "      <th>78</th>\n",
       "      <td>9230</td>\n",
       "      <td>irish</td>\n",
       "      <td>Eóganacht-Locha Léin</td>\n",
       "      <td>pagan</td>\n",
       "      <td>78.0</td>\n",
       "      <td>0.309524</td>\n",
       "      <td>0.448871</td>\n",
       "      <td>0.307458</td>\n",
       "      <td>0.437323</td>\n",
       "      <td>0.074570</td>\n",
       "    </tr>\n",
       "    <tr>\n",
       "      <th>72</th>\n",
       "      <td>9218</td>\n",
       "      <td>irish</td>\n",
       "      <td>Ua Briúin Bréifne</td>\n",
       "      <td>catholic</td>\n",
       "      <td>60.0</td>\n",
       "      <td>0.238095</td>\n",
       "      <td>0.452070</td>\n",
       "      <td>0.198980</td>\n",
       "      <td>0.304728</td>\n",
       "      <td>0.047775</td>\n",
       "    </tr>\n",
       "    <tr>\n",
       "      <th>79</th>\n",
       "      <td>9231</td>\n",
       "      <td>irish</td>\n",
       "      <td>Mac Finnachta</td>\n",
       "      <td>catholic</td>\n",
       "      <td>36.0</td>\n",
       "      <td>0.142857</td>\n",
       "      <td>0.382941</td>\n",
       "      <td>0.136056</td>\n",
       "      <td>0.170107</td>\n",
       "      <td>0.041642</td>\n",
       "    </tr>\n",
       "    <tr>\n",
       "      <th>7</th>\n",
       "      <td>199</td>\n",
       "      <td>irish</td>\n",
       "      <td>Ua Néill Noígiallaich</td>\n",
       "      <td>catholic</td>\n",
       "      <td>43.0</td>\n",
       "      <td>0.170635</td>\n",
       "      <td>0.409293</td>\n",
       "      <td>0.101052</td>\n",
       "      <td>0.356814</td>\n",
       "      <td>0.038336</td>\n",
       "    </tr>\n",
       "    <tr>\n",
       "      <th>39</th>\n",
       "      <td>819</td>\n",
       "      <td>irish</td>\n",
       "      <td>Dál Fiatach</td>\n",
       "      <td>catholic</td>\n",
       "      <td>28.0</td>\n",
       "      <td>0.111111</td>\n",
       "      <td>0.372449</td>\n",
       "      <td>0.036124</td>\n",
       "      <td>0.294279</td>\n",
       "      <td>0.026021</td>\n",
       "    </tr>\n",
       "  </tbody>\n",
       "</table>\n",
       "</div>"
      ],
      "text/plain": [
       "     _id culture                   name  religion  Degree  Deg Cent  \\\n",
       "78  9230   irish   Eóganacht-Locha Léin     pagan    78.0  0.309524   \n",
       "72  9218   irish      Ua Briúin Bréifne  catholic    60.0  0.238095   \n",
       "79  9231   irish          Mac Finnachta  catholic    36.0  0.142857   \n",
       "7    199   irish  Ua Néill Noígiallaich  catholic    43.0  0.170635   \n",
       "39   819   irish            Dál Fiatach  catholic    28.0  0.111111   \n",
       "\n",
       "    Close Cent  Betw Cent  Eigenvector  PageRank  \n",
       "78    0.448871   0.307458     0.437323  0.074570  \n",
       "72    0.452070   0.198980     0.304728  0.047775  \n",
       "79    0.382941   0.136056     0.170107  0.041642  \n",
       "7     0.409293   0.101052     0.356814  0.038336  \n",
       "39    0.372449   0.036124     0.294279  0.026021  "
      ]
     },
     "execution_count": 25,
     "metadata": {},
     "output_type": "execute_result"
    }
   ],
   "source": [
    "comb_stats.sort_values(by=[\"PageRank\"], ascending=False).head()"
   ]
  },
  {
   "cell_type": "code",
   "execution_count": 26,
   "metadata": {
    "collapsed": true
   },
   "outputs": [],
   "source": [
    "comb_stats.to_csv('CK2-Irish-Marrige-Network-stats.csv', index=False)"
   ]
  },
  {
   "cell_type": "code",
   "execution_count": null,
   "metadata": {
    "collapsed": true
   },
   "outputs": [],
   "source": []
  }
 ],
 "metadata": {
  "kernelspec": {
   "display_name": "Python 3",
   "language": "python",
   "name": "python3"
  },
  "language_info": {
   "codemirror_mode": {
    "name": "ipython",
    "version": 3
   },
   "file_extension": ".py",
   "mimetype": "text/x-python",
   "name": "python",
   "nbconvert_exporter": "python",
   "pygments_lexer": "ipython3",
   "version": "3.6.2"
  }
 },
 "nbformat": 4,
 "nbformat_minor": 2
}
