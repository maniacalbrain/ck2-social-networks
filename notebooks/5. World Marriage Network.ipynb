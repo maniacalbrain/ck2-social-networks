{
 "cells": [
  {
   "cell_type": "markdown",
   "metadata": {
    "collapsed": true
   },
   "source": [
    "# World Marriage Network"
   ]
  },
  {
   "cell_type": "markdown",
   "metadata": {},
   "source": [
    "This network consists of all marriages and shows how dynasties tend to cluster. This network is fairly large with almost 10000 nodes, some cells such as the Eigenvector and Betweeness calculations for the centrality stats can take a while to run."
   ]
  },
  {
   "cell_type": "code",
   "execution_count": 1,
   "metadata": {
    "collapsed": true
   },
   "outputs": [],
   "source": [
    "from pymongo import MongoClient\n",
    "import pandas as pd\n",
    "import datetime"
   ]
  },
  {
   "cell_type": "markdown",
   "metadata": {},
   "source": [
    "### Get all members of Irish Dynasties"
   ]
  },
  {
   "cell_type": "code",
   "execution_count": 2,
   "metadata": {
    "collapsed": true
   },
   "outputs": [],
   "source": [
    "client = MongoClient()\n",
    "characters = client.ck2.characters"
   ]
  },
  {
   "cell_type": "code",
   "execution_count": 3,
   "metadata": {
    "collapsed": true
   },
   "outputs": [],
   "source": [
    "pipeline = [ \n",
    "    {\n",
    "        \"$lookup\" :\n",
    "        {\n",
    "            \"from\" : \"dynasties\",\n",
    "            \"localField\" : \"dnt\",\n",
    "            \"foreignField\" : \"_id\",\n",
    "            \"as\" : \"dynasty\"\n",
    "        }\n",
    "    },\n",
    "    {\n",
    "        \"$unwind\" : \"$dynasty\"        \n",
    "    },\n",
    "    #{\n",
    "    #    \"$match\" : { \"$or\" : [{\"dynasty.culture\" : \"irish\"}, {\"cul\" : \"irish\"}],   \"spouse\" : {\"$exists\" : True }}\n",
    "    #},\n",
    "    {\n",
    "        \"$project\" : {\"_id\": 1, \"spouse\" : 1}        \n",
    "    }\n",
    "]"
   ]
  },
  {
   "cell_type": "code",
   "execution_count": 4,
   "metadata": {
    "collapsed": true
   },
   "outputs": [],
   "source": [
    "chars = characters.aggregate(pipeline)"
   ]
  },
  {
   "cell_type": "code",
   "execution_count": 5,
   "metadata": {
    "collapsed": true
   },
   "outputs": [],
   "source": [
    "spouses = set() #set of all Irish dynastic members and their spouses\n",
    "\n",
    "for char in chars:\n",
    "    spouses.add(char[\"_id\"])\n",
    "    if 'spouse' in char.keys():\n",
    "        for spouse in char['spouse']:\n",
    "            spouses.add(spouse)"
   ]
  },
  {
   "cell_type": "markdown",
   "metadata": {},
   "source": [
    "### Return Edge List of all Irish Dynastic Characters and their spouses"
   ]
  },
  {
   "cell_type": "code",
   "execution_count": 6,
   "metadata": {
    "collapsed": true
   },
   "outputs": [],
   "source": [
    "pipeline = [ \n",
    "    {\n",
    "        \"$lookup\" :\n",
    "        {\n",
    "            \"from\" : \"dynasties\",\n",
    "            \"localField\" : \"dnt\",\n",
    "            \"foreignField\" : \"_id\",\n",
    "            \"as\" : \"dynasty\"\n",
    "        }\n",
    "    },\n",
    "    {\n",
    "        \"$unwind\" : \"$dynasty\"        \n",
    "    },\n",
    "    {\n",
    "        \"$match\" : {\"_id\" : {\"$in\" : list(spouses)}}\n",
    "    },\n",
    "    {\n",
    "        \"$unwind\" : \"$spouse\"        \n",
    "    },\n",
    "    {\n",
    "        \"$lookup\" :\n",
    "        {\n",
    "            \"from\" : \"characters\",\n",
    "            \"localField\" : \"spouse\",\n",
    "            \"foreignField\" : \"_id\",\n",
    "            \"as\" : \"spouse_data\"\n",
    "        }\n",
    "    },\n",
    "    {\n",
    "        \"$unwind\" : \"$spouse_data\"        \n",
    "    },\n",
    "    {\n",
    "        \"$lookup\" :\n",
    "        {\n",
    "            \"from\" : \"dynasties\",\n",
    "            \"localField\" : \"spouse_data.dnt\",\n",
    "            \"foreignField\" : \"_id\",\n",
    "            \"as\" : \"spouse_dyn\"\n",
    "        }\n",
    "    },\n",
    "    {\n",
    "        \"$unwind\" : \"$spouse_dyn\"       \n",
    "    },\n",
    "    {\n",
    "        \"$project\" : {\"_id\": 1, \"dynasty\" : \"$dynasty._id\", \"name\" : \"$dynasty.name\", \"culture\" : \"$dynasty.culture\", \"religion\" : \"$dynasty.religion\",\n",
    "                      \"spouse_id\" : \"$spouse_data._id\", \"spouse_dynasty\" : \"$spouse_dyn._id\", \"spouse_dynasty_name\" : \"$spouse_dyn.name\",\n",
    "                      \"spouse_dyn_cul\" : \"$spouse_dyn.culture\" }        \n",
    "    }\n",
    "]"
   ]
  },
  {
   "cell_type": "code",
   "execution_count": 7,
   "metadata": {
    "collapsed": true
   },
   "outputs": [],
   "source": [
    "chars = characters.aggregate(pipeline)"
   ]
  },
  {
   "cell_type": "code",
   "execution_count": 8,
   "metadata": {
    "collapsed": true
   },
   "outputs": [],
   "source": [
    "chars_df = pd.DataFrame(list(chars))"
   ]
  },
  {
   "cell_type": "markdown",
   "metadata": {},
   "source": [
    "## Get all Dynasties involved"
   ]
  },
  {
   "cell_type": "code",
   "execution_count": 9,
   "metadata": {
    "collapsed": true
   },
   "outputs": [],
   "source": [
    "total_dyns = set(chars_df['dynasty'].unique())\n",
    "total_dyns = total_dyns.union(set(chars_df['spouse_dynasty'].unique()))\n",
    "total_dyns_as_ints = [int(i) for i in list(total_dyns)]"
   ]
  },
  {
   "cell_type": "code",
   "execution_count": 10,
   "metadata": {
    "collapsed": true
   },
   "outputs": [],
   "source": [
    "dynasties = client.ck2.dynasties\n",
    "\n",
    "pipeline = [    \n",
    "    {\n",
    "        \"$match\" : {\"_id\" : {\"$in\" : total_dyns_as_ints}}\n",
    "    },\n",
    "    {\n",
    "        \"$project\" : {\"name\" : 1, \"culture\" : 1, \"religion\" : 1}\n",
    "    },\n",
    "    {\n",
    "        \"$sort\" : {\"name\" : 1}\n",
    "    }\n",
    "]"
   ]
  },
  {
   "cell_type": "code",
   "execution_count": 11,
   "metadata": {
    "collapsed": true
   },
   "outputs": [],
   "source": [
    "dyns = dynasties.aggregate(pipeline)"
   ]
  },
  {
   "cell_type": "markdown",
   "metadata": {},
   "source": [
    "# Build a Network Graph"
   ]
  },
  {
   "cell_type": "code",
   "execution_count": 12,
   "metadata": {
    "collapsed": true
   },
   "outputs": [],
   "source": [
    "import networkx as nx\n",
    "import matplotlib.pyplot as plt"
   ]
  },
  {
   "cell_type": "code",
   "execution_count": 13,
   "metadata": {
    "collapsed": true
   },
   "outputs": [],
   "source": [
    "G = nx.Graph()\n",
    "\n",
    "for dyn in dyns:\n",
    "    if \"name\" in dyn.keys() and \"culture\" in dyn.keys() and \"religion\" in dyn.keys():\n",
    "        G.add_node(dyn[\"_id\"], name = dyn['name'], culture = dyn['culture'], religion = dyn['religion'])"
   ]
  },
  {
   "cell_type": "code",
   "execution_count": 14,
   "metadata": {
    "collapsed": true
   },
   "outputs": [],
   "source": [
    "complete_set = set()\n",
    "\n",
    "for i in range(len(chars_df)):\n",
    "    #if(chars_df.loc[i, \"culture\"] == \"irish\" or chars_df.loc[i, \"spouse_dyn_cul\"] == \"irish\"): #One of the cultures is irish\n",
    "    if( (chars_df.loc[i, \"_id\"], chars_df.loc[i, \"spouse_id\"]) not in complete_set): #if it hasn't be set already\n",
    "        if G.has_edge(chars_df.loc[i, \"dynasty\"], chars_df.loc[i, \"spouse_dynasty\"]):\n",
    "            G.edge[chars_df.loc[i, \"dynasty\"]][chars_df.loc[i, \"spouse_dynasty\"]][\"weight\"] +=1\n",
    "        else:               \n",
    "            G.add_edge(chars_df.loc[i, \"dynasty\"], chars_df.loc[i, \"spouse_dynasty\"], weight = 1)\n",
    "        complete_set.add( (chars_df.loc[i, \"spouse_id\"], chars_df.loc[i, \"_id\"]) )\n",
    "            \n",
    "G.remove_nodes_from(nx.isolates(G)) #drop unconnected nodes       "
   ]
  },
  {
   "cell_type": "code",
   "execution_count": 15,
   "metadata": {
    "collapsed": true
   },
   "outputs": [],
   "source": [
    "nx.write_graphml(max(nx.connected_component_subgraphs(G), key=len), \"ck2-World-Marrige-Network.graphml\")"
   ]
  },
  {
   "cell_type": "markdown",
   "metadata": {},
   "source": [
    "The graphml file in the code above was opened in Gephi and the picture below was generated. The nodes are colored by culture. India is in the top right, the light blue nodes are Greek and in the bottom left is Europe. While it would be expected that dynasties would marry in a way that would cluster around culture and religion it is interesting to see how Italy, the dark purple color on the left, in between the Greek blue and Saxon pink, have managed to form a cluster of their own while the rest of Europe is closer together. "
   ]
  },
  {
   "cell_type": "code",
   "execution_count": 16,
   "metadata": {},
   "outputs": [
    {
     "data": {
      "text/html": [
       "<img src=\"http://www.anquantarbuile.com/static/images/ck2/WorldMarriageNetworkCulture.png\"/>"
      ],
      "text/plain": [
       "<IPython.core.display.Image object>"
      ]
     },
     "execution_count": 16,
     "metadata": {},
     "output_type": "execute_result"
    }
   ],
   "source": [
    "from IPython.display import Image\n",
    "from IPython.core.display import HTML \n",
    "Image(url= \"http://www.anquantarbuile.com/static/images/ck2/WorldMarriageNetworkCulture.png\")"
   ]
  },
  {
   "cell_type": "markdown",
   "metadata": {},
   "source": [
    "# Centrality Measures"
   ]
  },
  {
   "cell_type": "code",
   "execution_count": 19,
   "metadata": {
    "collapsed": true
   },
   "outputs": [],
   "source": [
    "# Return stats of graph (degree, centrality etc)\n",
    "def get_graph_stats(graph, by_col = ''):   \n",
    "    degree = pd.DataFrame.from_dict(graph.degree(graph), orient = 'index').reset_index()\n",
    "    degree.rename(columns={'index': 'Name', 0: 'Degree'}, inplace=True)\n",
    "    \n",
    "    degree_cent = pd.DataFrame.from_dict(nx.degree_centrality(graph), orient = 'index').reset_index()\n",
    "    degree_cent.rename(columns={'index': 'Name', 0: 'Deg Cent'}, inplace=True)\n",
    "    \n",
    "    stats_df = pd.merge(degree, degree_cent, on = ['Name', 'Name'])\n",
    "    \n",
    "    close_cent = pd.DataFrame.from_dict(nx.closeness_centrality(graph), orient = 'index').reset_index()\n",
    "    close_cent.rename(columns={'index': 'Name', 0: 'Close Cent'}, inplace=True)\n",
    "    \n",
    "    stats_df = pd.merge(stats_df, close_cent, on = ['Name', 'Name'])\n",
    "    \n",
    "    betw_cent = pd.DataFrame.from_dict(nx.betweenness_centrality(graph), orient = 'index').reset_index()\n",
    "    betw_cent.rename(columns={'index': 'Name', 0: 'Betw Cent'}, inplace=True)\n",
    "    \n",
    "    stats_df = pd.merge(stats_df, betw_cent, on = ['Name', 'Name'])\n",
    "    \n",
    "    eigenvector = pd.DataFrame.from_dict(nx.eigenvector_centrality(graph), orient = 'index').reset_index()\n",
    "    eigenvector.rename(columns={'index': 'Name', 0: 'Eigenvector'}, inplace=True)\n",
    "    \n",
    "    stats_df = pd.merge(stats_df, eigenvector, on = ['Name', 'Name'])\n",
    "    \n",
    "    pagerank = pd.DataFrame.from_dict(nx.pagerank(graph), orient = 'index').reset_index()\n",
    "    pagerank.rename(columns={'index': 'Name', 0: 'PageRank'}, inplace=True)\n",
    "    \n",
    "    stats_df = pd.merge(stats_df, pagerank, on = ['Name', 'Name'])\n",
    "    \n",
    "    if by_col != '':\n",
    "        stats_df = stats_df.sort_values(by = by_col, ascending = False).reset_index(drop = True)\n",
    "    \n",
    "    return stats_df\n"
   ]
  },
  {
   "cell_type": "code",
   "execution_count": 20,
   "metadata": {
    "collapsed": true
   },
   "outputs": [],
   "source": [
    "pipeline = [ \n",
    "    { \n",
    "        \"$project\" : {\"_id\" : \"$_id\", \"name\" : \"$name\", \"culture\" : \"$culture\", \"religion\" : \"$religion\"}\n",
    "    }\n",
    "]"
   ]
  },
  {
   "cell_type": "code",
   "execution_count": 21,
   "metadata": {
    "collapsed": true
   },
   "outputs": [],
   "source": [
    "dynasties = client.ck2.dynasties"
   ]
  },
  {
   "cell_type": "code",
   "execution_count": 22,
   "metadata": {
    "collapsed": true
   },
   "outputs": [],
   "source": [
    "dyn_list = dynasties.aggregate(pipeline)\n",
    "dyn_df = pd.DataFrame(list(dyn_list))"
   ]
  },
  {
   "cell_type": "code",
   "execution_count": 23,
   "metadata": {
    "collapsed": true
   },
   "outputs": [],
   "source": [
    "stats = get_graph_stats(G)"
   ]
  },
  {
   "cell_type": "code",
   "execution_count": 24,
   "metadata": {
    "collapsed": true
   },
   "outputs": [],
   "source": [
    "comb_stats = dyn_df.merge(stats, left_on='_id', right_on='Name', how='outer')\n",
    "comb_stats = comb_stats.dropna(axis=0, how='any')\n",
    "comb_stats = comb_stats.drop([\"Name\"], axis = 1)"
   ]
  },
  {
   "cell_type": "code",
   "execution_count": 25,
   "metadata": {},
   "outputs": [
    {
     "data": {
      "text/html": [
       "<div>\n",
       "<style>\n",
       "    .dataframe thead tr:only-child th {\n",
       "        text-align: right;\n",
       "    }\n",
       "\n",
       "    .dataframe thead th {\n",
       "        text-align: left;\n",
       "    }\n",
       "\n",
       "    .dataframe tbody tr th {\n",
       "        vertical-align: top;\n",
       "    }\n",
       "</style>\n",
       "<table border=\"1\" class=\"dataframe\">\n",
       "  <thead>\n",
       "    <tr style=\"text-align: right;\">\n",
       "      <th></th>\n",
       "      <th>_id</th>\n",
       "      <th>culture</th>\n",
       "      <th>name</th>\n",
       "      <th>religion</th>\n",
       "      <th>Degree</th>\n",
       "      <th>Deg Cent</th>\n",
       "      <th>Close Cent</th>\n",
       "      <th>Betw Cent</th>\n",
       "      <th>Eigenvector</th>\n",
       "      <th>PageRank</th>\n",
       "    </tr>\n",
       "  </thead>\n",
       "  <tbody>\n",
       "    <tr>\n",
       "      <th>5762</th>\n",
       "      <td>1044301</td>\n",
       "      <td>hindustani</td>\n",
       "      <td>Ayudha</td>\n",
       "      <td>hindu</td>\n",
       "      <td>362.0</td>\n",
       "      <td>0.037397</td>\n",
       "      <td>0.309737</td>\n",
       "      <td>0.094925</td>\n",
       "      <td>0.252215</td>\n",
       "      <td>0.007065</td>\n",
       "    </tr>\n",
       "    <tr>\n",
       "      <th>4307</th>\n",
       "      <td>101727</td>\n",
       "      <td>bedouin_arabic</td>\n",
       "      <td>Abbasid</td>\n",
       "      <td>sunni</td>\n",
       "      <td>337.0</td>\n",
       "      <td>0.034814</td>\n",
       "      <td>0.341234</td>\n",
       "      <td>0.085726</td>\n",
       "      <td>0.487180</td>\n",
       "      <td>0.006489</td>\n",
       "    </tr>\n",
       "    <tr>\n",
       "      <th>5169</th>\n",
       "      <td>12308</td>\n",
       "      <td>bedouin_arabic</td>\n",
       "      <td>Aslamid</td>\n",
       "      <td>sunni</td>\n",
       "      <td>227.0</td>\n",
       "      <td>0.023450</td>\n",
       "      <td>0.301904</td>\n",
       "      <td>0.026686</td>\n",
       "      <td>0.112980</td>\n",
       "      <td>0.005323</td>\n",
       "    </tr>\n",
       "    <tr>\n",
       "      <th>6006</th>\n",
       "      <td>1048001</td>\n",
       "      <td>bedouin_arabic</td>\n",
       "      <td>Muhallabid</td>\n",
       "      <td>sunni</td>\n",
       "      <td>298.0</td>\n",
       "      <td>0.030785</td>\n",
       "      <td>0.304152</td>\n",
       "      <td>0.046048</td>\n",
       "      <td>0.079342</td>\n",
       "      <td>0.005274</td>\n",
       "    </tr>\n",
       "    <tr>\n",
       "      <th>5643</th>\n",
       "      <td>1044053</td>\n",
       "      <td>lombard</td>\n",
       "      <td>Alachisling</td>\n",
       "      <td>catholic</td>\n",
       "      <td>272.0</td>\n",
       "      <td>0.028099</td>\n",
       "      <td>0.306858</td>\n",
       "      <td>0.071546</td>\n",
       "      <td>0.007889</td>\n",
       "      <td>0.004626</td>\n",
       "    </tr>\n",
       "    <tr>\n",
       "      <th>6244</th>\n",
       "      <td>1051100</td>\n",
       "      <td>uyghur</td>\n",
       "      <td>Uzur</td>\n",
       "      <td>manichean</td>\n",
       "      <td>129.0</td>\n",
       "      <td>0.013326</td>\n",
       "      <td>0.289824</td>\n",
       "      <td>0.019105</td>\n",
       "      <td>0.057576</td>\n",
       "      <td>0.004118</td>\n",
       "    </tr>\n",
       "    <tr>\n",
       "      <th>1695</th>\n",
       "      <td>8646</td>\n",
       "      <td>greek</td>\n",
       "      <td>Isauros</td>\n",
       "      <td>iconoclast</td>\n",
       "      <td>214.0</td>\n",
       "      <td>0.022107</td>\n",
       "      <td>0.318542</td>\n",
       "      <td>0.023916</td>\n",
       "      <td>0.038261</td>\n",
       "      <td>0.003987</td>\n",
       "    </tr>\n",
       "    <tr>\n",
       "      <th>610</th>\n",
       "      <td>615</td>\n",
       "      <td>egyptian_arabic</td>\n",
       "      <td>Tabghach</td>\n",
       "      <td>sunni</td>\n",
       "      <td>196.0</td>\n",
       "      <td>0.020248</td>\n",
       "      <td>0.304460</td>\n",
       "      <td>0.028936</td>\n",
       "      <td>0.054564</td>\n",
       "      <td>0.003852</td>\n",
       "    </tr>\n",
       "    <tr>\n",
       "      <th>1921</th>\n",
       "      <td>9530</td>\n",
       "      <td>lettigallish</td>\n",
       "      <td>Penikis</td>\n",
       "      <td>baltic_pagan</td>\n",
       "      <td>141.0</td>\n",
       "      <td>0.014566</td>\n",
       "      <td>0.271219</td>\n",
       "      <td>0.016869</td>\n",
       "      <td>0.001444</td>\n",
       "      <td>0.003829</td>\n",
       "    </tr>\n",
       "    <tr>\n",
       "      <th>8356</th>\n",
       "      <td>10293135</td>\n",
       "      <td>bedouin_arabic</td>\n",
       "      <td>Isaid</td>\n",
       "      <td>shiite</td>\n",
       "      <td>262.0</td>\n",
       "      <td>0.027066</td>\n",
       "      <td>0.338067</td>\n",
       "      <td>0.067534</td>\n",
       "      <td>0.197559</td>\n",
       "      <td>0.003765</td>\n",
       "    </tr>\n",
       "  </tbody>\n",
       "</table>\n",
       "</div>"
      ],
      "text/plain": [
       "           _id          culture         name      religion  Degree  Deg Cent  \\\n",
       "5762   1044301       hindustani       Ayudha         hindu   362.0  0.037397   \n",
       "4307    101727   bedouin_arabic      Abbasid         sunni   337.0  0.034814   \n",
       "5169     12308   bedouin_arabic      Aslamid         sunni   227.0  0.023450   \n",
       "6006   1048001   bedouin_arabic   Muhallabid         sunni   298.0  0.030785   \n",
       "5643   1044053          lombard  Alachisling      catholic   272.0  0.028099   \n",
       "6244   1051100           uyghur         Uzur     manichean   129.0  0.013326   \n",
       "1695      8646            greek      Isauros    iconoclast   214.0  0.022107   \n",
       "610        615  egyptian_arabic     Tabghach         sunni   196.0  0.020248   \n",
       "1921      9530     lettigallish      Penikis  baltic_pagan   141.0  0.014566   \n",
       "8356  10293135   bedouin_arabic        Isaid        shiite   262.0  0.027066   \n",
       "\n",
       "      Close Cent  Betw Cent  Eigenvector  PageRank  \n",
       "5762    0.309737   0.094925     0.252215  0.007065  \n",
       "4307    0.341234   0.085726     0.487180  0.006489  \n",
       "5169    0.301904   0.026686     0.112980  0.005323  \n",
       "6006    0.304152   0.046048     0.079342  0.005274  \n",
       "5643    0.306858   0.071546     0.007889  0.004626  \n",
       "6244    0.289824   0.019105     0.057576  0.004118  \n",
       "1695    0.318542   0.023916     0.038261  0.003987  \n",
       "610     0.304460   0.028936     0.054564  0.003852  \n",
       "1921    0.271219   0.016869     0.001444  0.003829  \n",
       "8356    0.338067   0.067534     0.197559  0.003765  "
      ]
     },
     "execution_count": 25,
     "metadata": {},
     "output_type": "execute_result"
    }
   ],
   "source": [
    "comb_stats.sort_values(by=[\"PageRank\"], ascending=False).head(10)"
   ]
  },
  {
   "cell_type": "code",
   "execution_count": 26,
   "metadata": {
    "collapsed": true
   },
   "outputs": [],
   "source": [
    "comb_stats.to_csv('CK2-Marrige-Network-stats.csv', index=False)"
   ]
  }
 ],
 "metadata": {
  "kernelspec": {
   "display_name": "Python 3",
   "language": "python",
   "name": "python3"
  },
  "language_info": {
   "codemirror_mode": {
    "name": "ipython",
    "version": 3
   },
   "file_extension": ".py",
   "mimetype": "text/x-python",
   "name": "python",
   "nbconvert_exporter": "python",
   "pygments_lexer": "ipython3",
   "version": "3.6.2"
  }
 },
 "nbformat": 4,
 "nbformat_minor": 2
}
