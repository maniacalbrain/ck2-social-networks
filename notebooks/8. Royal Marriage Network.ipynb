{
 "cells": [
  {
   "cell_type": "markdown",
   "metadata": {
    "collapsed": true
   },
   "source": [
    "# Royal Marriage Network"
   ]
  },
  {
   "cell_type": "markdown",
   "metadata": {},
   "source": [
    "The world marriage network takes all members of all dynasties into consideration. With this royal marriage network only the holders of Kingdom or Empire level titles and their children are used. This lets us see how alliances are formed by and between the most powerful dynasties."
   ]
  },
  {
   "cell_type": "code",
   "execution_count": 1,
   "metadata": {
    "collapsed": true
   },
   "outputs": [],
   "source": [
    "from pymongo import MongoClient\n",
    "import pandas as pd\n",
    "import datetime"
   ]
  },
  {
   "cell_type": "code",
   "execution_count": 2,
   "metadata": {
    "collapsed": true
   },
   "outputs": [],
   "source": [
    "client = MongoClient()\n",
    "titles = client.ck2.titles"
   ]
  },
  {
   "cell_type": "markdown",
   "metadata": {},
   "source": [
    "## Get all Holders of Kingdom and Empire Level Titles"
   ]
  },
  {
   "cell_type": "code",
   "execution_count": 3,
   "metadata": {
    "collapsed": true
   },
   "outputs": [],
   "source": [
    "pipeline = [\n",
    "    {\n",
    "        \"$match\" : {\"$or\" : [{\"title\" : {\"$regex\" : '^k_.*'}}, {\"title\" : {\"$regex\" : '^e_.*'}}]}\n",
    "    },\n",
    "    {\n",
    "        \"$unwind\" : \"$holders\"        \n",
    "    },\n",
    "    {\n",
    "        \"$lookup\": \n",
    "        {\n",
    "            \"from\" : \"characters\",\n",
    "            \"localField\" : \"holders.holder\",\n",
    "            \"foreignField\" : \"_id\",\n",
    "            \"as\" : \"title_holder\"\n",
    "        }\n",
    "    },\n",
    "    {\n",
    "        \"$unwind\" : \"$title_holder\"\n",
    "    },\n",
    "    \n",
    "    {\n",
    "        \"$project\" : {\"_id\" : 0, \"holder\" : \"$title_holder._id\", \"title\": 1, \"start_date\" :\"$holders.start_date\", \"end_date\" : \"$holders.end_date\"}\n",
    "    }\n",
    "]"
   ]
  },
  {
   "cell_type": "code",
   "execution_count": 4,
   "metadata": {
    "collapsed": true
   },
   "outputs": [],
   "source": [
    "title_holders_set = set()\n",
    "for title in titles.aggregate(pipeline):\n",
    "    title_holders_set.add(title['holder'])    "
   ]
  },
  {
   "cell_type": "markdown",
   "metadata": {},
   "source": [
    "## Get all Children of these Holders and all Spouses"
   ]
  },
  {
   "cell_type": "code",
   "execution_count": 5,
   "metadata": {
    "collapsed": true
   },
   "outputs": [],
   "source": [
    "characters = client.ck2.characters"
   ]
  },
  {
   "cell_type": "code",
   "execution_count": 6,
   "metadata": {
    "collapsed": true
   },
   "outputs": [],
   "source": [
    "pipeline = [\n",
    "    {\n",
    "        \"$unwind\" : \"$parents\"\n",
    "    },\n",
    "    {\n",
    "        \"$match\" : {\"$or\" : [{\"parents\" : {\"$in\" : list(title_holders_set)}}, {\"_id\" : {\"$in\" : list(title_holders_set)}} ]}\n",
    "    },\n",
    "    {\n",
    "        \"$unwind\" : \"$spouse\"\n",
    "    },\n",
    "    {\n",
    "        \"$lookup\" :\n",
    "        {\n",
    "            \"from\" : \"characters\",\n",
    "            \"localField\" : \"spouse\",\n",
    "            \"foreignField\" : \"_id\",\n",
    "            \"as\" : \"spouse_data\"\n",
    "        }\n",
    "    },\n",
    "    {\n",
    "        \"$unwind\" : \"$spouse_data\"        \n",
    "    },\n",
    "    {\n",
    "        \"$project\" : {'source' : \"$_id\", \"target\" : \"$spouse\", \"dynasty\" : \"$dnt\", \"spouse_dynasty\" : \"$spouse_data.dnt\" }\n",
    "    }\n",
    "]"
   ]
  },
  {
   "cell_type": "code",
   "execution_count": 7,
   "metadata": {
    "collapsed": true
   },
   "outputs": [],
   "source": [
    "marriage_edge_list = pd.DataFrame(list(characters.aggregate(pipeline)))\n",
    "\n",
    "marriage_edge_list = marriage_edge_list.dropna(axis=0, how=\"any\")\n",
    "marriage_edge_list = marriage_edge_list.reset_index(drop = True)\n",
    "\n",
    "#Will contain all title holders, all their children and the spouses of both\n",
    "total_chars = set(marriage_edge_list['source'].unique())\n",
    "total_chars = total_chars.union(set(marriage_edge_list['target'].unique()))\n",
    "\n",
    "total_dyns = set(marriage_edge_list['dynasty'].unique())\n",
    "total_dyns = total_dyns.union(set(marriage_edge_list['spouse_dynasty'].unique()))"
   ]
  },
  {
   "cell_type": "markdown",
   "metadata": {},
   "source": [
    "## Get all Dynasties involved"
   ]
  },
  {
   "cell_type": "code",
   "execution_count": 8,
   "metadata": {
    "collapsed": true
   },
   "outputs": [],
   "source": [
    "dynasties = client.ck2.dynasties\n",
    "\n",
    "dyns_as_ints = [int(i) for i in list(total_dyns)]"
   ]
  },
  {
   "cell_type": "code",
   "execution_count": 9,
   "metadata": {
    "collapsed": true
   },
   "outputs": [],
   "source": [
    "pipeline = [    \n",
    "    {\n",
    "        \"$match\" : {\"_id\" : {\"$in\" : dyns_as_ints}}\n",
    "    },\n",
    "    {\n",
    "        \"$project\" : {\"name\" : 1, \"culture\" : 1, \"religion\" : 1}\n",
    "    },\n",
    "    {\n",
    "        \"$sort\" : {\"name\" : 1}\n",
    "    }\n",
    "]"
   ]
  },
  {
   "cell_type": "code",
   "execution_count": 10,
   "metadata": {
    "collapsed": true
   },
   "outputs": [],
   "source": [
    "dyns = dynasties.aggregate(pipeline)"
   ]
  },
  {
   "cell_type": "markdown",
   "metadata": {},
   "source": [
    "## Build Network Graph"
   ]
  },
  {
   "cell_type": "code",
   "execution_count": 11,
   "metadata": {
    "collapsed": true
   },
   "outputs": [],
   "source": [
    "import networkx as nx\n",
    "import matplotlib.pyplot as plt"
   ]
  },
  {
   "cell_type": "code",
   "execution_count": 12,
   "metadata": {
    "collapsed": true
   },
   "outputs": [],
   "source": [
    "G = nx.Graph()\n",
    "\n",
    "for dyn in dyns:\n",
    "    if \"name\" in dyn.keys() and \"culture\" in dyn.keys() and \"religion\" in dyn.keys():\n",
    "        G.add_node(dyn[\"_id\"], name = dyn['name'], culture = dyn['culture'], religion = dyn[\"religion\"], titled = False)\n",
    "        \n",
    "nodes = list(G.nodes())\n",
    "        \n",
    "for title in titles.aggregate(pipeline):\n",
    "    if title[\"_id\"] in nodes:\n",
    "        G.node[title[\"_id\"]][\"titled\"] = True"
   ]
  },
  {
   "cell_type": "code",
   "execution_count": 13,
   "metadata": {
    "collapsed": true
   },
   "outputs": [],
   "source": [
    "complete_set = set()\n",
    "\n",
    "for i in range(len(marriage_edge_list)):\n",
    "    if((marriage_edge_list.loc[i, \"source\"], marriage_edge_list.loc[i, \"target\"]) not in complete_set): #if it hasn't be set already\n",
    "        if G.has_edge(marriage_edge_list.loc[i, \"dynasty\"], marriage_edge_list.loc[i, \"spouse_dynasty\"]):\n",
    "            G.edge[marriage_edge_list.loc[i, \"dynasty\"]][marriage_edge_list.loc[i, \"spouse_dynasty\"]][\"weight\"] +=1\n",
    "        else:               \n",
    "            G.add_edge(marriage_edge_list.loc[i, \"dynasty\"], marriage_edge_list.loc[i, \"spouse_dynasty\"], weight = 1)\n",
    "        complete_set.add( (marriage_edge_list.loc[i, \"target\"], marriage_edge_list.loc[i, \"source\"]) )\n",
    "            \n",
    "G.remove_nodes_from(nx.isolates(G)) #drop unconnected nodes       "
   ]
  },
  {
   "cell_type": "code",
   "execution_count": 14,
   "metadata": {
    "collapsed": true
   },
   "outputs": [],
   "source": [
    "nx.write_graphml(max(nx.connected_component_subgraphs(G), key=len), \"ck2-Royal-Marrige-Network.graphml\")"
   ]
  },
  {
   "cell_type": "markdown",
   "metadata": {},
   "source": [
    "The graphml file in the code above was opened in Gephi and the picture below was generated. Orange nodes are dynasties that have held Kingdom or Empire level titles while blue have not. Europe is on the left of the image, India is made up of the two clusters on the right wing. The bottom two clusters are Spain and North Africa, the middle is Greece and the Middle East and Eastern Europe/Mongol Empire make up the sparse patches across the top.\n",
    "\n",
    "Nodes are sized by PageRank and it is interesting to see that there are no large blue nodes. These would be non-titled dynasties that have married often to the immediate power brokers of a powerful title. Most likely a dynasty with many marriages into a title will eventually try to take control of the title or may inherit it. "
   ]
  },
  {
   "cell_type": "code",
   "execution_count": 15,
   "metadata": {},
   "outputs": [
    {
     "data": {
      "text/html": [
       "<img src=\"http://www.anquantarbuile.com/static/images/ck2/RoyalMarriageNetworkTitled.png\"/>"
      ],
      "text/plain": [
       "<IPython.core.display.Image object>"
      ]
     },
     "execution_count": 15,
     "metadata": {},
     "output_type": "execute_result"
    }
   ],
   "source": [
    "from IPython.display import Image\n",
    "from IPython.core.display import HTML \n",
    "Image(url= \"http://www.anquantarbuile.com/static/images/ck2/RoyalMarriageNetworkTitled.png\")"
   ]
  },
  {
   "cell_type": "code",
   "execution_count": null,
   "metadata": {
    "collapsed": true
   },
   "outputs": [],
   "source": []
  }
 ],
 "metadata": {
  "kernelspec": {
   "display_name": "Python 3",
   "language": "python",
   "name": "python3"
  },
  "language_info": {
   "codemirror_mode": {
    "name": "ipython",
    "version": 3
   },
   "file_extension": ".py",
   "mimetype": "text/x-python",
   "name": "python",
   "nbconvert_exporter": "python",
   "pygments_lexer": "ipython3",
   "version": "3.6.2"
  }
 },
 "nbformat": 4,
 "nbformat_minor": 2
}
