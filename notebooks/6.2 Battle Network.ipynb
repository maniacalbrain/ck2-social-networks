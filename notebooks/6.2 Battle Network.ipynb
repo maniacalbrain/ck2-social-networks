{
 "cells": [
  {
   "cell_type": "markdown",
   "metadata": {
    "collapsed": true
   },
   "source": [
    "# World Battle Network"
   ]
  },
  {
   "cell_type": "markdown",
   "metadata": {},
   "source": [
    "Like the marriage and kill networks the battle network joins up dynasties where a member of one has killed a member of the other. While India is still isolated the other dynasties form interesting patterns and relationships. While wars and battles are common deaths in battle aren't."
   ]
  },
  {
   "cell_type": "code",
   "execution_count": 1,
   "metadata": {
    "collapsed": true
   },
   "outputs": [],
   "source": [
    "from pymongo import MongoClient\n",
    "import pandas as pd\n",
    "import datetime"
   ]
  },
  {
   "cell_type": "code",
   "execution_count": 2,
   "metadata": {
    "collapsed": true
   },
   "outputs": [],
   "source": [
    "client = MongoClient()\n",
    "characters = client.ck2.characters"
   ]
  },
  {
   "cell_type": "markdown",
   "metadata": {},
   "source": [
    "## Kill Network"
   ]
  },
  {
   "cell_type": "code",
   "execution_count": 3,
   "metadata": {
    "collapsed": true
   },
   "outputs": [],
   "source": [
    "pipeline = [\n",
    "    {\n",
    "        \"$match\" : {\"c_d\" : \"death_battle\"}\n",
    "    },\n",
    "    {\n",
    "        \"$lookup\" :\n",
    "        {\n",
    "            \"from\" : \"dynasties\",\n",
    "            \"localField\" : \"dnt\",\n",
    "            \"foreignField\" : \"_id\",\n",
    "            \"as\" : \"dynasty\"\n",
    "        }\n",
    "    },\n",
    "    {\n",
    "        \"$unwind\" : \"$dynasty\"        \n",
    "    },    \n",
    "    {\n",
    "        \"$lookup\" :\n",
    "        {\n",
    "            \"from\" : \"characters\",\n",
    "            \"localField\" : \"killer\",\n",
    "            \"foreignField\" : \"_id\",\n",
    "            \"as\" : \"killer_data\"\n",
    "        }\n",
    "    },\n",
    "    {\n",
    "        \"$unwind\" : \"$killer_data\"        \n",
    "    },\n",
    "    {\n",
    "        \"$lookup\" :\n",
    "        {\n",
    "            \"from\" : \"dynasties\",\n",
    "            \"localField\" : \"killer_data.dnt\",\n",
    "            \"foreignField\" : \"_id\",\n",
    "            \"as\" : \"killer_dyn\"\n",
    "        }\n",
    "    },\n",
    "    {\n",
    "        \"$unwind\" : \"$killer_dyn\"        \n",
    "    },\n",
    "    #{\n",
    "    #    \"$match\" : {\"$or\" : [ {\"dynasty.culture\" : \"irish\"}, {\"killer_dyn.culture\" : \"irish\"}, {\"culture\" : \"irish\"}, {\"killer_data.culture\" : \"irish\"}] }\n",
    "    #},\n",
    "    {\"$project\" : {\"name\" : \"$bn\", \"dynasty\" : \"$dynasty._id\", \"killer\" : \"$killer_data.bn\", \"killer_dynasty\" : \"$killer_dyn._id\"}},\n",
    "    #{\"$limit\" : 20}\n",
    "]"
   ]
  },
  {
   "cell_type": "code",
   "execution_count": 4,
   "metadata": {
    "collapsed": true
   },
   "outputs": [],
   "source": [
    "karl = characters.aggregate(pipeline)"
   ]
  },
  {
   "cell_type": "code",
   "execution_count": 5,
   "metadata": {
    "collapsed": true
   },
   "outputs": [],
   "source": [
    "kill_df = pd.DataFrame(list(karl))"
   ]
  },
  {
   "cell_type": "markdown",
   "metadata": {},
   "source": [
    "## Get all Dynasties involved"
   ]
  },
  {
   "cell_type": "code",
   "execution_count": 6,
   "metadata": {
    "collapsed": true
   },
   "outputs": [],
   "source": [
    "total_dyns = set(kill_df['dynasty'].unique())\n",
    "total_dyns = total_dyns.union(set(kill_df['killer_dynasty'].unique()))\n",
    "total_dyns_as_ints = [int(i) for i in list(total_dyns)]"
   ]
  },
  {
   "cell_type": "code",
   "execution_count": 7,
   "metadata": {
    "collapsed": true
   },
   "outputs": [],
   "source": [
    "dynasties = client.ck2.dynasties\n",
    "\n",
    "pipeline = [    \n",
    "    {\n",
    "        \"$match\" : {\"_id\" : {\"$in\" : total_dyns_as_ints}}\n",
    "    },\n",
    "    {\n",
    "        \"$project\" : {\"name\" : 1, \"religion\" : 1, \"culture\" : 1}\n",
    "    },\n",
    "    {\n",
    "        \"$sort\" : {\"name\" : 1}\n",
    "    }\n",
    "]"
   ]
  },
  {
   "cell_type": "code",
   "execution_count": 8,
   "metadata": {
    "collapsed": true
   },
   "outputs": [],
   "source": [
    "dyns = dynasties.aggregate(pipeline)"
   ]
  },
  {
   "cell_type": "markdown",
   "metadata": {},
   "source": [
    "# Build a Network Graph"
   ]
  },
  {
   "cell_type": "code",
   "execution_count": 9,
   "metadata": {
    "collapsed": true
   },
   "outputs": [],
   "source": [
    "import networkx as nx\n",
    "import matplotlib.pyplot as plt"
   ]
  },
  {
   "cell_type": "code",
   "execution_count": 10,
   "metadata": {
    "collapsed": true
   },
   "outputs": [],
   "source": [
    "G = nx.Graph()\n",
    "\n",
    "for dyn in dyns:\n",
    "    if \"name\" in dyn and \"religion\" in dyn and \"culture\" in dyn: #needs to be added if building the full graph, a family with no name gets in somehow\n",
    "        G.add_node(dyn[\"_id\"], name = dyn['name'], culture = dyn['culture'], religion = dyn['religion'])"
   ]
  },
  {
   "cell_type": "code",
   "execution_count": 11,
   "metadata": {
    "collapsed": true
   },
   "outputs": [],
   "source": [
    "#complete_set = set()\n",
    "\n",
    "for i in range(len(kill_df)):\n",
    "    if G.has_edge(kill_df.loc[i, \"killer_dynasty\"], kill_df.loc[i, \"dynasty\"]):\n",
    "        G.edge[kill_df.loc[i, \"killer_dynasty\"]][kill_df.loc[i, \"dynasty\"]][\"weight\"] +=1\n",
    "    else:\n",
    "        G.add_edge(kill_df.loc[i, \"killer_dynasty\"], kill_df.loc[i, \"dynasty\"], weight = 1)\n",
    "\n",
    "G.remove_nodes_from(nx.isolates(G)) #drop unconnected nodes       "
   ]
  },
  {
   "cell_type": "code",
   "execution_count": 12,
   "metadata": {
    "collapsed": true
   },
   "outputs": [],
   "source": [
    "nx.write_graphml(max(nx.connected_component_subgraphs(G), key=len), \"ck2-Battle-Kill-Network.graphml\")"
   ]
  },
  {
   "cell_type": "markdown",
   "metadata": {},
   "source": [
    "The graphml file in the code above was opened in Gephi and the picture below was generated. The nodes are colored by religion. India is in the top right and the green nodes are Hindu.  The blue nodes are Islamic and the orange are Catholic. The large pink nodes in the bottom right is the Baltic Pagen Penikis dynasty which conquers Finland and Rus. "
   ]
  },
  {
   "cell_type": "code",
   "execution_count": 13,
   "metadata": {},
   "outputs": [
    {
     "data": {
      "text/html": [
       "<img src=\"http://www.anquantarbuile.com/static/images/ck2/BattleNetworkReligion.png\"/>"
      ],
      "text/plain": [
       "<IPython.core.display.Image object>"
      ]
     },
     "execution_count": 13,
     "metadata": {},
     "output_type": "execute_result"
    }
   ],
   "source": [
    "from IPython.display import Image\n",
    "from IPython.core.display import HTML \n",
    "Image(url= \"http://www.anquantarbuile.com/static/images/ck2/BattleNetworkReligion.png\")"
   ]
  },
  {
   "cell_type": "code",
   "execution_count": null,
   "metadata": {
    "collapsed": true
   },
   "outputs": [],
   "source": []
  }
 ],
 "metadata": {
  "kernelspec": {
   "display_name": "Python 3",
   "language": "python",
   "name": "python3"
  },
  "language_info": {
   "codemirror_mode": {
    "name": "ipython",
    "version": 3
   },
   "file_extension": ".py",
   "mimetype": "text/x-python",
   "name": "python",
   "nbconvert_exporter": "python",
   "pygments_lexer": "ipython3",
   "version": "3.6.2"
  }
 },
 "nbformat": 4,
 "nbformat_minor": 2
}
